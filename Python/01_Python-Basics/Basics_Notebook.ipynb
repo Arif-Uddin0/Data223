{
 "cells": [
  {
   "attachments": {},
   "cell_type": "markdown",
   "metadata": {},
   "source": [
    "# Data Types"
   ]
  },
  {
   "cell_type": "code",
   "execution_count": null,
   "metadata": {},
   "outputs": [],
   "source": [
    "# Integer example\n",
    "x = 7\n",
    "print(x)\n",
    "\n",
    "# Float example\n",
    "y = 3.14\n",
    "print(y)\n",
    "\n",
    "# Boolean example\n",
    "z = True\n",
    "print(z)\n",
    "\n",
    "# String example\n",
    "name = \"John\"\n",
    "print(name)\n",
    "\n",
    "# List example\n",
    "fruits = [\"apple\", \"banana\", \"cherry\"]\n",
    "print(fruits)\n",
    "\n",
    "# Tuple example\n",
    "numbers = (1, 2, 3)\n",
    "print(numbers)\n",
    "\n",
    "# Set example\n",
    "my_set = {1, 2, 3}\n",
    "print(my_set)\n",
    "\n",
    "# Dictionary example\n",
    "person = {\"name\": \"John\", \"age\": 30, \"city\": \"New York\"}\n",
    "print(person)"
   ]
  },
  {
   "attachments": {},
   "cell_type": "markdown",
   "metadata": {},
   "source": [
    "# Numbers & Math Operators"
   ]
  },
  {
   "cell_type": "code",
   "execution_count": null,
   "metadata": {},
   "outputs": [],
   "source": [
    "# Addition example\n",
    "a = 2 + 3\n",
    "print(a) # Output: 5\n",
    "\n",
    "# Subtraction example\n",
    "b = 5 - 2\n",
    "print(b) # Output: 3\n",
    "\n",
    "# Multiplication example\n",
    "c = 2 * 3\n",
    "print(c) # Output: 6\n",
    "\n",
    "# Division example\n",
    "d = 6 / 2\n",
    "print(d) # Output: 3.0 (Note that this will return a float)\n",
    "\n",
    "# Integer Division example\n",
    "e = 7 // 2\n",
    "print(e) # Output: 3 (Note that this returns an integer)\n",
    "\n",
    "# Modulo example\n",
    "f = 7 % 2\n",
    "print(f) # Output: 1 (Note that this returns the remainder)\n",
    "\n",
    "# Exponentiation example\n",
    "g = 2 ** 3\n",
    "print(g) # Output: 8\n"
   ]
  },
  {
   "attachments": {},
   "cell_type": "markdown",
   "metadata": {},
   "source": [
    "# String Basics"
   ]
  },
  {
   "cell_type": "code",
   "execution_count": null,
   "metadata": {},
   "outputs": [],
   "source": [
    "# Creating a string using single quotes:\n",
    "name = 'Arif'\n",
    "\n",
    "# Creating a string using double quotes:\n",
    "message = \"Hello World!\"\n",
    "\n",
    "# Concatenating two strings:\n",
    "greeting = \"Hello\"\n",
    "name = \"Arif\"\n",
    "message = greeting + \" \" + name\n",
    "print(message) # Output: \"Hello Arif\"\n",
    "\n",
    "# Accessing individual characters in a string using indexing:\n",
    "name = \"Arif\"\n",
    "first_letter = name[0]\n",
    "print(first_letter) # Output: \"A\"\n",
    "\n",
    "# Slicing a string to access a substring:\n",
    "name = \"Arif\"\n",
    "first_two_letters = name[0:2]\n",
    "print(first_two_letters) # Output: \"Ar\"\n",
    "\n",
    "# Formatting a string using placeholders:\n",
    "name = \"Arif\"\n",
    "age = 27\n",
    "message = \"My name is {} and I'm {} years old\".format(name, age)\n",
    "print(message) # Output: \"My name is Arif and I'm 27 years old\"\n",
    "\n",
    "# Formatting a string using f-strings (available in Python 3.6 and above):\n",
    "name = \"Arif\"\n",
    "age = 27\n",
    "message = f\"My name is {name} and I'm {age} years old\"\n",
    "print(message) # Output: \"My name is Arif and I'm 27 years old\"\n"
   ]
  },
  {
   "attachments": {},
   "cell_type": "markdown",
   "metadata": {},
   "source": [
    "# Boolean & Equality Operators"
   ]
  },
  {
   "cell_type": "code",
   "execution_count": null,
   "metadata": {},
   "outputs": [],
   "source": [
    "# Boolean values: True and False\n",
    "a = True\n",
    "b = False\n",
    "\n",
    "# Equality operator: ==\n",
    "x = 5\n",
    "y = 10\n",
    "print(x == y) # Output: False\n",
    "\n",
    "# Inequality operator: !=\n",
    "x = 5\n",
    "y = 10\n",
    "print(x != y) # Output: True\n",
    "\n",
    "# Greater than operator: >\n",
    "x = 5\n",
    "y = 10\n",
    "print(y > x) # Output: True\n",
    "\n",
    "# Less than operator: <\n",
    "x = 5\n",
    "y = 10\n",
    "print(x < y) # Output: True\n",
    "\n",
    "# Greater than or equal to operator: >=\n",
    "x = 5\n",
    "y = 10\n",
    "print(y >= x) # Output: True\n",
    "\n",
    "# Less than or equal to operator: <=\n",
    "x = 5\n",
    "y = 10\n",
    "print(x <= y) # Output: True"
   ]
  },
  {
   "attachments": {},
   "cell_type": "markdown",
   "metadata": {},
   "source": [
    "# Variables"
   ]
  },
  {
   "cell_type": "code",
   "execution_count": null,
   "metadata": {},
   "outputs": [],
   "source": [
    "# Declaring and initializing a variable\n",
    "x = 5\n",
    "\n",
    "# Assigning a new value to a variable\n",
    "x = 10\n",
    "\n",
    "# Declaring and initializing multiple variables at once\n",
    "a, b, c = 1, 2, 3\n",
    "\n",
    "# Assigning the same value to multiple variables at once\n",
    "a = b = c = 0\n",
    "\n",
    "# Swapping the values of two variables\n",
    "x = 5\n",
    "y = 10\n",
    "x, y = y, x\n",
    "\n",
    "# Using constants (variables whose value does not change)\n",
    "PI = 3.14159\n",
    "TAX_RATE = 0.08"
   ]
  },
  {
   "attachments": {},
   "cell_type": "markdown",
   "metadata": {},
   "source": [
    "# Concatenation & Escape Characters"
   ]
  },
  {
   "cell_type": "code",
   "execution_count": null,
   "metadata": {},
   "outputs": [],
   "source": [
    "# Concatenating strings using the + operator\n",
    "first_name = \"Arif\"\n",
    "last_name = \"Uddin\"\n",
    "full_name = first_name + \" \" + last_name\n",
    "print(full_name) # Output: \"Arif Uddin\"\n",
    "\n",
    "# Concatenating strings with other data types\n",
    "age = 27\n",
    "message = \"My name is \" + full_name + \" and I'm \" + str(age) + \" years old\"\n",
    "print(message) # Output: \"My name is Arif Uddin and I'm 27 years old\"\n",
    "\n",
    "# Using escape characters to include special characters in a string\n",
    "escaped_string = \"This is a \\\"quote\\\"\"\n",
    "print(escaped_string) # Output: 'This is a \"quote\"'\n",
    "\n",
    "# Using the newline character to split a string across multiple lines\n",
    "multi_line_string = \"This is a\\nmulti-line\\nstring\"\n",
    "print(multi_line_string)\n",
    "# Output:\n",
    "# This is a\n",
    "# multi-line\n",
    "# string"
   ]
  },
  {
   "attachments": {},
   "cell_type": "markdown",
   "metadata": {},
   "source": [
    "# String Methods"
   ]
  },
  {
   "cell_type": "code",
   "execution_count": null,
   "metadata": {},
   "outputs": [],
   "source": [
    "# Converting a string to all uppercase\n",
    "text = \"hello, world!\"\n",
    "uppercase_text = text.upper()\n",
    "print(uppercase_text) # Output: \"HELLO, WORLD!\"\n",
    "\n",
    "# Converting a string to all lowercase\n",
    "text = \"HELLO, WORLD!\"\n",
    "lowercase_text = text.lower()\n",
    "print(lowercase_text) # Output: \"hello, world!\"\n",
    "\n",
    "# Replacing a substring within a string\n",
    "text = \"Hello, world!\"\n",
    "new_text = text.replace(\"Hello\", \"Hi\")\n",
    "print(new_text) # Output: \"Hi, world!\"\n",
    "\n",
    "# Finding the index of a substring within a string\n",
    "text = \"Hello, world!\"\n",
    "index = text.find(\"world\")\n",
    "print(index) # Output: 7\n",
    "\n",
    "# Removing whitespace from the beginning and end of a string\n",
    "text = \"    hello, world!    \"\n",
    "stripped_text = text.strip()\n",
    "print(stripped_text) # Output: \"hello, world!\"\n",
    "\n",
    "# Splitting a string into a list of substrings\n",
    "text = \"Hello, world!\"\n",
    "words = text.split(\",\")\n",
    "print(words) # Output: [\"Hello\", \" world!\"]"
   ]
  },
  {
   "attachments": {},
   "cell_type": "markdown",
   "metadata": {},
   "source": [
    "# Control Flow"
   ]
  },
  {
   "cell_type": "code",
   "execution_count": null,
   "metadata": {},
   "outputs": [],
   "source": [
    "# If statement\n",
    "x = 5\n",
    "if x > 0:\n",
    "    print(\"x is positive\") # Output: \"x is positive\"\n",
    "\n",
    "# If-else statement\n",
    "x = -5\n",
    "if x > 0:\n",
    "    print(\"x is positive\")\n",
    "else:\n",
    "    print(\"x is non-positive\") # Output: \"x is non-positive\"\n",
    "\n",
    "# If-elif-else statement\n",
    "x = 0\n",
    "if x > 0:\n",
    "    print(\"x is positive\")\n",
    "elif x < 0:\n",
    "    print(\"x is negative\")\n",
    "else:\n",
    "    print(\"x is zero\") # Output: \"x is zero\"\n",
    "\n",
    "# Break statement\n",
    "x = 0\n",
    "while True:\n",
    "    if x == 5:\n",
    "        break\n",
    "    print(x)\n",
    "    x += 1 # Output: 0, 1, 2, 3, 4\n",
    "\n",
    "# Continue statement\n",
    "for x in range(5):\n",
    "    if x == 2:\n",
    "        continue\n",
    "    print(x) # Output: 0, 1, 3, 4"
   ]
  },
  {
   "attachments": {},
   "cell_type": "markdown",
   "metadata": {},
   "source": [
    "# Collections"
   ]
  },
  {
   "cell_type": "code",
   "execution_count": null,
   "metadata": {},
   "outputs": [],
   "source": [
    "# List\n",
    "fruits = [\"apple\", \"banana\", \"cherry\"]\n",
    "print(fruits[0]) # Output: \"apple\"\n",
    "fruits.append(\"orange\")\n",
    "print(fruits) # Output: [\"apple\", \"banana\", \"cherry\", \"orange\"]\n",
    "\n",
    "# Tuple\n",
    "person = (\"John\", 30, \"New York\")\n",
    "print(person[1]) # Output: 30\n",
    "# person[1] = 40 -> This line will result in a TypeError because tuples are immutable\n",
    "\n",
    "# Dictionary\n",
    "person = {\"name\": \"John\", \"age\": 30, \"city\": \"New York\"}\n",
    "print(person[\"name\"]) # Output: \"John\"\n",
    "person[\"age\"] = 40\n",
    "print(person) # Output: {\"name\": \"John\", \"age\": 40, \"city\": \"New York\"}\n",
    "\n",
    "# Set\n",
    "fruits = {\"apple\", \"banana\", \"cherry\"}\n",
    "print(\"apple\" in fruits) # Output: True\n",
    "fruits.add(\"orange\")\n",
    "print(fruits) # Output: {\"apple\", \"banana\", \"cherry\", \"orange\"}"
   ]
  },
  {
   "attachments": {},
   "cell_type": "markdown",
   "metadata": {},
   "source": [
    "# Loops"
   ]
  },
  {
   "cell_type": "code",
   "execution_count": null,
   "metadata": {},
   "outputs": [],
   "source": [
    "# While loop\n",
    "x = 0\n",
    "while x < 5:\n",
    "    print(x)\n",
    "    x += 1 # Output: 0, 1, 2, 3, 4\n",
    "\n",
    "# For loop with range\n",
    "for i in range(5):\n",
    "    print(i) # Output: 0, 1, 2, 3, 4\n",
    "\n",
    "# For loop with iterable\n",
    "fruits = [\"apple\", \"banana\", \"cherry\"]\n",
    "for fruit in fruits:\n",
    "    print(fruit) # Output: \"apple\", \"banana\", \"cherry\"\n",
    "\n",
    "# Nested loops\n",
    "for i in range(3):\n",
    "    for j in range(2):\n",
    "        print(i, j) # Output: (0, 0), (0, 1), (1, 0), (1, 1), (2, 0), (2, 1)\n",
    "\n",
    "# Loop with break statement\n",
    "for i in range(5):\n",
    "    if i == 3:\n",
    "        break\n",
    "    print(i) # Output: 0, 1, 2\n",
    "\n",
    "# Loop with continue statement\n",
    "for i in range(5):\n",
    "    if i == 3:\n",
    "        continue\n",
    "    print(i) # Output: 0, 1, 2, 4"
   ]
  },
  {
   "attachments": {},
   "cell_type": "markdown",
   "metadata": {},
   "source": [
    "# Functions"
   ]
  },
  {
   "cell_type": "code",
   "execution_count": null,
   "metadata": {},
   "outputs": [],
   "source": [
    "# Function with no parameters\n",
    "def say_hello():\n",
    "    print(\"Hello!\")\n",
    "\n",
    "say_hello() # Output: \"Hello!\"\n",
    "\n",
    "# Function with parameters\n",
    "def greet(name):\n",
    "    print(\"Hello, \" + name + \"!\")\n",
    "\n",
    "greet(\"Alice\") # Output: \"Hello, Alice!\"\n",
    "\n",
    "# Function with default parameter value\n",
    "def greet(name=\"World\"):\n",
    "    print(\"Hello, \" + name + \"!\")\n",
    "\n",
    "greet() # Output: \"Hello, World!\"\n",
    "greet(\"Alice\") # Output: \"Hello, Alice!\"\n",
    "\n",
    "# Function with return value\n",
    "def square(x):\n",
    "    return x**2\n",
    "\n",
    "result = square(3)\n",
    "print(result) # Output: 9\n",
    "\n",
    "# Recursive function\n",
    "def factorial(x):\n",
    "    if x == 1:\n",
    "        return 1\n",
    "    else:\n",
    "        return x * factorial(x-1)\n",
    "\n",
    "result = factorial(5)\n",
    "print(result) # Output: 120"
   ]
  },
  {
   "attachments": {},
   "cell_type": "markdown",
   "metadata": {},
   "source": [
    "# Working with Files"
   ]
  },
  {
   "cell_type": "code",
   "execution_count": null,
   "metadata": {},
   "outputs": [],
   "source": [
    "# Writing to a file using \"w\" mode\n",
    "with open(\"output.txt\", \"w\") as f:\n",
    "    f.write(\"Hello, world!\\n\")\n",
    "    f.write(\"This is a test.\\n\")\n",
    "# The \"w\" mode opens the file for writing, and if the file already exists, it will be truncated (emptied).\n",
    "# If the file does not exist, it will be created.\n",
    "\n",
    "# Reading from a file using \"r\" mode\n",
    "with open(\"output.txt\", \"r\") as f:\n",
    "    content = f.read()\n",
    "    print(content) # Output: \"Hello, world!\\nThis is a test.\\n\"\n",
    "# The \"r\" mode opens the file for reading. If the file does not exist, an error will be raised.\n",
    "\n",
    "# Appending to a file using \"a\" mode\n",
    "with open(\"output.txt\", \"a\") as f:\n",
    "    f.write(\"Another line.\\n\")\n",
    "# The \"a\" mode opens the file for appending. If the file does not exist, it will be created.\n",
    "\n",
    "# Reading from a file line by line using iteration\n",
    "with open(\"output.txt\", \"r\") as f:\n",
    "    for line in f:\n",
    "        print(line) # Output: \"Hello, world!\\n\", \"This is a test.\\n\", \"Another line.\\n\"\n",
    "# Iterating over the file object using a for loop allows us to read the file line by line.\n",
    "\n",
    "# Reading from a file using readline() method\n",
    "with open(\"output.txt\", \"r\") as f:\n",
    "    line1 = f.readline()\n",
    "    line2 = f.readline()\n",
    "    print(line1) # Output: \"Hello, world!\\n\"\n",
    "    print(line2) # Output: \"This is a test.\\n\"\n",
    "# The readline() method reads a single line from the file.\n",
    "\n",
    "# Checking if a file exists using os.path.exists()\n",
    "import os\n",
    "if os.path.exists(\"output.txt\"):\n",
    "    print(\"The file exists.\")\n",
    "else:\n",
    "    print(\"The file does not exist.\")\n",
    "# The os.path.exists() function returns True if the file exists, False otherwise."
   ]
  },
  {
   "attachments": {},
   "cell_type": "markdown",
   "metadata": {},
   "source": [
    "# Dictionaries"
   ]
  },
  {
   "cell_type": "code",
   "execution_count": null,
   "metadata": {},
   "outputs": [],
   "source": [
    "# Create a dictionary\n",
    "person = {\"name\": \"John\", \"age\": 30, \"city\": \"New York\"}\n",
    "\n",
    "# Access dictionary values by key\n",
    "print(person[\"name\"]) # Output: \"John\"\n",
    "\n",
    "# Add a new key-value pair\n",
    "person[\"gender\"] = \"Male\"\n",
    "print(person) # Output: {\"name\": \"John\", \"age\": 30, \"city\": \"New York\", \"gender\": \"Male\"}\n",
    "\n",
    "# Remove a key-value pair\n",
    "del person[\"city\"]\n",
    "print(person) # Output: {\"name\": \"John\", \"age\": 30, \"gender\": \"Male\"}"
   ]
  },
  {
   "attachments": {},
   "cell_type": "markdown",
   "metadata": {},
   "source": [
    "# List Comprehension"
   ]
  },
  {
   "cell_type": "code",
   "execution_count": null,
   "metadata": {},
   "outputs": [],
   "source": [
    "# Create a list of numbers\n",
    "numbers = [1, 2, 3, 4, 5]\n",
    "\n",
    "# Create a new list with the squares of the numbers\n",
    "squares = [x**2 for x in numbers]\n",
    "\n",
    "print(squares) # Output: [1, 4, 9, 16, 25]\n",
    "\n",
    "# Create a new list with the even numbers from the original list\n",
    "even_numbers = [x for x in numbers if x % 2 == 0]\n",
    "\n",
    "print(even_numbers) # Output: [2, 4]"
   ]
  },
  {
   "attachments": {},
   "cell_type": "markdown",
   "metadata": {},
   "source": [
    "# Lambda Functions"
   ]
  },
  {
   "cell_type": "code",
   "execution_count": null,
   "metadata": {},
   "outputs": [],
   "source": [
    "# lambda arguments: expression\n",
    "\n",
    "# Define a lambda function to square a number\n",
    "square = lambda x: x**2\n",
    "\n",
    "print(square(3)) # Output: 9\n",
    "\n",
    "# Use a lambda function with map() to square each element in a list\n",
    "numbers = [1, 2, 3, 4, 5]\n",
    "squares = list(map(lambda x: x**2, numbers))\n",
    "\n",
    "print(squares) # Output: [1, 4, 9, 16, 25]"
   ]
  },
  {
   "attachments": {},
   "cell_type": "markdown",
   "metadata": {},
   "source": [
    "# Modules and Packages"
   ]
  },
  {
   "cell_type": "code",
   "execution_count": null,
   "metadata": {},
   "outputs": [],
   "source": [
    "# Modules\n",
    "# In my_module.py\n",
    "def hello():\n",
    "    print(\"Hello, world!\")\n",
    "\n",
    "# In main.py\n",
    "import my_module\n",
    "my_module.hello() # Output: \"Hello, world!\"\n",
    "\n",
    "# Packages\n",
    "# Define a package called \"my_package\" that contains two modules and an __init__.py file\n",
    "# my_package/\n",
    "#     __init__.py\n",
    "#     module1.py\n",
    "#     module2.py\n",
    "\n",
    "# Import the \"add\" function from the \"module1\" module of the \"my_package\" package\n",
    "from my_package import module1\n",
    "\n",
    "result = module1.add(2, 3)\n",
    "print(result) # Output: 5"
   ]
  },
  {
   "attachments": {},
   "cell_type": "markdown",
   "metadata": {},
   "source": [
    "# Exception Handling"
   ]
  },
  {
   "cell_type": "code",
   "execution_count": null,
   "metadata": {},
   "outputs": [],
   "source": [
    "try:\n",
    "    # This code may raise an exception\n",
    "    x = int(input(\"Enter a number: \"))\n",
    "    y = int(input(\"Enter another number: \"))\n",
    "    result = x / y\n",
    "    print(\"Result:\", result)\n",
    "except ZeroDivisionError as e:\n",
    "    # Handle the \"division by zero\" error\n",
    "    print(\"Error:\", e)\n",
    "except ValueError as e:\n",
    "    # Handle the \"invalid literal for int()\" error\n",
    "    print(\"Error:\", e)\n",
    "except Exception as e:\n",
    "    # Handle any other type of exception\n",
    "    print(\"Error:\", e)\n",
    "finally:\n",
    "    # This code is always executed, whether an exception was raised or not\n",
    "    print(\"End of program.\")"
   ]
  },
  {
   "attachments": {},
   "cell_type": "markdown",
   "metadata": {},
   "source": [
    "ZeroDivisionError: Raised when attempting to divide by zero.\n",
    "\n",
    "ValueError: Raised when passing an argument with an invalid value to a function.\n",
    "\n",
    "TypeError: Raised when passing an argument with the wrong type to a function.\n",
    "\n",
    "NameError: Raised when trying to access a variable that does not exist.\n",
    "\n",
    "FileNotFoundError: Raised when trying to access a file that does not exist."
   ]
  },
  {
   "attachments": {},
   "cell_type": "markdown",
   "metadata": {},
   "source": [
    "# Class "
   ]
  },
  {
   "cell_type": "code",
   "execution_count": null,
   "metadata": {},
   "outputs": [],
   "source": [
    "class Person:\n",
    "    def __init__(self, name, age):\n",
    "        self.name = name\n",
    "        self.age = age\n",
    "\n",
    "    def greet(self):\n",
    "        print(\"Hello, my name is \" + self.name + \" and I'm \" + str(self.age) + \" years old.\")\n",
    "\n",
    "person1 = Person(\"Arif\", 27)\n",
    "person1.greet() # Output: \"Hello, my name is Arif and I'm 27 years old.\"\n",
    "\n",
    "person2 = Person(\"John\", 25)\n",
    "person2.greet() # Output: \"Hello, my name is John and I'm 25 years old.\""
   ]
  },
  {
   "attachments": {},
   "cell_type": "markdown",
   "metadata": {},
   "source": [
    "## Class Definition"
   ]
  },
  {
   "cell_type": "code",
   "execution_count": null,
   "metadata": {},
   "outputs": [],
   "source": [
    "class ClassName:\n",
    "    # class attributes\n",
    "    attribute1 = value1\n",
    "    attribute2 = value2\n",
    "    \n",
    "    # constructor\n",
    "    def __init__(self, parameter1, parameter2):\n",
    "        self.parameter1 = parameter1\n",
    "        self.parameter2 = parameter2\n",
    "    \n",
    "    # instance method\n",
    "    def instance_method(self):\n",
    "        # code here\n",
    "    \n",
    "    # class method\n",
    "    @classmethod\n",
    "    def class_method(cls):\n",
    "        # code here\n",
    "    \n",
    "    # static method\n",
    "    @staticmethod\n",
    "    def static_method():\n",
    "        # code here"
   ]
  },
  {
   "attachments": {},
   "cell_type": "markdown",
   "metadata": {},
   "source": [
    "## Create Objects"
   ]
  },
  {
   "cell_type": "code",
   "execution_count": null,
   "metadata": {},
   "outputs": [],
   "source": [
    "object_name = ClassName(argument1, argument2)"
   ]
  },
  {
   "attachments": {},
   "cell_type": "markdown",
   "metadata": {},
   "source": [
    "## Accessing Atributes and Methods"
   ]
  },
  {
   "cell_type": "code",
   "execution_count": null,
   "metadata": {},
   "outputs": [],
   "source": [
    "# accessing attributes\n",
    "object_name.attribute1\n",
    "\n",
    "# calling instance methods\n",
    "object_name.instance_method()\n",
    "\n",
    "# calling class methods\n",
    "ClassName.class_method()\n",
    "\n",
    "# calling static methods\n",
    "ClassName.static_method()"
   ]
  },
  {
   "attachments": {},
   "cell_type": "markdown",
   "metadata": {},
   "source": [
    "## Inheritance"
   ]
  },
  {
   "cell_type": "code",
   "execution_count": null,
   "metadata": {},
   "outputs": [],
   "source": [
    "class ChildClass(ParentClass):\n",
    "    # constructor\n",
    "    def __init__(self, parameter1, parameter2, parameter3):\n",
    "        super().__init__(parameter1, parameter2)\n",
    "        self.parameter3 = parameter3\n",
    "    \n",
    "    # overriding method\n",
    "    def parent_method(self):\n",
    "        # code here\n",
    "    \n",
    "    # additional method\n",
    "    def child_method(self):\n",
    "        # code here"
   ]
  },
  {
   "attachments": {},
   "cell_type": "markdown",
   "metadata": {},
   "source": [
    "## Polymorphism"
   ]
  },
  {
   "cell_type": "code",
   "execution_count": null,
   "metadata": {},
   "outputs": [],
   "source": [
    "class Animal:\n",
    "    def speak(self):\n",
    "        pass\n",
    "\n",
    "class Dog(Animal):\n",
    "    def speak(self):\n",
    "        return \"Woof!\"\n",
    "\n",
    "class Cat(Animal):\n",
    "    def speak(self):\n",
    "        return \"Meow!\"\n",
    "\n",
    "def animal_speak(animal):\n",
    "    print(animal.speak())\n",
    "\n",
    "dog = Dog()\n",
    "cat = Cat()\n",
    "\n",
    "animal_speak(dog) # prints \"Woof!\"\n",
    "animal_speak(cat) # prints \"Meow!\""
   ]
  },
  {
   "attachments": {},
   "cell_type": "markdown",
   "metadata": {},
   "source": [
    "# Generators"
   ]
  },
  {
   "attachments": {},
   "cell_type": "markdown",
   "metadata": {},
   "source": [
    "Generators are a way to create iterable objects in Python that do not store their entire contents in memory. This can be useful when working with large datasets."
   ]
  },
  {
   "cell_type": "code",
   "execution_count": null,
   "metadata": {},
   "outputs": [],
   "source": [
    "def fibonacci():\n",
    "    a, b = 0, 1\n",
    "    while True:\n",
    "        yield a\n",
    "        a, b = b, a + b\n",
    "\n",
    "f = fibonacci()\n",
    "\n",
    "for i in range(10):\n",
    "    print(next(f))\n"
   ]
  },
  {
   "attachments": {},
   "cell_type": "markdown",
   "metadata": {},
   "source": [
    "# Lambda with Mapping\n",
    "\n",
    "We use the map() function to apply a lambda function to each element of the list. The lambda function takes an input x and returns the square of x.\n",
    "\n",
    "The map() function returns an iterator, which we convert to a list using the list() function. The resulting list squared_numbers contains the squares of the original numbers.\n",
    "\n",
    "When we print squared_numbers, we get [1, 4, 9, 16, 25], which are the squared values of the numbers in the original list."
   ]
  },
  {
   "cell_type": "code",
   "execution_count": null,
   "metadata": {},
   "outputs": [],
   "source": [
    "numbers = [1, 2, 3, 4, 5]\n",
    "\n",
    "squared_numbers = list(map(lambda x: x**2, numbers))\n",
    "\n",
    "print(squared_numbers)\n"
   ]
  }
 ],
 "metadata": {
  "kernelspec": {
   "display_name": "Python 3 (ipykernel)",
   "language": "python",
   "name": "python3"
  },
  "language_info": {
   "codemirror_mode": {
    "name": "ipython",
    "version": 3
   },
   "file_extension": ".py",
   "mimetype": "text/x-python",
   "name": "python",
   "nbconvert_exporter": "python",
   "pygments_lexer": "ipython3",
   "version": "3.10.4"
  }
 },
 "nbformat": 4,
 "nbformat_minor": 2
}
