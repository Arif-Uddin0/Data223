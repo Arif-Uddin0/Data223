{
 "cells": [
  {
   "attachments": {},
   "cell_type": "markdown",
   "metadata": {},
   "source": [
    "# TDD \n",
    "stands for Test-Driven Development. It is a software development approach that emphasizes writing tests before writing the actual code. The TDD process typically follows these steps:\n",
    "\n",
    "1. Write a Test: Initially, a small test is written to lay out the expected behaviour of the code. This test should fail initially, as the corresponding code has not been implemented yet.\n",
    "\n",
    "2. Write the Code: The minimal amount of code necessary to make the test pass is implemented. The focus is on writing code that fulfills the requirements of the test.\n",
    "\n",
    "3. Run the Test: The newly written test, along with all existing tests, is run to verify that the implemented code works as expected. The test should pass if the code is correct.\n",
    "\n",
    "4. Refactor: After the test has passed, the code is refactored to improve its design, readability, and maintainability. The goal is to improve the code without changing its behavior.\n",
    "\n",
    "5. Repeat: The process is repeated for the next desired feature or behavior. Additional tests are written, the code is implemented, and the tests are run and refactored as needed.\n",
    "\n",
    "TDD promotes a cycle of writing tests, implementing code to pass the tests, and then refactoring the code. This approach helps ensure that the code is thoroughly tested, increases the code's reliability, and encourages modular and maintainable code design.\n",
    "\n",
    "By following TDD practices, developers gain confidence in the correctness of their code, as each piece of code is accompanied by a corresponding test case. It also helps identify and fix issues early in the development process, reducing the chances of introducing bugs and making the code more robust.\n",
    "\n",
    "Overall, TDD is a methodology that promotes a disciplined and iterative approach to software development, with a strong focus on testing and delivering high-quality code."
   ]
  },
  {
   "attachments": {},
   "cell_type": "markdown",
   "metadata": {},
   "source": [
    "\n",
    "## Definition:\n",
    "\n",
    "Test-Driven Development (TDD) is a software development approach where tests are written before writing the actual code. \n",
    "\n",
    "The development cycle involves three steps: write a failing test, write the minimum code required to pass the test, and refactor the code."
   ]
  },
  {
   "attachments": {},
   "cell_type": "markdown",
   "metadata": {},
   "source": [
    "## Uses:\n",
    "\n",
    "Ensures that the code meets the desired requirements and specifications.\n",
    "\n",
    "Provides a safety net for refactoring and modifying existing code.\n",
    "\n",
    "Encourages better design by focusing on small, testable units of code.\n",
    "\n",
    "Promotes collaboration between developers and testers.\n",
    "\n",
    "Reduces the number of bugs and improves code quality."
   ]
  },
  {
   "attachments": {},
   "cell_type": "markdown",
   "metadata": {},
   "source": [
    "## Advantages:\n",
    "\n",
    "Improved code quality: TDD encourages writing modular, testable, and maintainable code.\n",
    "\n",
    "Faster feedback loop: Tests provide immediate feedback on code changes, allowing for quick identification and resolution of issues.\n",
    "\n",
    "Easier debugging: When a test fails, it provides a clear indication of the problem area, making debugging faster and more efficient.\n",
    "\n",
    "Refactoring support: With a solid test suite, developers can refactor code with confidence, knowing that any regressions will be caught by the tests.\n",
    "\n",
    "Documentation: Tests serve as executable documentation, illustrating how the code is expected to behave."
   ]
  },
  {
   "attachments": {},
   "cell_type": "markdown",
   "metadata": {},
   "source": [
    "## Disadvantages:\n",
    "\n",
    "Initial learning curve: Adopting TDD may require a learning curve for developers unfamiliar with the approach.\n",
    "\n",
    "Time-consuming: Writing tests before implementing code can take more time upfront. However, it often saves time in the long run by reducing debugging and maintenance efforts.\n",
    "\n",
    "Not suitable for all projects: TDD may be less suitable for projects with rapidly changing requirements or prototypes where quick iterations are more important."
   ]
  },
  {
   "cell_type": "code",
   "execution_count": null,
   "metadata": {},
   "outputs": [],
   "source": [
    "# test_calc.py with pytest\n",
    "\n",
    "def add(x, y):\n",
    "    return x + y\n",
    "\n",
    "def test_add():\n",
    "    assert add(2, 3) == 5\n",
    "    assert add(1, -1) == 0\n",
    "    assert add(0, 0) == 0\n",
    "    assert add(-1, -1) == -2\n"
   ]
  },
  {
   "cell_type": "code",
   "execution_count": null,
   "metadata": {},
   "outputs": [],
   "source": [
    "# test_calc.py with unittest\n",
    "\n",
    "import unittest\n",
    "\n",
    "def multiply(x, y):\n",
    "    return x * y\n",
    "\n",
    "class MultiplyTestCase(unittest.TestCase):\n",
    "    def test_multiply(self):\n",
    "        self.assertEqual(multiply(2, 3), 6)\n",
    "        self.assertEqual(multiply(1, -1), -1)\n",
    "        self.assertEqual(multiply(0, 5), 0)\n",
    "        self.assertEqual(multiply(-2, -2), 4)\n",
    "\n",
    "if __name__ == '__main__':\n",
    "    unittest.main()\n"
   ]
  }
 ],
 "metadata": {
  "kernelspec": {
   "display_name": ".venv",
   "language": "python",
   "name": "python3"
  },
  "language_info": {
   "name": "python",
   "version": "3.10.4"
  },
  "orig_nbformat": 4,
  "vscode": {
   "interpreter": {
    "hash": "4afc74442b26128f65517de810b949aa59736785f7f142ff4812f5c9c9fb83a5"
   }
  }
 },
 "nbformat": 4,
 "nbformat_minor": 2
}
