{
 "cells": [
  {
   "attachments": {},
   "cell_type": "markdown",
   "metadata": {},
   "source": [
    "# Python"
   ]
  },
  {
   "attachments": {},
   "cell_type": "markdown",
   "metadata": {},
   "source": [
    "Functions\n",
    "\n",
    "A function is a block of reusable code that performs a specific task. It helps in organizing code and makes it more readable and easier to maintain. A function can accept input arguments and return a value."
   ]
  },
  {
   "cell_type": "code",
   "execution_count": null,
   "metadata": {},
   "outputs": [],
   "source": [
    "def function_name(arg1, arg2):\n",
    "    # function body\n",
    "    return result"
   ]
  },
  {
   "attachments": {},
   "cell_type": "markdown",
   "metadata": {},
   "source": [
    "Files\n",
    "\n",
    "File handling is an important part of any programming language. Python provides a built-in module called open() to work with files."
   ]
  },
  {
   "cell_type": "code",
   "execution_count": null,
   "metadata": {},
   "outputs": [],
   "source": [
    "# open a file in read mode\n",
    "f = open(\"file.txt\", \"r\")\n",
    "# read the contents of the file\n",
    "data = f.read()\n",
    "# close the file\n",
    "f.close()\n",
    "\n",
    "# open a file in write mode\n",
    "f = open(\"file.txt\", \"w\")\n",
    "# write to the file\n",
    "f.write(\"Hello, world!\")\n",
    "# close the file\n",
    "f.close()"
   ]
  },
  {
   "attachments": {},
   "cell_type": "markdown",
   "metadata": {},
   "source": [
    "API\n",
    "\n",
    "API stands for Application Programming Interface. It is a set of protocols and standards for building and integrating software applications. In Python, you can use the requests module to interact with APIs."
   ]
  },
  {
   "cell_type": "code",
   "execution_count": null,
   "metadata": {},
   "outputs": [],
   "source": [
    "import requests\n",
    "\n",
    "# make a GET request to an API endpoint\n",
    "response = requests.get(\"https://api.example.com/data\")\n",
    "# print the response content\n",
    "print(response.content)\n",
    "\n",
    "# make a POST request to an API endpoint with data\n",
    "data = {\"name\": \"John\", \"age\": 30}\n",
    "response = requests.post(\"https://api.example.com/user\", json=data)\n",
    "# print the response status code\n",
    "print(response.status_code)"
   ]
  },
  {
   "attachments": {},
   "cell_type": "markdown",
   "metadata": {},
   "source": [
    "Error Handling\n",
    "\n",
    "Error handling is the process of handling runtime errors in a program. In Python, you can use try and except statements to handle errors."
   ]
  },
  {
   "cell_type": "code",
   "execution_count": null,
   "metadata": {},
   "outputs": [],
   "source": [
    "try:\n",
    "    # code that might raise an error\n",
    "except SomeException as e:\n",
    "    # handle the error\n",
    "finally:\n",
    "    # execute this code regardless of whether there was an error or not"
   ]
  },
  {
   "attachments": {},
   "cell_type": "markdown",
   "metadata": {},
   "source": [
    "# Git/GitHub"
   ]
  },
  {
   "attachments": {},
   "cell_type": "markdown",
   "metadata": {},
   "source": [
    "Version Control\n",
    "\n",
    "Version control is the practice of tracking and managing changes to software code. Git is a popular version control system that allows developers to collaborate on code and track changes over time."
   ]
  },
  {
   "attachments": {},
   "cell_type": "markdown",
   "metadata": {},
   "source": [
    "Clone\n",
    "\n",
    "Cloning a repository is the process of creating a local copy of a remote repository. This is useful when you want to make changes to the code and contribute back to the original repository."
   ]
  },
  {
   "cell_type": "code",
   "execution_count": null,
   "metadata": {
    "vscode": {
     "languageId": "powershell"
    }
   },
   "outputs": [],
   "source": [
    "git clone https://github.com/user/repo.git"
   ]
  },
  {
   "attachments": {},
   "cell_type": "markdown",
   "metadata": {},
   "source": [
    "Repo\n",
    "A repository (or \"repo\") is a collection of files and directories that make up a project. In Git, a repository contains all the version history of the project."
   ]
  },
  {
   "attachments": {},
   "cell_type": "markdown",
   "metadata": {},
   "source": [
    "Bash\n",
    "\n",
    "Bash is a Unix shell and command language that is used to interact with the operating system. It provides a command-line interface for executing commands and scripts."
   ]
  },
  {
   "attachments": {},
   "cell_type": "markdown",
   "metadata": {},
   "source": [
    "# SQL"
   ]
  },
  {
   "attachments": {},
   "cell_type": "markdown",
   "metadata": {},
   "source": [
    "Basic Functions\n",
    "\n",
    "SQL (Structured Query Language) is a programming language used to manage relational databases. Some basic SQL functions include:\n",
    "\n",
    "CREATE - creates a new database, table, or view. It also includes other administrative tasks like dropping a database, table, or view, and creating indices\n",
    "SELECT - selects data from a database\n",
    "INSERT - inserts new data into a database\n",
    "UPDATE - updates existing data in a database\n",
    "DELETE - deletes data from a database\n",
    "\n",
    "\n",
    "Joins\n",
    "Joins are used to combine data from multiple tables in a database. There are several types of joins in SQL, including:\n",
    "\n",
    "INNER JOIN - returns only the rows that match in both tables\n",
    "LEFT JOIN - returns all the rows from the left table and the matching rows from the right table\n",
    "RIGHT JOIN - returns all the rows from the right table and the matching rows from the left table\n",
    "FULL OUTER JOIN - returns all the rows from both tables, with NULL values for non-matching rows.\n",
    "CROSS JOIN - returns all combinations of rows. This is the default join type and can be omitted."
   ]
  },
  {
   "attachments": {},
   "cell_type": "markdown",
   "metadata": {},
   "source": [
    "# Pandas"
   ]
  },
  {
   "attachments": {},
   "cell_type": "markdown",
   "metadata": {},
   "source": [
    "### Data Inspection\n",
    "\n",
    "- df.head()            # Returns the first n rows (default n=5)\n",
    "- df.tail()            # Returns the last n rows (default n=5)\n",
    "- df.shape             # Returns the number of rows and columns\n",
    "- df.info()            # Returns the summary of the DataFrame\n",
    "- df.describe()        # Returns the statistical summary of numerical columns\n",
    "- df.columns           # Returns the column names\n",
    "- df.index             # Returns the index (row labels)"
   ]
  },
  {
   "attachments": {},
   "cell_type": "markdown",
   "metadata": {},
   "source": [
    "### Accessing Data\n",
    "\n",
    "- df['column_name']        # Access a single column\n",
    "- df[['col1', 'col2']]    # Access multiple columns\n",
    "\n",
    "- df.loc[row_label]          # Access a row by label\n",
    "- df.loc[start:end]          # Access rows by range of labels\n",
    "- df.loc[mask]               # Access rows by boolean condition\n",
    "\n",
    "- df.iloc[row_index]        # Access a row by index\n",
    "- df.iloc[start:end]        # Access rows by range of indexes\n",
    "- df.iloc[mask]             # Access rows by boolean condition\n",
    "\n",
    "- df.at[row_label, 'col_label']     # Access a single value by label\n",
    "- df.iat[row_index, col_index]     # Access a single value by index\n"
   ]
  },
  {
   "attachments": {},
   "cell_type": "markdown",
   "metadata": {},
   "source": [
    "### Data Manipulation\n",
    "\n",
    "- df['new_col'] = values        # Add a new column\n",
    "- df.drop(columns=['col1'])     # Drop a column\n",
    "- df.rename(columns={'old_name': 'new_name'})   # Rename columns\n",
    "\n",
    "- df.sort_values(by='col')           # Sort DataFrame by column(s)\n",
    "- df.groupby('col')                  # Group DataFrame by column\n",
    "\n",
    "- df.isnull()                        # Check for missing values\n",
    "- df.fillna(value)                   # Fill missing values\n",
    "- df.dropna()                        # Drop rows with missing values\n",
    "\n",
    "- df.apply(func)                     # Apply a function to each element/column/row\n",
    "- df.merge(other_df)                 # Merge two DataFrames\n",
    "- df.pivot_table(values, index, columns)   # Create a pivot table\n"
   ]
  },
  {
   "attachments": {},
   "cell_type": "markdown",
   "metadata": {},
   "source": [
    "### Data Cleaning\n",
    "\n",
    "- df.duplicated()                 # Check for duplicated rows\n",
    "- df.drop_duplicates()            # Drop duplicated rows\n",
    "\n",
    "- df.replace(old_value, new_value)   # Replace values\n",
    "- df.str.strip()                     # Remove leading/trailing whitespaces\n",
    "- df.fillna(value)                   # Fill missing values"
   ]
  },
  {
   "attachments": {},
   "cell_type": "markdown",
   "metadata": {},
   "source": [
    "### Data Aggregation \n",
    "\n",
    "- df.mean()                       # Calculate the mean of each column\n",
    "- df.sum()                        # Calculate the sum of each column\n",
    "- df.max()                        # Find the maximum value of each column\n",
    "- df.min()                        # Find the minimum value of each column\n",
    "- df.count()                      # Count non-null values in each column\n",
    "- df.unique()                     # Get unique values in a column"
   ]
  }
 ],
 "metadata": {
  "kernelspec": {
   "display_name": ".venv",
   "language": "python",
   "name": "python3"
  },
  "language_info": {
   "name": "python",
   "version": "3.10.4"
  },
  "orig_nbformat": 4
 },
 "nbformat": 4,
 "nbformat_minor": 2
}
