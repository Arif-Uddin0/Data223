{
 "cells": [
  {
   "attachments": {},
   "cell_type": "markdown",
   "metadata": {},
   "source": [
    "# Modules and Packages"
   ]
  },
  {
   "cell_type": "code",
   "execution_count": null,
   "metadata": {},
   "outputs": [],
   "source": [
    "# Modules\n",
    "# In my_module.py\n",
    "def hello():\n",
    "    print(\"Hello, world!\")\n",
    "\n",
    "# In main.py\n",
    "import my_module\n",
    "my_module.hello() # Output: \"Hello, world!\"\n",
    "\n",
    "# Packages\n",
    "# Define a package called \"my_package\" that contains two modules and an __init__.py file\n",
    "# my_package/\n",
    "#     __init__.py\n",
    "#     module1.py\n",
    "#     module2.py\n",
    "\n",
    "# Import the \"add\" function from the \"module1\" module of the \"my_package\" package\n",
    "from my_package import module1\n",
    "\n",
    "result = module1.add(2, 3)\n",
    "print(result) # Output: 5"
   ]
  }
 ],
 "metadata": {
  "language_info": {
   "name": "python"
  },
  "orig_nbformat": 4
 },
 "nbformat": 4,
 "nbformat_minor": 2
}
