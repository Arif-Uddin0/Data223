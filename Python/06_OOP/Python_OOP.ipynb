{
 "cells": [
  {
   "attachments": {},
   "cell_type": "markdown",
   "metadata": {},
   "source": [
    "# OOP in Python"
   ]
  },
  {
   "cell_type": "code",
   "execution_count": 1,
   "metadata": {},
   "outputs": [
    {
     "data": {
      "text/plain": [
       "<__main__.Car at 0x23873b179d0>"
      ]
     },
     "execution_count": 1,
     "metadata": {},
     "output_type": "execute_result"
    }
   ],
   "source": [
    "# build class for cars\n",
    "class Car:\n",
    "    pass\n",
    "\n",
    "my_car = Car() # create an instance of the class\n",
    "my_car"
   ]
  },
  {
   "cell_type": "code",
   "execution_count": 5,
   "metadata": {},
   "outputs": [
    {
     "data": {
      "text/plain": [
       "'Kairo'"
      ]
     },
     "metadata": {},
     "output_type": "display_data"
    },
    {
     "data": {
      "text/plain": [
       "7"
      ]
     },
     "metadata": {},
     "output_type": "display_data"
    }
   ],
   "source": [
    "class Dog:\n",
    "    # constructor method\n",
    "    def __init__(self, name, age):\n",
    "        self.name = name\n",
    "        self.age = age\n",
    "\n",
    "dog = Dog('Kairo',7)\n",
    "display(dog.name, dog.age)"
   ]
  },
  {
   "cell_type": "code",
   "execution_count": 17,
   "metadata": {},
   "outputs": [
    {
     "name": "stdout",
     "output_type": "stream",
     "text": [
      "Woof! hello my name is Fido and I am 2 years old.\n"
     ]
    }
   ],
   "source": [
    "# Methods\n",
    "\n",
    "class Dog:\n",
    "    # class object\n",
    "    animal_type = 'dog'\n",
    "    animal_kind = 'canine'\n",
    "\n",
    "    # constructor method\n",
    "    def __init__(self, name, age):\n",
    "        self.name = name\n",
    "        self.age = age\n",
    "    \n",
    "    def bark(self, greeting='hi'):\n",
    "        print('Woof! ' + greeting + ' my name is ' + self.name + ' and I am '+ str(self.age) + ' years old.')\n",
    "\n",
    "my_dog = Dog('Fido', 2)\n",
    "\n",
    "my_dog.bark('hello')\n"
   ]
  },
  {
   "cell_type": "code",
   "execution_count": 10,
   "metadata": {},
   "outputs": [
    {
     "name": "stdout",
     "output_type": "stream",
     "text": [
      "Woof!\n"
     ]
    },
    {
     "data": {
      "text/plain": [
       "'Angelo'"
      ]
     },
     "execution_count": 10,
     "metadata": {},
     "output_type": "execute_result"
    }
   ],
   "source": [
    "dog_b = Dog('Angelo', 5)\n",
    "\n",
    "dog_b.dog_name"
   ]
  },
  {
   "cell_type": "code",
   "execution_count": 6,
   "metadata": {},
   "outputs": [
    {
     "name": "stdout",
     "output_type": "stream",
     "text": [
      "Circumference: 62.83185307179586\n",
      "Area: 314.1592653589793\n",
      "Colour: red\n"
     ]
    }
   ],
   "source": [
    "import numpy as np\n",
    "\n",
    "class Circle:\n",
    "\n",
    "    def __init__(self, radius, colour):\n",
    "        self.radius = radius\n",
    "        self.colour = colour\n",
    "\n",
    "    # get circumference\n",
    "    def get_circumference(self):\n",
    "        return f'Circumference: {2 * self.radius * np.pi}'\n",
    "    \n",
    "    # get area\n",
    "    def get_area(self):\n",
    "        return f'Area: {(self.radius**2) * np.pi}'\n",
    "    \n",
    "    # get colour\n",
    "    def get_colour(self):\n",
    "        return f'Colour: {self.colour}'\n",
    "    \n",
    "circle = Circle(10, \"red\")\n",
    "\n",
    "print(circle.get_circumference())\n",
    "\n",
    "print(circle.get_area())\n",
    "\n",
    "print(circle.get_colour())\n",
    "\n"
   ]
  },
  {
   "attachments": {},
   "cell_type": "markdown",
   "metadata": {},
   "source": [
    "# Inheritance"
   ]
  },
  {
   "cell_type": "code",
   "execution_count": 7,
   "metadata": {},
   "outputs": [],
   "source": [
    "class Animal:\n",
    "\n",
    "    def __init__(self):\n",
    "        self.alive = True\n",
    "        print('Animal is created')\n",
    "\n",
    "    def who_am_i(self):\n",
    "        print('I am an animal')\n",
    "\n",
    "    def eat(self):\n",
    "        print('I am eating')\n"
   ]
  },
  {
   "cell_type": "code",
   "execution_count": 19,
   "metadata": {},
   "outputs": [],
   "source": [
    "class Dog(Animal):\n",
    "\n",
    "    def __init__(self):\n",
    "        Animal.__init__(self) # call the constructor of the parent class\n",
    "        print('Dog is created')\n",
    "\n",
    "    def who_am_i(self, name):\n",
    "        print('I am a dog and my name is ' + name)\n",
    "\n",
    "    def bark(self):\n",
    "        print('Woof!')"
   ]
  },
  {
   "cell_type": "code",
   "execution_count": 20,
   "metadata": {},
   "outputs": [
    {
     "name": "stdout",
     "output_type": "stream",
     "text": [
      "Animal is created\n",
      "Dog is created\n",
      "I am a dog and my name is Kairo\n"
     ]
    }
   ],
   "source": [
    "my_dog = Dog()\n",
    "\n",
    "my_dog.who_am_i(name='Kairo')"
   ]
  },
  {
   "cell_type": "code",
   "execution_count": 21,
   "metadata": {},
   "outputs": [],
   "source": [
    "# class for cat with polymorphism\n",
    "class Cat(Animal):\n",
    "\n",
    "    def __init__(self):\n",
    "        Animal.__init__(self) # call the constructor of the parent class\n",
    "        print('Cat is created')\n",
    "\n",
    "    def who_am_i(self, name):\n",
    "        print('I am a cat and my name is ' + name)"
   ]
  },
  {
   "cell_type": "code",
   "execution_count": 2,
   "metadata": {},
   "outputs": [
    {
     "name": "stdout",
     "output_type": "stream",
     "text": [
      "400\n"
     ]
    }
   ],
   "source": [
    "class A:\n",
    "    def __init__(self):\n",
    "        self.x = 100\n",
    "        self.y = 200\n",
    "        self.z = 300\n",
    "class B(A):\n",
    "    def __init__(self):\n",
    "        super().__init__()\n",
    "        self.x = 400\n",
    "        self.y = 500\n",
    "        self.z = 600\n",
    "\n",
    "b = B()\n",
    "\n",
    "print(b.x)"
   ]
  },
  {
   "cell_type": "code",
   "execution_count": 22,
   "metadata": {},
   "outputs": [
    {
     "name": "stdout",
     "output_type": "stream",
     "text": [
      "Animal is created\n",
      "Cat is created\n",
      "I am a cat and my name is Phoenix\n"
     ]
    }
   ],
   "source": [
    "cat = Cat()\n",
    "\n",
    "cat.who_am_i('Phoenix')"
   ]
  },
  {
   "attachments": {
    "image-2.png": {
     "image/png": "[encoded data removed]"
    },
    "image-3.png": {
     "image/png": "[encoded data removed]"
    },
    "image.png": {
     "image/png": "[encoded data removed]"
    }
   },
   "cell_type": "markdown",
   "metadata": {},
   "source": [
    "![image.png](attachment:image.png)\n",
    "![image-2.png](attachment:image-2.png)\n",
    "![image-3.png](attachment:image-3.png)"
   ]
  },
  {
   "cell_type": "code",
   "execution_count": 25,
   "metadata": {},
   "outputs": [],
   "source": [
    "# Calculator Class\n",
    "\n",
    "class Calculator:\n",
    "    def __init__(self):\n",
    "        self.calc = True\n",
    "        print('Calculator created')\n",
    "\n",
    "    def add(self, a, b):\n",
    "        return a + b\n",
    "\n",
    "    def subtract(self, a, b):\n",
    "        return a - b\n",
    "    \n",
    "    def multiply(self, a, b):\n",
    "        return a * b\n",
    "    \n",
    "    def divide(self, a, b):\n",
    "        if b != 0:\n",
    "            return a / b\n",
    "        else:\n",
    "            raise ValueError(\"Cannot divide by zero!\")\n",
    "    \n",
    "    def divisible_by(self, num, divisor):\n",
    "        return num % divisor == 0\n",
    "    \n",
    "    def calculate_triangle_area(self, base, height):\n",
    "        return 0.5 * base * height\n",
    "    \n",
    "    def inch_to_cm(self, inch):\n",
    "        return inch * 2.54"
   ]
  },
  {
   "cell_type": "code",
   "execution_count": 26,
   "metadata": {},
   "outputs": [
    {
     "name": "stdout",
     "output_type": "stream",
     "text": [
      "Calculator created\n"
     ]
    }
   ],
   "source": [
    "calc = Calculator()"
   ]
  },
  {
   "cell_type": "code",
   "execution_count": 27,
   "metadata": {},
   "outputs": [
    {
     "name": "stdout",
     "output_type": "stream",
     "text": [
      "8\n",
      "2\n",
      "15\n",
      "5.0\n"
     ]
    },
    {
     "ename": "ValueError",
     "evalue": "Cannot divide by zero!",
     "output_type": "error",
     "traceback": [
      "\u001b[1;31m---------------------------------------------------------------------------\u001b[0m",
      "\u001b[1;31mValueError\u001b[0m                                Traceback (most recent call last)",
      "Cell \u001b[1;32mIn[27], line 5\u001b[0m\n\u001b[0;32m      3\u001b[0m \u001b[39mprint\u001b[39m(calc\u001b[39m.\u001b[39mmultiply(\u001b[39m5\u001b[39m, \u001b[39m3\u001b[39m)) \n\u001b[0;32m      4\u001b[0m \u001b[39mprint\u001b[39m(calc\u001b[39m.\u001b[39mdivide(\u001b[39m10\u001b[39m, \u001b[39m2\u001b[39m)) \n\u001b[1;32m----> 5\u001b[0m \u001b[39mprint\u001b[39m(calc\u001b[39m.\u001b[39;49mdivide(\u001b[39m5\u001b[39;49m, \u001b[39m0\u001b[39;49m))\n",
      "Cell \u001b[1;32mIn[25], line 21\u001b[0m, in \u001b[0;36mCalculator.divide\u001b[1;34m(self, a, b)\u001b[0m\n\u001b[0;32m     19\u001b[0m     \u001b[39mreturn\u001b[39;00m a \u001b[39m/\u001b[39m b\n\u001b[0;32m     20\u001b[0m \u001b[39melse\u001b[39;00m:\n\u001b[1;32m---> 21\u001b[0m     \u001b[39mraise\u001b[39;00m \u001b[39mValueError\u001b[39;00m(\u001b[39m\"\u001b[39m\u001b[39mCannot divide by zero!\u001b[39m\u001b[39m\"\u001b[39m)\n",
      "\u001b[1;31mValueError\u001b[0m: Cannot divide by zero!"
     ]
    }
   ],
   "source": [
    "print(calc.add(5, 3))\n",
    "print(calc.subtract(5, 3))\n",
    "print(calc.multiply(5, 3)) \n",
    "print(calc.divide(10, 2)) \n",
    "print(calc.divide(5, 0))"
   ]
  },
  {
   "cell_type": "code",
   "execution_count": 28,
   "metadata": {},
   "outputs": [
    {
     "name": "stdout",
     "output_type": "stream",
     "text": [
      "False\n",
      "True\n"
     ]
    }
   ],
   "source": [
    "print(calc.divisible_by(10, 3))\n",
    "print(calc.divisible_by(15, 5))"
   ]
  },
  {
   "cell_type": "code",
   "execution_count": 29,
   "metadata": {},
   "outputs": [
    {
     "name": "stdout",
     "output_type": "stream",
     "text": [
      "7.5\n",
      "25.4\n"
     ]
    }
   ],
   "source": [
    "print(calc.calculate_triangle_area(5, 3))\n",
    "\n",
    "print(calc.inch_to_cm(10))"
   ]
  },
  {
   "cell_type": "code",
   "execution_count": null,
   "metadata": {},
   "outputs": [],
   "source": [
    "print((lambda n: f'Result: {eval(n)}') (input('Enter an expression: ')))"
   ]
  },
  {
   "cell_type": "code",
   "execution_count": 30,
   "metadata": {},
   "outputs": [],
   "source": [
    "class DNA:\n",
    "\n",
    "    def __init__(self,dna):\n",
    "        self.string = dna.lower()\n",
    "\n",
    "    def count(self):\n",
    "        return f\"{self.string.count('a')} {self.string.count('c')} {self.string.count('g')} {self.string.count('t')}\""
   ]
  },
  {
   "cell_type": "code",
   "execution_count": 32,
   "metadata": {},
   "outputs": [
    {
     "data": {
      "text/plain": [
       "'20 12 16 21'"
      ]
     },
     "execution_count": 32,
     "metadata": {},
     "output_type": "execute_result"
    }
   ],
   "source": [
    "dna = DNA('AGCTTTTCATTCTGACTGCAACGGGCAATATGTCTCTTGTGGATTAAAAAAAGAGTGTCTGATAGCAGC')\n",
    "dna.count()"
   ]
  },
  {
   "cell_type": "code",
   "execution_count": 33,
   "metadata": {},
   "outputs": [
    {
     "name": "stdout",
     "output_type": "stream",
     "text": [
      "FizzBuzz initiated\n",
      "1\n",
      "2\n",
      "Fizz\n",
      "4\n",
      "Buzz\n",
      "Fizz\n",
      "7\n",
      "8\n",
      "Fizz\n",
      "Buzz\n",
      "11\n",
      "Fizz\n",
      "13\n",
      "14\n",
      "FizzBuzz\n",
      "16\n",
      "17\n",
      "Fizz\n",
      "19\n",
      "Buzz\n",
      "Fizz\n",
      "22\n",
      "23\n",
      "Fizz\n",
      "Buzz\n",
      "26\n",
      "Fizz\n",
      "28\n",
      "29\n",
      "FizzBuzz\n",
      "31\n",
      "32\n",
      "Fizz\n",
      "34\n",
      "Buzz\n",
      "Fizz\n",
      "37\n",
      "38\n",
      "Fizz\n",
      "Buzz\n",
      "41\n",
      "Fizz\n",
      "43\n",
      "44\n",
      "FizzBuzz\n",
      "46\n",
      "47\n",
      "Fizz\n",
      "49\n",
      "Buzz\n",
      "Fizz\n",
      "52\n",
      "53\n",
      "Fizz\n",
      "Buzz\n",
      "56\n",
      "Fizz\n",
      "58\n",
      "59\n",
      "FizzBuzz\n",
      "61\n",
      "62\n",
      "Fizz\n",
      "64\n",
      "Buzz\n",
      "Fizz\n",
      "67\n",
      "68\n",
      "Fizz\n",
      "Buzz\n",
      "71\n",
      "Fizz\n",
      "73\n",
      "74\n",
      "FizzBuzz\n",
      "76\n",
      "77\n",
      "Fizz\n",
      "79\n",
      "Buzz\n",
      "Fizz\n",
      "82\n",
      "83\n",
      "Fizz\n",
      "Buzz\n",
      "86\n",
      "Fizz\n",
      "88\n",
      "89\n",
      "FizzBuzz\n",
      "91\n",
      "92\n",
      "Fizz\n",
      "94\n",
      "Buzz\n",
      "Fizz\n",
      "97\n",
      "98\n",
      "Fizz\n",
      "Buzz\n"
     ]
    }
   ],
   "source": [
    "class FizzBuzz:\n",
    "    def __init__(self):\n",
    "        self.fizzbuzz = True\n",
    "        print('FizzBuzz initiated')\n",
    "    \n",
    "    def print_numbers(self):\n",
    "        for num in range(1, 101):\n",
    "            if num % 3 == 0 and num % 5 == 0:\n",
    "                print(\"FizzBuzz\")\n",
    "            elif num % 3 == 0:\n",
    "                print(\"Fizz\")\n",
    "            elif num % 5 == 0:\n",
    "                print(\"Buzz\")\n",
    "            else:\n",
    "                print(num)\n",
    "\n",
    "printer = FizzBuzz()\n",
    "printer.print_numbers()"
   ]
  }
 ],
 "metadata": {
  "kernelspec": {
   "display_name": ".venv",
   "language": "python",
   "name": "python3"
  },
  "language_info": {
   "codemirror_mode": {
    "name": "ipython",
    "version": 3
   },
   "file_extension": ".py",
   "mimetype": "text/x-python",
   "name": "python",
   "nbconvert_exporter": "python",
   "pygments_lexer": "ipython3",
   "version": "3.10.4"
  },
  "orig_nbformat": 4
 },
 "nbformat": 4,
 "nbformat_minor": 2
}
