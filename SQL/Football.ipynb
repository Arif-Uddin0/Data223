{
    "metadata": {
        "kernelspec": {
            "name": "SQL",
            "display_name": "SQL",
            "language": "sql"
        },
        "language_info": {
            "name": "sql",
            "version": ""
        }
    },
    "nbformat_minor": 2,
    "nbformat": 4,
    "cells": [
        {
            "cell_type": "markdown",
            "source": [
                "![soccer database relationship structure](https://www.w3resource.com/w3r_images/soccer-database.png)"
            ],
            "metadata": {
                "azdata_cell_guid": "1cb21508-c472-46df-9926-4db13e9066b1"
            },
            "attachments": {}
        },
        {
            "cell_type": "code",
            "source": [
                "USE Football_DB"
            ],
            "metadata": {
                "azdata_cell_guid": "63626def-c91d-4554-b7f6-4a57b42b09ec",
                "language": "sql"
            },
            "outputs": [
                {
                    "output_type": "display_data",
                    "data": {
                        "text/html": "Commands completed successfully."
                    },
                    "metadata": {}
                },
                {
                    "output_type": "display_data",
                    "data": {
                        "text/html": "Total execution time: 00:00:00.005"
                    },
                    "metadata": {}
                }
            ],
            "execution_count": 3
        },
        {
            "cell_type": "markdown",
            "source": [
                "1\\. Write a query in SQL to find the number of venues for EURO cup 2016. (soccer\\_venue)"
            ],
            "metadata": {
                "language": "sql",
                "azdata_cell_guid": "ad79a08d-d82e-45d1-9367-e7122b732354"
            },
            "attachments": {}
        },
        {
            "cell_type": "code",
            "source": [
                "SELECT COUNT(*) AS NoOfVenues\r\n",
                "FROM soccer_venue"
            ],
            "metadata": {
                "language": "sql",
                "azdata_cell_guid": "711e6a93-22d1-4fa2-b4c3-3e4b4c37ca1d",
                "tags": []
            },
            "outputs": [
                {
                    "output_type": "display_data",
                    "data": {
                        "text/html": "(1 row affected)"
                    },
                    "metadata": {}
                },
                {
                    "output_type": "display_data",
                    "data": {
                        "text/html": "Total execution time: 00:00:00.018"
                    },
                    "metadata": {}
                },
                {
                    "output_type": "execute_result",
                    "execution_count": 16,
                    "data": {
                        "application/vnd.dataresource+json": {
                            "schema": {
                                "fields": [
                                    {
                                        "name": "NoOfVenues"
                                    }
                                ]
                            },
                            "data": [
                                {
                                    "0": "10"
                                }
                            ]
                        },
                        "text/html": "<table><tr><th>NoOfVenues</th></tr><tr><td>10</td></tr></table>"
                    },
                    "metadata": {}
                }
            ],
            "execution_count": 16
        },
        {
            "cell_type": "markdown",
            "source": [
                "2\\. Write a query in SQL to find the number countries participated in the EURO cup 2016. (player\\_mast)"
            ],
            "metadata": {
                "language": "sql",
                "azdata_cell_guid": "ab3fe4fd-1e93-424b-b251-577cb20e8d4c"
            },
            "attachments": {}
        },
        {
            "cell_type": "code",
            "source": [
                "SELECT COUNT(DISTINCT team_id) AS Countries_Participating\r\n",
                "FROM player_mast;"
            ],
            "metadata": {
                "language": "sql",
                "azdata_cell_guid": "a16a7aac-3309-497a-bd94-8142df2959c2"
            },
            "outputs": [
                {
                    "output_type": "display_data",
                    "data": {
                        "text/html": "(1 row affected)"
                    },
                    "metadata": {}
                },
                {
                    "output_type": "display_data",
                    "data": {
                        "text/html": "Total execution time: 00:00:00.012"
                    },
                    "metadata": {}
                },
                {
                    "output_type": "execute_result",
                    "execution_count": 25,
                    "data": {
                        "application/vnd.dataresource+json": {
                            "schema": {
                                "fields": [
                                    {
                                        "name": "Countries_Participating"
                                    }
                                ]
                            },
                            "data": [
                                {
                                    "0": "24"
                                }
                            ]
                        },
                        "text/html": "<table><tr><th>Countries_Participating</th></tr><tr><td>24</td></tr></table>"
                    },
                    "metadata": {}
                }
            ],
            "execution_count": 25
        },
        {
            "cell_type": "markdown",
            "source": [
                "3\\. Write a query in SQL to find the number goals scored in EURO cup 2016 within normal play schedule.(goal\\_details)"
            ],
            "metadata": {
                "language": "sql",
                "azdata_cell_guid": "67716ad8-f3a0-4d86-a036-05f92b824b4e"
            },
            "attachments": {}
        },
        {
            "cell_type": "code",
            "source": [
                "SELECT COUNT(*) AS Goals_in_Normal_Play\r\n",
                "FROM goal_details\r\n",
                "WHERE goal_schedule = 'NT';"
            ],
            "metadata": {
                "language": "sql",
                "azdata_cell_guid": "eb710ac5-b72f-40ff-b2d6-85db0f401919"
            },
            "outputs": [
                {
                    "output_type": "display_data",
                    "data": {
                        "text/html": "(1 row affected)"
                    },
                    "metadata": {}
                },
                {
                    "output_type": "display_data",
                    "data": {
                        "text/html": "Total execution time: 00:00:00.011"
                    },
                    "metadata": {}
                },
                {
                    "output_type": "execute_result",
                    "execution_count": 26,
                    "data": {
                        "application/vnd.dataresource+json": {
                            "schema": {
                                "fields": [
                                    {
                                        "name": "Goals_in_Normal_Play"
                                    }
                                ]
                            },
                            "data": [
                                {
                                    "0": "97"
                                }
                            ]
                        },
                        "text/html": "<table><tr><th>Goals_in_Normal_Play</th></tr><tr><td>97</td></tr></table>"
                    },
                    "metadata": {}
                }
            ],
            "execution_count": 26
        },
        {
            "cell_type": "markdown",
            "source": [
                "4\\. Write a query in SQL to find the number of matches ended with a result. (match\\_mast)"
            ],
            "metadata": {
                "language": "sql",
                "azdata_cell_guid": "e0ab6252-f641-4ad2-b901-a3c616c2a54b"
            },
            "attachments": {}
        },
        {
            "cell_type": "code",
            "source": [
                "SELECT COUNT(*) AS NoOfResult\r\n",
                "FROM match_mast\r\n",
                "WHERE results = 'WIN';"
            ],
            "metadata": {
                "language": "sql",
                "azdata_cell_guid": "09977bc0-c0e2-43fc-a7c6-9a2a9d457797"
            },
            "outputs": [
                {
                    "output_type": "display_data",
                    "data": {
                        "text/html": "(1 row affected)"
                    },
                    "metadata": {}
                },
                {
                    "output_type": "display_data",
                    "data": {
                        "text/html": "Total execution time: 00:00:00.016"
                    },
                    "metadata": {}
                },
                {
                    "output_type": "execute_result",
                    "execution_count": 27,
                    "data": {
                        "application/vnd.dataresource+json": {
                            "schema": {
                                "fields": [
                                    {
                                        "name": "NoOfResult"
                                    }
                                ]
                            },
                            "data": [
                                {
                                    "0": "40"
                                }
                            ]
                        },
                        "text/html": "<table><tr><th>NoOfResult</th></tr><tr><td>40</td></tr></table>"
                    },
                    "metadata": {}
                }
            ],
            "execution_count": 27
        },
        {
            "cell_type": "markdown",
            "source": [
                "5\\. Write a query in SQL to find the number of matches ended with draws. (match\\_mast)"
            ],
            "metadata": {
                "language": "sql",
                "azdata_cell_guid": "daa269c2-2c0a-4163-8bfd-11dda4480bd8"
            },
            "attachments": {}
        },
        {
            "cell_type": "code",
            "source": [
                "SELECT COUNT(*) AS Draws\r\n",
                "FROM match_mast\r\n",
                "WHERE results = 'DRAW';"
            ],
            "metadata": {
                "language": "sql",
                "azdata_cell_guid": "40f54a6d-efcf-405c-ab3b-b8b3905baf60"
            },
            "outputs": [
                {
                    "output_type": "display_data",
                    "data": {
                        "text/html": "(1 row affected)"
                    },
                    "metadata": {}
                },
                {
                    "output_type": "display_data",
                    "data": {
                        "text/html": "Total execution time: 00:00:00.013"
                    },
                    "metadata": {}
                },
                {
                    "output_type": "execute_result",
                    "execution_count": 28,
                    "data": {
                        "application/vnd.dataresource+json": {
                            "schema": {
                                "fields": [
                                    {
                                        "name": "Draws"
                                    }
                                ]
                            },
                            "data": [
                                {
                                    "0": "11"
                                }
                            ]
                        },
                        "text/html": "<table><tr><th>Draws</th></tr><tr><td>11</td></tr></table>"
                    },
                    "metadata": {}
                }
            ],
            "execution_count": 28
        },
        {
            "cell_type": "markdown",
            "source": [
                "6\\. Write a query in SQL to find the date when did Football EURO cup 2016 begin.(match\\_mast)"
            ],
            "metadata": {
                "language": "sql",
                "azdata_cell_guid": "72648006-741f-41a2-993c-b60901f10177"
            },
            "attachments": {}
        },
        {
            "cell_type": "code",
            "source": [
                "SELECT play_date as First_Match\r\n",
                "FROM match_mast\r\n",
                "WHERE match_no = 1;"
            ],
            "metadata": {
                "language": "sql",
                "azdata_cell_guid": "f0b518dc-fd39-486a-8e06-bd3384ec5865",
                "tags": []
            },
            "outputs": [
                {
                    "output_type": "display_data",
                    "data": {
                        "text/html": "(1 row affected)"
                    },
                    "metadata": {}
                },
                {
                    "output_type": "display_data",
                    "data": {
                        "text/html": "Total execution time: 00:00:00.012"
                    },
                    "metadata": {}
                },
                {
                    "output_type": "execute_result",
                    "execution_count": 31,
                    "data": {
                        "application/vnd.dataresource+json": {
                            "schema": {
                                "fields": [
                                    {
                                        "name": "First_Match"
                                    }
                                ]
                            },
                            "data": [
                                {
                                    "0": "2016-06-11 00:00:00"
                                }
                            ]
                        },
                        "text/html": "<table><tr><th>First_Match</th></tr><tr><td>2016-06-11 00:00:00</td></tr></table>"
                    },
                    "metadata": {}
                }
            ],
            "execution_count": 31
        },
        {
            "cell_type": "markdown",
            "source": [
                "7\\. Write a query in SQL to find the number of self-goals scored in EURO cup 2016.( goal\\_details)"
            ],
            "metadata": {
                "language": "sql",
                "azdata_cell_guid": "0157d027-2eef-4e99-adbc-fa31608d8edc"
            },
            "attachments": {}
        },
        {
            "cell_type": "code",
            "source": [
                "SELECT COUNT(*) AS Own_Goals\r\n",
                "FROM goal_details\r\n",
                "WHERE goal_type = 'O';"
            ],
            "metadata": {
                "language": "sql",
                "azdata_cell_guid": "cfc27585-1a19-479f-bdab-68dc3e26b1a9"
            },
            "outputs": [
                {
                    "output_type": "display_data",
                    "data": {
                        "text/html": "(1 row affected)"
                    },
                    "metadata": {}
                },
                {
                    "output_type": "display_data",
                    "data": {
                        "text/html": "Total execution time: 00:00:00.015"
                    },
                    "metadata": {}
                },
                {
                    "output_type": "execute_result",
                    "execution_count": 33,
                    "data": {
                        "application/vnd.dataresource+json": {
                            "schema": {
                                "fields": [
                                    {
                                        "name": "Own_Goals"
                                    }
                                ]
                            },
                            "data": [
                                {
                                    "0": "3"
                                }
                            ]
                        },
                        "text/html": "<table><tr><th>Own_Goals</th></tr><tr><td>3</td></tr></table>"
                    },
                    "metadata": {}
                }
            ],
            "execution_count": 33
        },
        {
            "cell_type": "markdown",
            "source": [
                "8\\. Write a query in SQL to count the number of matches ended with a results in group stage. (match\\_mast)"
            ],
            "metadata": {
                "language": "sql",
                "azdata_cell_guid": "cbba006b-d3cd-4ac9-8a99-28b42be6f03b"
            },
            "attachments": {}
        },
        {
            "cell_type": "code",
            "source": [
                "SELECT COUNT(*) AS GS_Results\r\n",
                "FROM match_mast\r\n",
                "WHERE results = 'WIN' AND play_stage = 'G';"
            ],
            "metadata": {
                "language": "sql",
                "azdata_cell_guid": "bf73cb4f-f373-4f3b-a159-96a509a7091b"
            },
            "outputs": [
                {
                    "output_type": "display_data",
                    "data": {
                        "text/html": "(1 row affected)"
                    },
                    "metadata": {}
                },
                {
                    "output_type": "display_data",
                    "data": {
                        "text/html": "Total execution time: 00:00:00.014"
                    },
                    "metadata": {}
                },
                {
                    "output_type": "execute_result",
                    "metadata": {},
                    "execution_count": 5,
                    "data": {
                        "application/vnd.dataresource+json": {
                            "schema": {
                                "fields": [
                                    {
                                        "name": "GS_Results"
                                    }
                                ]
                            },
                            "data": [
                                {
                                    "0": "25"
                                }
                            ]
                        },
                        "text/html": [
                            "<table>",
                            "<tr><th>GS_Results</th></tr>",
                            "<tr><td>25</td></tr>",
                            "</table>"
                        ]
                    }
                }
            ],
            "execution_count": 5
        },
        {
            "cell_type": "markdown",
            "source": [
                "9\\. Write a query in SQL to find the number of matches got a result by penalty shootout. (penalty\\_shootout)"
            ],
            "metadata": {
                "language": "sql",
                "azdata_cell_guid": "65084768-c359-4e00-b8d6-d31da2950e34"
            },
            "attachments": {}
        },
        {
            "cell_type": "code",
            "source": [
                "SELECT COUNT(DISTINCT match_no) AS Result_by_PS\r\n",
                "FROM penalty_shootout;"
            ],
            "metadata": {
                "language": "sql",
                "azdata_cell_guid": "467e49ac-0305-4e63-9b67-6924a2d4d84a"
            },
            "outputs": [
                {
                    "output_type": "display_data",
                    "data": {
                        "text/html": "(1 row affected)"
                    },
                    "metadata": {}
                },
                {
                    "output_type": "display_data",
                    "data": {
                        "text/html": "Total execution time: 00:00:00.018"
                    },
                    "metadata": {}
                },
                {
                    "output_type": "execute_result",
                    "metadata": {},
                    "execution_count": 10,
                    "data": {
                        "application/vnd.dataresource+json": {
                            "schema": {
                                "fields": [
                                    {
                                        "name": "Result_by_PS"
                                    }
                                ]
                            },
                            "data": [
                                {
                                    "0": "3"
                                }
                            ]
                        },
                        "text/html": [
                            "<table>",
                            "<tr><th>Result_by_PS</th></tr>",
                            "<tr><td>3</td></tr>",
                            "</table>"
                        ]
                    }
                }
            ],
            "execution_count": 10
        },
        {
            "cell_type": "markdown",
            "source": [
                "10\\. Write a query in SQL to find the number of matches were decided on penalties in the Round of 16. (match\\_mast)"
            ],
            "metadata": {
                "language": "sql",
                "azdata_cell_guid": "fe5ed4a2-6637-4f27-afad-656380e4a0d1"
            },
            "attachments": {}
        },
        {
            "cell_type": "code",
            "source": [
                "SELECT COUNT(*) AS Round16_Penalties\r\n",
                "FROM match_mast\r\n",
                "WHERE play_stage = 'R' AND decided_by = 'P';"
            ],
            "metadata": {
                "language": "sql",
                "azdata_cell_guid": "53ac94de-1002-44d6-b6c1-b34b340fa662"
            },
            "outputs": [
                {
                    "output_type": "display_data",
                    "data": {
                        "text/html": "(1 row affected)"
                    },
                    "metadata": {}
                },
                {
                    "output_type": "display_data",
                    "data": {
                        "text/html": "Total execution time: 00:00:00.074"
                    },
                    "metadata": {}
                },
                {
                    "output_type": "execute_result",
                    "metadata": {},
                    "execution_count": 11,
                    "data": {
                        "application/vnd.dataresource+json": {
                            "schema": {
                                "fields": [
                                    {
                                        "name": "Round16_Penalties"
                                    }
                                ]
                            },
                            "data": [
                                {
                                    "0": "1"
                                }
                            ]
                        },
                        "text/html": [
                            "<table>",
                            "<tr><th>Round16_Penalties</th></tr>",
                            "<tr><td>1</td></tr>",
                            "</table>"
                        ]
                    }
                }
            ],
            "execution_count": 11
        },
        {
            "cell_type": "markdown",
            "source": [
                "## Subqueries"
            ],
            "metadata": {
                "language": "sql",
                "azdata_cell_guid": "9d025b08-898f-404f-a077-78bdcefba79a"
            },
            "attachments": {}
        },
        {
            "cell_type": "markdown",
            "source": [
                "1\\. Write a query in SQL to find the teams played the first match of EURO cup 2016.  ( match\\_details, soccer\\_country)"
            ],
            "metadata": {
                "language": "sql",
                "azdata_cell_guid": "3250fb02-38c8-473e-a5e1-f1b007f5f141"
            },
            "attachments": {}
        },
        {
            "cell_type": "code",
            "source": [
                "SELECT md.match_no AS Match_Number, sc.country_name AS Country_Name\r\n",
                "FROM match_details md, soccer_country sc\r\n",
                "WHERE md.team_id = sc.country_id AND md.match_no = 1;"
            ],
            "metadata": {
                "language": "sql",
                "azdata_cell_guid": "8a9fc7fd-5979-4a87-932b-70a3ddb75a46"
            },
            "outputs": [
                {
                    "output_type": "display_data",
                    "data": {
                        "text/html": "(2 rows affected)"
                    },
                    "metadata": {}
                },
                {
                    "output_type": "display_data",
                    "data": {
                        "text/html": "Total execution time: 00:00:00.021"
                    },
                    "metadata": {}
                },
                {
                    "output_type": "execute_result",
                    "metadata": {},
                    "execution_count": 25,
                    "data": {
                        "application/vnd.dataresource+json": {
                            "schema": {
                                "fields": [
                                    {
                                        "name": "Match_Number"
                                    },
                                    {
                                        "name": "Country_Name"
                                    }
                                ]
                            },
                            "data": [
                                {
                                    "0": "1",
                                    "1": "France"
                                },
                                {
                                    "0": "1",
                                    "1": "Romania"
                                }
                            ]
                        },
                        "text/html": [
                            "<table>",
                            "<tr><th>Match_Number</th><th>Country_Name</th></tr>",
                            "<tr><td>1</td><td>France</td></tr>",
                            "<tr><td>1</td><td>Romania</td></tr>",
                            "</table>"
                        ]
                    }
                }
            ],
            "execution_count": 25
        },
        {
            "cell_type": "markdown",
            "source": [
                "2\\. Write a query in SQL to find the winner of EURO cup 2016. (soccer\\_country, match\\_details)"
            ],
            "metadata": {
                "language": "sql",
                "azdata_cell_guid": "61ce171b-3030-499f-ae32-bc854ebcce6b"
            },
            "attachments": {}
        },
        {
            "cell_type": "code",
            "source": [
                "SELECT sc.country_name AS Winner\r\n",
                "FROM soccer_country sc, match_details md\r\n",
                "WHERE sc.country_id = md.team_id AND md.play_stage = 'F' AND md.win_lose = 'W';\r\n",
                "\r\n",
                "/* \r\n",
                "OR\r\n",
                "SELECT country_name as Team \r\n",
                "FROM soccer_country \r\n",
                "WHERE country_id in (SELECT team_id \r\n",
                "                     FROM match_details \r\n",
                "                     WHERE play_stage='F' AND win_lose='W'); */"
            ],
            "metadata": {
                "language": "sql",
                "azdata_cell_guid": "08035928-8bfa-4439-82b1-f6b976399909"
            },
            "outputs": [
                {
                    "output_type": "display_data",
                    "data": {
                        "text/html": "(1 row affected)"
                    },
                    "metadata": {}
                },
                {
                    "output_type": "display_data",
                    "data": {
                        "text/html": "Total execution time: 00:00:00.013"
                    },
                    "metadata": {}
                },
                {
                    "output_type": "execute_result",
                    "metadata": {},
                    "execution_count": 28,
                    "data": {
                        "application/vnd.dataresource+json": {
                            "schema": {
                                "fields": [
                                    {
                                        "name": "Winner"
                                    }
                                ]
                            },
                            "data": [
                                {
                                    "0": "Portugal"
                                }
                            ]
                        },
                        "text/html": [
                            "<table>",
                            "<tr><th>Winner</th></tr>",
                            "<tr><td>Portugal</td></tr>",
                            "</table>"
                        ]
                    }
                }
            ],
            "execution_count": 28
        },
        {
            "cell_type": "markdown",
            "source": [
                "3\\. Write a query in SQL to find the match with match no, play stage, goal scored, and the audence which was the heighest audence match. (match\\_mast)"
            ],
            "metadata": {
                "language": "sql",
                "azdata_cell_guid": "4bb6eabd-783f-4052-a8cb-79ef1681b8b2"
            },
            "attachments": {}
        },
        {
            "cell_type": "code",
            "source": [
                "SELECT match_no, play_stage, goal_score, audence\r\n",
                "FROM match_mast\r\n",
                "WHERE audence = (SELECT MAX(audence)\r\n",
                "                  FROM match_mast);"
            ],
            "metadata": {
                "language": "sql",
                "azdata_cell_guid": "2488fb65-23f9-4dca-abdd-b0d456080fb8"
            },
            "outputs": [
                {
                    "output_type": "display_data",
                    "data": {
                        "text/html": "(1 row affected)"
                    },
                    "metadata": {}
                },
                {
                    "output_type": "display_data",
                    "data": {
                        "text/html": "Total execution time: 00:00:00.063"
                    },
                    "metadata": {}
                },
                {
                    "output_type": "execute_result",
                    "metadata": {},
                    "execution_count": 31,
                    "data": {
                        "application/vnd.dataresource+json": {
                            "schema": {
                                "fields": [
                                    {
                                        "name": "match_no"
                                    },
                                    {
                                        "name": "play_stage"
                                    },
                                    {
                                        "name": "goal_score"
                                    },
                                    {
                                        "name": "audence"
                                    }
                                ]
                            },
                            "data": [
                                {
                                    "0": "48",
                                    "1": "Q",
                                    "2": "05-Feb",
                                    "3": "76833"
                                }
                            ]
                        },
                        "text/html": [
                            "<table>",
                            "<tr><th>match_no</th><th>play_stage</th><th>goal_score</th><th>audence</th></tr>",
                            "<tr><td>48</td><td>Q</td><td>05-Feb</td><td>76833</td></tr>",
                            "</table>"
                        ]
                    }
                }
            ],
            "execution_count": 31
        },
        {
            "cell_type": "markdown",
            "source": [
                "4\\. Write a query in SQL to find the match no in which Germany played against Poland(match\\_details, soccer\\_country)"
            ],
            "metadata": {
                "language": "sql",
                "azdata_cell_guid": "e6c6e190-1865-4801-ba53-298292533336"
            },
            "attachments": {}
        },
        {
            "cell_type": "code",
            "source": [
                "SELECT match_no\r\n",
                "FROM match_details\r\n",
                "WHERE team_id IN (SELECT country_id\r\n",
                "                  FROM soccer_country\r\n",
                "                  WHERE country_name = 'Germany')\r\n",
                "OR team_id=(SELECT country_id \r\n",
                "            FROM soccer_country \r\n",
                "            WHERE country_name='Poland') \r\n",
                "GROUP BY match_no \r\n",
                "HAVING COUNT(DISTINCT team_id)=2;\r\n",
                "\r\n",
                "/* OR\r\n",
                "SELECT match_no \r\n",
                "FROM match_details md, soccer_country sc\r\n",
                "WHERE md.team_id = sc.country_id AND country_name IN ('Germany','Poland')\r\n",
                "GROUP BY match_no\r\n",
                "HAVING COUNT(*)=2; */"
            ],
            "metadata": {
                "language": "sql",
                "azdata_cell_guid": "b7ca23cd-7e8b-4bb6-bb14-a1fdb3ea4d4f"
            },
            "outputs": [
                {
                    "output_type": "display_data",
                    "data": {
                        "text/html": "(1 row affected)"
                    },
                    "metadata": {}
                },
                {
                    "output_type": "display_data",
                    "data": {
                        "text/html": "Total execution time: 00:00:00.051"
                    },
                    "metadata": {}
                },
                {
                    "output_type": "execute_result",
                    "metadata": {},
                    "execution_count": 36,
                    "data": {
                        "application/vnd.dataresource+json": {
                            "schema": {
                                "fields": [
                                    {
                                        "name": "match_no"
                                    }
                                ]
                            },
                            "data": [
                                {
                                    "0": "18"
                                }
                            ]
                        },
                        "text/html": [
                            "<table>",
                            "<tr><th>match_no</th></tr>",
                            "<tr><td>18</td></tr>",
                            "</table>"
                        ]
                    }
                }
            ],
            "execution_count": 36
        },
        {
            "cell_type": "markdown",
            "source": [
                "5\\. Write a query in SQL to find the match no, play stage, date of match, number of gole scored, and the result of the match where Portugal played against Hungary. (match\\_mast, match\\_details, soccer\\_country)"
            ],
            "metadata": {
                "language": "sql",
                "azdata_cell_guid": "cc25188e-315b-4c77-bd1d-a0bfa8cf37e8"
            },
            "attachments": {}
        },
        {
            "cell_type": "code",
            "source": [
                "SELECT match_no, play_stage, play_date, results, goal_score\r\n",
                "FROM match_mast\r\n",
                "WHERE match_no IN(SELECT match_no \r\n",
                "                  FROM match_details \r\n",
                "                  WHERE team_id=(SELECT country_id \r\n",
                "                                 FROM soccer_country \r\n",
                "                                 WHERE country_name='Portugal') OR team_id=(SELECT country_id \r\n",
                "                                                                            FROM soccer_country\r\n",
                "                                                                            WHERE country_name='Hungary') \r\n",
                "GROUP BY match_no \r\n",
                "HAVING COUNT(DISTINCT team_id)=2);"
            ],
            "metadata": {
                "language": "sql",
                "azdata_cell_guid": "33efe4e7-9ead-427a-a9e1-40cd0e9681b0"
            },
            "outputs": [
                {
                    "output_type": "display_data",
                    "data": {
                        "text/html": "(1 row affected)"
                    },
                    "metadata": {}
                },
                {
                    "output_type": "display_data",
                    "data": {
                        "text/html": "Total execution time: 00:00:00.009"
                    },
                    "metadata": {}
                },
                {
                    "output_type": "execute_result",
                    "metadata": {},
                    "execution_count": 53,
                    "data": {
                        "application/vnd.dataresource+json": {
                            "schema": {
                                "fields": [
                                    {
                                        "name": "match_no"
                                    },
                                    {
                                        "name": "play_stage"
                                    },
                                    {
                                        "name": "play_date"
                                    },
                                    {
                                        "name": "results"
                                    },
                                    {
                                        "name": "goal_score"
                                    }
                                ]
                            },
                            "data": [
                                {
                                    "0": "34",
                                    "1": "G",
                                    "2": "2016-06-22 00:00:00",
                                    "3": "DRAW",
                                    "4": "03-Mar"
                                }
                            ]
                        },
                        "text/html": [
                            "<table>",
                            "<tr><th>match_no</th><th>play_stage</th><th>play_date</th><th>results</th><th>goal_score</th></tr>",
                            "<tr><td>34</td><td>G</td><td>2016-06-22 00:00:00</td><td>DRAW</td><td>03-Mar</td></tr>",
                            "</table>"
                        ]
                    }
                }
            ],
            "execution_count": 53
        }
    ]
}