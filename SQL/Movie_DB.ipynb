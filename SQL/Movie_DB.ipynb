{
    "metadata": {
        "kernelspec": {
            "name": "SQL",
            "display_name": "SQL",
            "language": "sql"
        },
        "language_info": {
            "name": "sql",
            "version": ""
        }
    },
    "nbformat_minor": 2,
    "nbformat": 4,
    "cells": [
        {
            "cell_type": "markdown",
            "source": [
                "## Movie\\_DB"
            ],
            "metadata": {
                "azdata_cell_guid": "f8d620bd-ab7b-470c-8cfb-f9d8e885d05d"
            },
            "attachments": {}
        },
        {
            "cell_type": "markdown",
            "source": [
                "![Categories of Sql Commands](https://f4n3x6c5.stackpathcdn.com/UploadFile/BlogImages/09252014061246AM/command%20types%20in%20SQL%20DataBase.jpg)"
            ],
            "metadata": {
                "azdata_cell_guid": "a8ac2e28-796a-4eb8-ad38-f87c3e6392af"
            },
            "attachments": {}
        },
        {
            "cell_type": "code",
            "source": [
                "CREATE DATABASE Movie_DB;"
            ],
            "metadata": {
                "azdata_cell_guid": "4c56a6ce-ce2e-4093-8ca6-a98b92ff3f21",
                "language": "sql"
            },
            "outputs": [],
            "execution_count": null
        },
        {
            "cell_type": "code",
            "source": [
                "USE Movie_DB;"
            ],
            "metadata": {
                "azdata_cell_guid": "0348964a-3a0d-469c-ad05-43a118f89555",
                "language": "sql"
            },
            "outputs": [],
            "execution_count": null
        },
        {
            "cell_type": "code",
            "source": [
                "DROP TABLE IF EXISTS Movie_Table;"
            ],
            "metadata": {
                "language": "sql",
                "azdata_cell_guid": "26cd7015-c8d4-4a3c-ba81-9e5d5a1eb4c7"
            },
            "outputs": [],
            "execution_count": null
        },
        {
            "cell_type": "markdown",
            "source": [
                "CREATE TABLE"
            ],
            "metadata": {
                "azdata_cell_guid": "982adcfe-ba02-42f3-a561-ae0a3f8ed956"
            },
            "attachments": {}
        },
        {
            "cell_type": "code",
            "source": [
                "CREATE TABLE Movie_Table (\r\n",
                "    movie_id INT PRIMARY KEY IDENTITY(1,1),\r\n",
                "    movie_name VARCHAR(50),\r\n",
                "    genre VARCHAR(15),\r\n",
                "    release_date DATE,\r\n",
                "    director VARCHAR(20),\r\n",
                "    writer VARCHAR(20),\r\n",
                "    actor VARCHAR(20),\r\n",
                "    movie_language VARCHAR(20),\r\n",
                "    official_website VARCHAR(100),\r\n",
                "    synopsis VARCHAR(200)\r\n",
                ");"
            ],
            "metadata": {
                "azdata_cell_guid": "b97bbbee-b120-4120-bddd-a870f4133225",
                "language": "sql"
            },
            "outputs": [],
            "execution_count": null
        },
        {
            "cell_type": "markdown",
            "source": [
                "INSERT INTO"
            ],
            "metadata": {
                "azdata_cell_guid": "2e8e0ecb-3c86-4785-bf92-f2cc1fd41450"
            },
            "attachments": {}
        },
        {
            "cell_type": "code",
            "source": [
                "INSERT INTO Movie_Table (\r\n",
                "    movie_name, genre, release_date, director, writer, actor, movie_language, official_website, synopsis\r\n",
                ") VALUES \r\n",
                "('The Shawshank Redemption', 'Drama', '1994-09-23', 'Frank Darabont', 'Stephen King', 'Tim Robbins', 'English', 'http://www.warnerbros.com/movies/shawshank-redemption', 'Two imprisoned men bond over a number of years, finding solace and eventual redemption through acts of common decency.'),\r\n",
                "('The Godfather', 'Crime', '1972-03-24', 'Francis Ford Coppola', 'Mario Puzo', 'Marlon Brando', 'English', 'http://www.thegodfather.com/', 'The aging patriarch of an organized crime dynasty transfers control of his clandestine empire to his reluctant son.'),\r\n",
                "('The Godfather: Part II', 'Crime', '1974-12-18', 'Francis Ford Coppola', 'Francis Ford Coppola', 'Al Pacino', 'English', 'http://www.thegodfather.com/', 'The early life and career of Vito Corleone in 1920s New York City is portrayed, while his son, Michael, expands and tightens his grip on the family crime syndicate.'),\r\n",
                "('The Dark Knight', 'Action', '2008-07-18', 'Christopher Nolan', 'Jonathan Nolan', 'Christian Bale', 'English', 'http://thedarkknight.warnerbros.com/', 'When the menace known as the Joker wreaks havoc and chaos on the people of Gotham, Batman must accept one of the greatest psychological and physical tests of his ability to fight injustice.'),\r\n",
                "('12 Angry Men', 'Drama', '1957-04-10', 'Sidney Lumet', 'Reginald Rose', 'Henry Fonda', 'English', 'N/A', 'A jury holdout attempts to prevent a miscarriage of justice by forcing his colleagues to reconsider the evidence.'),\r\n",
                "('Schindler''s List', 'Biography', '1993-02-04', 'Steven Spielberg', 'Thomas Keneally', 'Liam Neeson', 'English', 'http://www.schindlerslist.com/', 'In German-occupied Poland during World War II, industrialist Oskar Schindler gradually becomes concerned for his Jewish workforce after witnessing their persecution by the Nazis.'),\r\n",
                "('The Lord of the Rings: The Return of the King', 'Action', '2003-12-17', 'Peter Jackson', 'J.R.R. Tolkien', 'Elijah Wood', 'English', 'http://www.lordoftherings.net/', 'Gandalf and Aragorn lead the World of Men against Sauron''s army to draw his gaze from Frodo and Sam as they approach Mount Doom with the One Ring.'),\r\n",
                "('Pulp Fiction', 'Crime', '1994-10-14', 'Quentin Tarantino', 'Quentin Tarantino', 'John Travolta', 'English', 'N/A', 'The lives of two mob hitmen, a boxer, a gangster and his wife, and a pair of diner bandits intertwine in four tales of violence and redemption'),\r\n",
                "('The Lord of the Rings: The Fellowship of the Ring', 'Action', '2001-12-19', 'Peter Jackson', 'J.R.R. Tolkien', 'Elijah Wood', 'English', 'N/A', 'A meek Hobbit from the Shire and eight companions set out on a journey to destroy the powerful One Ring and save Middle-earth from the Dark Lord Sauron.'),\r\n",
                "('Forrest Gump', 'Drama', '1994-07-06', 'Robert Zemeckis', 'Winston Groom', 'Tom Hanks', 'English', 'N/A', 'The presidencies of Kennedy and Johnson, the events of Vietnam, Watergate, and other history unfold through the perspective of an Alabama man with an IQ of 75.'),\r\n",
                "('Inception', 'Action', '2010-07-16', 'Christopher Nolan', 'Christopher Nolan', 'Leonardo DiCaprio', 'English', 'http://inceptionmovie.warnerbros.com/', 'A thief who steals corporate secrets through the use of dream-sharing technology is given the inverse task of planting an idea into the mind of a C.E.O.'),\r\n",
                "('The Lord of the Rings: The Two Towers', 'Action', '2002-12-18', 'Peter Jackson', 'J.R.R. Tolkien', 'Elijah Wood', 'English', 'N/A', 'While Frodo and Sam edge closer to Mordor with the help of the shifty Gollum, the divided fellowship makes a stand against Sauron''s new ally, Saruman, and his hordes of Isengard.'),\r\n",
                "('Star Wars: Episode V - The Empire Strikes Back', 'Action', '1980-06-20', 'Irvin Kershner', 'George Lucas', 'Mark Hamill', 'English', 'http://www.starwars.com/films/star-wars-episode-v-the-empire-strikes-back', 'After the Rebels are brutally overpowered by the Empire on the ice planet Hoth, Luke Skywalker begins Jedi training with Yoda, while his friends are pursued by Darth Vader.'),\r\n",
                "('The Matrix', 'Action', '1999-03-31', 'Lana Wachowski', 'Lilly Wachowski', 'Keanu Reeves', 'English', 'http://www.whatisthematrix.com/', 'A computer hacker learns from mysterious rebels about the true nature of his reality and his role in the war against its controllers.'),\r\n",
                "('Goodfellas', 'Crime', '1990-09-19', 'Martin Scorsese', 'Nicholas Pileggi', 'Robert De Niro', 'English', 'N/A', 'The story of Henry Hill and his life in the mob, covering his relationship with his wife Karen Hill and his mob partners Jimmy Conway and Tommy DeVito in the Italian-American crime syndicate.'),\r\n",
                "('One Flew Over the Cuckoo''s Nest', 'Drama', '1975-11-19', 'Milos Forman', 'Ken Kesey', 'Jack Nicholson', 'English', 'N/A', 'A criminal pleads insanity and is admitted to a mental institution, where he rebels against the oppressive nurse and rallies up the scared patients.');\r\n",
                ""
            ],
            "metadata": {
                "azdata_cell_guid": "97fb0134-f859-4be5-9359-1bf9b686c686",
                "language": "sql"
            },
            "outputs": [],
            "execution_count": null
        },
        {
            "cell_type": "code",
            "source": [
                "SELECT *\r\n",
                "FROM Movie_Table"
            ],
            "metadata": {
                "language": "sql",
                "azdata_cell_guid": "e91cea4a-b8d7-4e8c-8ce4-6999297646b5"
            },
            "outputs": [
                {
                    "output_type": "display_data",
                    "data": {
                        "text/html": "(16 rows affected)"
                    },
                    "metadata": {}
                },
                {
                    "output_type": "display_data",
                    "data": {
                        "text/html": "Total execution time: 00:00:00.113"
                    },
                    "metadata": {}
                },
                {
                    "output_type": "execute_result",
                    "metadata": {},
                    "execution_count": 60,
                    "data": {
                        "application/vnd.dataresource+json": {
                            "schema": {
                                "fields": [
                                    {
                                        "name": "movie_id"
                                    },
                                    {
                                        "name": "movie_name"
                                    },
                                    {
                                        "name": "genre"
                                    },
                                    {
                                        "name": "release_date"
                                    },
                                    {
                                        "name": "director"
                                    },
                                    {
                                        "name": "writer"
                                    },
                                    {
                                        "name": "actor"
                                    },
                                    {
                                        "name": "movie_language"
                                    },
                                    {
                                        "name": "official_website"
                                    },
                                    {
                                        "name": "synopsis"
                                    },
                                    {
                                        "name": "rating_id"
                                    }
                                ]
                            },
                            "data": [
                                {
                                    "0": "1",
                                    "1": "The Shawshank Redemption",
                                    "2": "Drama",
                                    "3": "1994-09-23",
                                    "4": "Frank Darabont",
                                    "5": "Stephen King",
                                    "6": "Tim Robbins",
                                    "7": "English",
                                    "8": "http://www.warnerbros.com/movies/shawshank-redemption",
                                    "9": "Two imprisoned men bond over a number of years, finding solace and eventual redemption through acts of common decency.",
                                    "10": "100"
                                },
                                {
                                    "0": "2",
                                    "1": "The Godfather",
                                    "2": "Crime",
                                    "3": "1972-03-24",
                                    "4": "Francis Ford Coppola",
                                    "5": "Mario Puzo",
                                    "6": "Marlon Brando",
                                    "7": "English",
                                    "8": "http://www.thegodfather.com/",
                                    "9": "The aging patriarch of an organized crime dynasty transfers control of his clandestine empire to his reluctant son.",
                                    "10": "110"
                                },
                                {
                                    "0": "3",
                                    "1": "The Godfather: Part II",
                                    "2": "Crime",
                                    "3": "1974-12-18",
                                    "4": "Francis Ford Coppola",
                                    "5": "Francis Ford Coppola",
                                    "6": "Al Pacino",
                                    "7": "English",
                                    "8": "http://www.thegodfather.com/",
                                    "9": "The early life and career of Vito Corleone in 1920s New York City is portrayed, while his son, Michael, expands and tightens his grip on the family crime syndicate.",
                                    "10": "120"
                                },
                                {
                                    "0": "4",
                                    "1": "The Dark Knight",
                                    "2": "Action",
                                    "3": "2008-07-18",
                                    "4": "Christopher Nolan",
                                    "5": "Jonathan Nolan",
                                    "6": "Christian Bale",
                                    "7": "English",
                                    "8": "http://thedarkknight.warnerbros.com/",
                                    "9": "When the menace known as the Joker wreaks havoc and chaos on the people of Gotham, Batman must accept one of the greatest psychological and physical tests of his ability to fight injustice.",
                                    "10": "130"
                                },
                                {
                                    "0": "5",
                                    "1": "12 Angry Men",
                                    "2": "Drama",
                                    "3": "1957-04-10",
                                    "4": "Sidney Lumet",
                                    "5": "Reginald Rose",
                                    "6": "Henry Fonda",
                                    "7": "English",
                                    "8": "N/A",
                                    "9": "A jury holdout attempts to prevent a miscarriage of justice by forcing his colleagues to reconsider the evidence.",
                                    "10": "140"
                                },
                                {
                                    "0": "6",
                                    "1": "Schindler's List",
                                    "2": "Biography",
                                    "3": "1993-02-04",
                                    "4": "Steven Spielberg",
                                    "5": "Thomas Keneally",
                                    "6": "Liam Neeson",
                                    "7": "English",
                                    "8": "http://www.schindlerslist.com/",
                                    "9": "In German-occupied Poland during World War II, industrialist Oskar Schindler gradually becomes concerned for his Jewish workforce after witnessing their persecution by the Nazis.",
                                    "10": "150"
                                },
                                {
                                    "0": "7",
                                    "1": "The Lord of the Rings: The Return of the King",
                                    "2": "Action",
                                    "3": "2003-12-17",
                                    "4": "Peter Jackson",
                                    "5": "J.R.R. Tolkien",
                                    "6": "Elijah Wood",
                                    "7": "English",
                                    "8": "http://www.lordoftherings.net/",
                                    "9": "Gandalf and Aragorn lead the World of Men against Sauron's army to draw his gaze from Frodo and Sam as they approach Mount Doom with the One Ring.",
                                    "10": "160"
                                },
                                {
                                    "0": "8",
                                    "1": "Pulp Fiction",
                                    "2": "Crime",
                                    "3": "1994-10-14",
                                    "4": "Quentin Tarantino",
                                    "5": "Quentin Tarantino",
                                    "6": "John Travolta",
                                    "7": "English",
                                    "8": "N/A",
                                    "9": "The lives of two mob hitmen, a boxer, a gangster and his wife, and a pair of diner bandits intertwine in four tales of violence and redemption",
                                    "10": "170"
                                },
                                {
                                    "0": "9",
                                    "1": "The Lord of the Rings: The Fellowship of the Ring",
                                    "2": "Action",
                                    "3": "2001-12-19",
                                    "4": "Peter Jackson",
                                    "5": "J.R.R. Tolkien",
                                    "6": "Elijah Wood",
                                    "7": "English",
                                    "8": "N/A",
                                    "9": "A meek Hobbit from the Shire and eight companions set out on a journey to destroy the powerful One Ring and save Middle-earth from the Dark Lord Sauron.",
                                    "10": "180"
                                },
                                {
                                    "0": "10",
                                    "1": "Forrest Gump",
                                    "2": "Drama",
                                    "3": "1994-07-06",
                                    "4": "Robert Zemeckis",
                                    "5": "Winston Groom",
                                    "6": "Tom Hanks",
                                    "7": "English",
                                    "8": "N/A",
                                    "9": "The presidencies of Kennedy and Johnson, the events of Vietnam, Watergate, and other history unfold through the perspective of an Alabama man with an IQ of 75.",
                                    "10": "190"
                                },
                                {
                                    "0": "11",
                                    "1": "Inception",
                                    "2": "Action",
                                    "3": "2010-07-16",
                                    "4": "Christopher Nolan",
                                    "5": "Christopher Nolan",
                                    "6": "Leonardo DiCaprio",
                                    "7": "English",
                                    "8": "http://inceptionmovie.warnerbros.com/",
                                    "9": "A thief who steals corporate secrets through the use of dream-sharing technology is given the inverse task of planting an idea into the mind of a C.E.O.",
                                    "10": "200"
                                },
                                {
                                    "0": "12",
                                    "1": "The Lord of the Rings: The Two Towers",
                                    "2": "Action",
                                    "3": "2002-12-18",
                                    "4": "Peter Jackson",
                                    "5": "J.R.R. Tolkien",
                                    "6": "Elijah Wood",
                                    "7": "English",
                                    "8": "N/A",
                                    "9": "While Frodo and Sam edge closer to Mordor with the help of the shifty Gollum, the divided fellowship makes a stand against Sauron's new ally, Saruman, and his hordes of Isengard.",
                                    "10": "210"
                                },
                                {
                                    "0": "13",
                                    "1": "Star Wars: Episode V - The Empire Strikes Back",
                                    "2": "Action",
                                    "3": "1980-06-20",
                                    "4": "Irvin Kershner",
                                    "5": "George Lucas",
                                    "6": "Mark Hamill",
                                    "7": "English",
                                    "8": "http://www.starwars.com/films/star-wars-episode-v-the-empire-strikes-back",
                                    "9": "After the Rebels are brutally overpowered by the Empire on the ice planet Hoth, Luke Skywalker begins Jedi training with Yoda, while his friends are pursued by Darth Vader.",
                                    "10": "220"
                                },
                                {
                                    "0": "14",
                                    "1": "The Matrix",
                                    "2": "Action",
                                    "3": "1999-03-31",
                                    "4": "Lana Wachowski",
                                    "5": "Lilly Wachowski",
                                    "6": "Keanu Reeves",
                                    "7": "English",
                                    "8": "http://www.whatisthematrix.com/",
                                    "9": "A computer hacker learns from mysterious rebels about the true nature of his reality and his role in the war against its controllers.",
                                    "10": "230"
                                },
                                {
                                    "0": "15",
                                    "1": "Goodfellas",
                                    "2": "Crime",
                                    "3": "1990-09-19",
                                    "4": "Martin Scorsese",
                                    "5": "Nicholas Pileggi",
                                    "6": "Robert De Niro",
                                    "7": "English",
                                    "8": "N/A",
                                    "9": "The story of Henry Hill and his life in the mob, covering his relationship with his wife Karen Hill and his mob partners Jimmy Conway and Tommy DeVito in the Italian-American crime syndicate.",
                                    "10": "240"
                                },
                                {
                                    "0": "16",
                                    "1": "One Flew Over the Cuckoo's Nest",
                                    "2": "Drama",
                                    "3": "1975-11-19",
                                    "4": "Milos Forman",
                                    "5": "Ken Kesey",
                                    "6": "Jack Nicholson",
                                    "7": "English",
                                    "8": "N/A",
                                    "9": "A criminal pleads insanity and is admitted to a mental institution, where he rebels against the oppressive nurse and rallies up the scared patients.",
                                    "10": "250"
                                }
                            ]
                        },
                        "text/html": [
                            "<table>",
                            "<tr><th>movie_id</th><th>movie_name</th><th>genre</th><th>release_date</th><th>director</th><th>writer</th><th>actor</th><th>movie_language</th><th>official_website</th><th>synopsis</th><th>rating_id</th></tr>",
                            "<tr><td>1</td><td>The Shawshank Redemption</td><td>Drama</td><td>1994-09-23</td><td>Frank Darabont</td><td>Stephen King</td><td>Tim Robbins</td><td>English</td><td>http://www.warnerbros.com/movies/shawshank-redemption</td><td>Two imprisoned men bond over a number of years, finding solace and eventual redemption through acts of common decency.</td><td>100</td></tr>",
                            "<tr><td>2</td><td>The Godfather</td><td>Crime</td><td>1972-03-24</td><td>Francis Ford Coppola</td><td>Mario Puzo</td><td>Marlon Brando</td><td>English</td><td>http://www.thegodfather.com/</td><td>The aging patriarch of an organized crime dynasty transfers control of his clandestine empire to his reluctant son.</td><td>110</td></tr>",
                            "<tr><td>3</td><td>The Godfather: Part II</td><td>Crime</td><td>1974-12-18</td><td>Francis Ford Coppola</td><td>Francis Ford Coppola</td><td>Al Pacino</td><td>English</td><td>http://www.thegodfather.com/</td><td>The early life and career of Vito Corleone in 1920s New York City is portrayed, while his son, Michael, expands and tightens his grip on the family crime syndicate.</td><td>120</td></tr>",
                            "<tr><td>4</td><td>The Dark Knight</td><td>Action</td><td>2008-07-18</td><td>Christopher Nolan</td><td>Jonathan Nolan</td><td>Christian Bale</td><td>English</td><td>http://thedarkknight.warnerbros.com/</td><td>When the menace known as the Joker wreaks havoc and chaos on the people of Gotham, Batman must accept one of the greatest psychological and physical tests of his ability to fight injustice.</td><td>130</td></tr>",
                            "<tr><td>5</td><td>12 Angry Men</td><td>Drama</td><td>1957-04-10</td><td>Sidney Lumet</td><td>Reginald Rose</td><td>Henry Fonda</td><td>English</td><td>N/A</td><td>A jury holdout attempts to prevent a miscarriage of justice by forcing his colleagues to reconsider the evidence.</td><td>140</td></tr>",
                            "<tr><td>6</td><td>Schindler's List</td><td>Biography</td><td>1993-02-04</td><td>Steven Spielberg</td><td>Thomas Keneally</td><td>Liam Neeson</td><td>English</td><td>http://www.schindlerslist.com/</td><td>In German-occupied Poland during World War II, industrialist Oskar Schindler gradually becomes concerned for his Jewish workforce after witnessing their persecution by the Nazis.</td><td>150</td></tr>",
                            "<tr><td>7</td><td>The Lord of the Rings: The Return of the King</td><td>Action</td><td>2003-12-17</td><td>Peter Jackson</td><td>J.R.R. Tolkien</td><td>Elijah Wood</td><td>English</td><td>http://www.lordoftherings.net/</td><td>Gandalf and Aragorn lead the World of Men against Sauron's army to draw his gaze from Frodo and Sam as they approach Mount Doom with the One Ring.</td><td>160</td></tr>",
                            "<tr><td>8</td><td>Pulp Fiction</td><td>Crime</td><td>1994-10-14</td><td>Quentin Tarantino</td><td>Quentin Tarantino</td><td>John Travolta</td><td>English</td><td>N/A</td><td>The lives of two mob hitmen, a boxer, a gangster and his wife, and a pair of diner bandits intertwine in four tales of violence and redemption</td><td>170</td></tr>",
                            "<tr><td>9</td><td>The Lord of the Rings: The Fellowship of the Ring</td><td>Action</td><td>2001-12-19</td><td>Peter Jackson</td><td>J.R.R. Tolkien</td><td>Elijah Wood</td><td>English</td><td>N/A</td><td>A meek Hobbit from the Shire and eight companions set out on a journey to destroy the powerful One Ring and save Middle-earth from the Dark Lord Sauron.</td><td>180</td></tr>",
                            "<tr><td>10</td><td>Forrest Gump</td><td>Drama</td><td>1994-07-06</td><td>Robert Zemeckis</td><td>Winston Groom</td><td>Tom Hanks</td><td>English</td><td>N/A</td><td>The presidencies of Kennedy and Johnson, the events of Vietnam, Watergate, and other history unfold through the perspective of an Alabama man with an IQ of 75.</td><td>190</td></tr>",
                            "<tr><td>11</td><td>Inception</td><td>Action</td><td>2010-07-16</td><td>Christopher Nolan</td><td>Christopher Nolan</td><td>Leonardo DiCaprio</td><td>English</td><td>http://inceptionmovie.warnerbros.com/</td><td>A thief who steals corporate secrets through the use of dream-sharing technology is given the inverse task of planting an idea into the mind of a C.E.O.</td><td>200</td></tr>",
                            "<tr><td>12</td><td>The Lord of the Rings: The Two Towers</td><td>Action</td><td>2002-12-18</td><td>Peter Jackson</td><td>J.R.R. Tolkien</td><td>Elijah Wood</td><td>English</td><td>N/A</td><td>While Frodo and Sam edge closer to Mordor with the help of the shifty Gollum, the divided fellowship makes a stand against Sauron's new ally, Saruman, and his hordes of Isengard.</td><td>210</td></tr>",
                            "<tr><td>13</td><td>Star Wars: Episode V - The Empire Strikes Back</td><td>Action</td><td>1980-06-20</td><td>Irvin Kershner</td><td>George Lucas</td><td>Mark Hamill</td><td>English</td><td>http://www.starwars.com/films/star-wars-episode-v-the-empire-strikes-back</td><td>After the Rebels are brutally overpowered by the Empire on the ice planet Hoth, Luke Skywalker begins Jedi training with Yoda, while his friends are pursued by Darth Vader.</td><td>220</td></tr>",
                            "<tr><td>14</td><td>The Matrix</td><td>Action</td><td>1999-03-31</td><td>Lana Wachowski</td><td>Lilly Wachowski</td><td>Keanu Reeves</td><td>English</td><td>http://www.whatisthematrix.com/</td><td>A computer hacker learns from mysterious rebels about the true nature of his reality and his role in the war against its controllers.</td><td>230</td></tr>",
                            "<tr><td>15</td><td>Goodfellas</td><td>Crime</td><td>1990-09-19</td><td>Martin Scorsese</td><td>Nicholas Pileggi</td><td>Robert De Niro</td><td>English</td><td>N/A</td><td>The story of Henry Hill and his life in the mob, covering his relationship with his wife Karen Hill and his mob partners Jimmy Conway and Tommy DeVito in the Italian-American crime syndicate.</td><td>240</td></tr>",
                            "<tr><td>16</td><td>One Flew Over the Cuckoo's Nest</td><td>Drama</td><td>1975-11-19</td><td>Milos Forman</td><td>Ken Kesey</td><td>Jack Nicholson</td><td>English</td><td>N/A</td><td>A criminal pleads insanity and is admitted to a mental institution, where he rebels against the oppressive nurse and rallies up the scared patients.</td><td>250</td></tr>",
                            "</table>"
                        ]
                    }
                }
            ],
            "execution_count": 60
        },
        {
            "cell_type": "markdown",
            "source": [
                "ALTER TABLE"
            ],
            "metadata": {
                "azdata_cell_guid": "33affcb0-d7a9-4499-a86b-4a288438313d"
            },
            "attachments": {}
        },
        {
            "cell_type": "code",
            "source": [
                "ALTER TABLE Movie_Table\r\n",
                "ADD rating DECIMAL (2,2);"
            ],
            "metadata": {
                "azdata_cell_guid": "0b624eb2-f82d-4924-9580-2da31fede369",
                "language": "sql"
            },
            "outputs": [],
            "execution_count": null
        },
        {
            "cell_type": "code",
            "source": [
                "ALTER TABLE Movie_Table\r\n",
                "ALTER COLUMN synopsis VARCHAR(250);"
            ],
            "metadata": {
                "language": "sql",
                "azdata_cell_guid": "85c28df0-2a0e-4489-9991-a2a4f82ba340"
            },
            "outputs": [],
            "execution_count": null
        },
        {
            "cell_type": "code",
            "source": [
                "ALTER TABLE Movie_Table\r\n",
                "DROP COLUMN rating;"
            ],
            "metadata": {
                "language": "sql",
                "azdata_cell_guid": "cd18b67f-124d-4297-899f-39e83188f762"
            },
            "outputs": [],
            "execution_count": null
        },
        {
            "cell_type": "markdown",
            "source": [
                "FOREIGN KEY"
            ],
            "metadata": {
                "azdata_cell_guid": "9d2ae878-b335-4967-ab18-88dd51beb76a"
            },
            "attachments": {}
        },
        {
            "cell_type": "code",
            "source": [
                "DROP TABLE IF EXISTS Movie_Rating;\r\n",
                "\r\n",
                "CREATE TABLE Movie_Rating(\r\n",
                "    rating_id INT PRIMARY KEY IDENTITY (100,10),\r\n",
                "    movie_id INT FOREIGN KEY REFERENCES Movie_Table (movie_id),\r\n",
                "    rating DECIMAL (2,1)  \r\n",
                ");"
            ],
            "metadata": {
                "azdata_cell_guid": "01679293-0386-418b-8d82-f46d4a026083",
                "language": "sql",
                "tags": []
            },
            "outputs": [],
            "execution_count": null
        },
        {
            "cell_type": "code",
            "source": [
                "INSERT INTO Movie_Rating\r\n",
                "(movie_id, rating)\r\n",
                "VALUES\r\n",
                "    (1, 9.3),\r\n",
                "    (2, 9.2),\r\n",
                "    (3, 9.0),\r\n",
                "    (4, 8.9),\r\n",
                "    (5, 8.9),\r\n",
                "    (6, 8.9),\r\n",
                "    (7, 8.7),\r\n",
                "    (8, 8.7),\r\n",
                "    (9, 8.7),\r\n",
                "    (10, 8.6),\r\n",
                "    (11, 8.6),\r\n",
                "    (12, 8.6),\r\n",
                "    (13, 8.5),\r\n",
                "    (14, 8.5),\r\n",
                "    (15, 8.4),\r\n",
                "    (16, 8.4);"
            ],
            "metadata": {
                "language": "sql",
                "azdata_cell_guid": "7401a860-8ce0-466f-8b81-ad4767188755"
            },
            "outputs": [],
            "execution_count": null
        },
        {
            "cell_type": "code",
            "source": [
                "SELECT *\r\n",
                "FROM Movie_Rating;"
            ],
            "metadata": {
                "language": "sql",
                "azdata_cell_guid": "ea7ab8ea-2058-4703-8701-0c8dcc180ad8"
            },
            "outputs": [
                {
                    "output_type": "display_data",
                    "data": {
                        "text/html": "(16 rows affected)"
                    },
                    "metadata": {}
                },
                {
                    "output_type": "display_data",
                    "data": {
                        "text/html": "Total execution time: 00:00:00.158"
                    },
                    "metadata": {}
                },
                {
                    "output_type": "execute_result",
                    "metadata": {},
                    "execution_count": 32,
                    "data": {
                        "application/vnd.dataresource+json": {
                            "schema": {
                                "fields": [
                                    {
                                        "name": "rating_id"
                                    },
                                    {
                                        "name": "movie_id"
                                    },
                                    {
                                        "name": "rating"
                                    }
                                ]
                            },
                            "data": [
                                {
                                    "0": "100",
                                    "1": "1",
                                    "2": "9.3"
                                },
                                {
                                    "0": "110",
                                    "1": "2",
                                    "2": "9.2"
                                },
                                {
                                    "0": "120",
                                    "1": "3",
                                    "2": "9.0"
                                },
                                {
                                    "0": "130",
                                    "1": "4",
                                    "2": "8.9"
                                },
                                {
                                    "0": "140",
                                    "1": "5",
                                    "2": "8.9"
                                },
                                {
                                    "0": "150",
                                    "1": "6",
                                    "2": "8.9"
                                },
                                {
                                    "0": "160",
                                    "1": "7",
                                    "2": "8.7"
                                },
                                {
                                    "0": "170",
                                    "1": "8",
                                    "2": "8.7"
                                },
                                {
                                    "0": "180",
                                    "1": "9",
                                    "2": "8.7"
                                },
                                {
                                    "0": "190",
                                    "1": "10",
                                    "2": "8.6"
                                },
                                {
                                    "0": "200",
                                    "1": "11",
                                    "2": "8.6"
                                },
                                {
                                    "0": "210",
                                    "1": "12",
                                    "2": "8.6"
                                },
                                {
                                    "0": "220",
                                    "1": "13",
                                    "2": "8.5"
                                },
                                {
                                    "0": "230",
                                    "1": "14",
                                    "2": "8.5"
                                },
                                {
                                    "0": "240",
                                    "1": "15",
                                    "2": "8.4"
                                },
                                {
                                    "0": "250",
                                    "1": "16",
                                    "2": "8.4"
                                }
                            ]
                        },
                        "text/html": [
                            "<table>",
                            "<tr><th>rating_id</th><th>movie_id</th><th>rating</th></tr>",
                            "<tr><td>100</td><td>1</td><td>9.3</td></tr>",
                            "<tr><td>110</td><td>2</td><td>9.2</td></tr>",
                            "<tr><td>120</td><td>3</td><td>9.0</td></tr>",
                            "<tr><td>130</td><td>4</td><td>8.9</td></tr>",
                            "<tr><td>140</td><td>5</td><td>8.9</td></tr>",
                            "<tr><td>150</td><td>6</td><td>8.9</td></tr>",
                            "<tr><td>160</td><td>7</td><td>8.7</td></tr>",
                            "<tr><td>170</td><td>8</td><td>8.7</td></tr>",
                            "<tr><td>180</td><td>9</td><td>8.7</td></tr>",
                            "<tr><td>190</td><td>10</td><td>8.6</td></tr>",
                            "<tr><td>200</td><td>11</td><td>8.6</td></tr>",
                            "<tr><td>210</td><td>12</td><td>8.6</td></tr>",
                            "<tr><td>220</td><td>13</td><td>8.5</td></tr>",
                            "<tr><td>230</td><td>14</td><td>8.5</td></tr>",
                            "<tr><td>240</td><td>15</td><td>8.4</td></tr>",
                            "<tr><td>250</td><td>16</td><td>8.4</td></tr>",
                            "</table>"
                        ]
                    }
                }
            ],
            "execution_count": 32
        },
        {
            "cell_type": "code",
            "source": [
                "ALTER TABLE Movie_Table \r\n",
                "ADD CONSTRAINT FK_Movie_Ratings_RatingID\r\n",
                "FOREIGN KEY (rating_id) \r\n",
                "REFERENCES Movie_Rating(rating_id);"
            ],
            "metadata": {
                "azdata_cell_guid": "390e21e2-804b-4b12-97d2-2008fff8ffa4",
                "language": "sql",
                "tags": []
            },
            "outputs": [],
            "execution_count": null
        },
        {
            "cell_type": "code",
            "source": [
                "UPDATE Movie_Table\r\n",
                "SET rating_id = mr.rating_id\r\n",
                "FROM Movie_Table mt\r\n",
                "JOIN Movie_Rating mr ON mt.movie_id = mr.movie_id;"
            ],
            "metadata": {
                "language": "sql",
                "azdata_cell_guid": "20c5eefe-9fac-4a59-bf09-986d46c995f8",
                "tags": []
            },
            "outputs": [],
            "execution_count": null
        },
        {
            "cell_type": "markdown",
            "source": [
                "VALUE error\n",
                "\n",
                "![](data:image/png;base64,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)"
            ],
            "metadata": {
                "language": "sql",
                "azdata_cell_guid": "ccdd4bce-e61d-4648-92e0-a7f968af0cdc"
            },
            "attachments": {}
        },
        {
            "cell_type": "markdown",
            "source": [
                "COLUMN error\n",
                "\n",
                "![](data:image/png;base64,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)"
            ],
            "metadata": {
                "language": "sql",
                "azdata_cell_guid": "edac8046-6ab5-4b6a-baa6-d39ed245f09c"
            },
            "attachments": {}
        },
        {
            "cell_type": "markdown",
            "source": [
                "MISSING SINGLE QUOTE error\n",
                "\n",
                "![](data:image/png;base64,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)"
            ],
            "metadata": {
                "language": "sql",
                "azdata_cell_guid": "6e36a488-4384-40e1-9cc3-57ff1cbcbb5b"
            },
            "attachments": {}
        }
    ]
}