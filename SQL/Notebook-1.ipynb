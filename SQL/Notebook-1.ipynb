{
    "metadata": {
        "kernelspec": {
            "name": "SQL",
            "display_name": "SQL",
            "language": "sql"
        },
        "language_info": {
            "name": "sql",
            "version": ""
        }
    },
    "nbformat_minor": 2,
    "nbformat": 4,
    "cells": [
        {
            "cell_type": "markdown",
            "source": [
                "test"
            ],
            "metadata": {
                "azdata_cell_guid": "54a1d006-2704-46ec-a102-59c32e4f12d3"
            },
            "attachments": {}
        }
    ]
}