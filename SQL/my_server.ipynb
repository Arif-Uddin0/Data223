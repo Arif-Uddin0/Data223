{
    "metadata": {
        "kernelspec": {
            "name": "SQL",
            "display_name": "SQL",
            "language": "sql"
        },
        "language_info": {
            "name": "sql",
            "version": ""
        }
    },
    "nbformat_minor": 2,
    "nbformat": 4,
    "cells": [
        {
            "cell_type": "markdown",
            "source": [
                "## Create Database\n",
                "\n",
                "```\n",
                "CREATE DATABASE my_database;\n",
                "```"
            ],
            "metadata": {
                "azdata_cell_guid": "a83d497b-f98d-4959-be70-5c912c72572c"
            },
            "attachments": {}
        },
        {
            "cell_type": "code",
            "source": [
                "CREATE DATABASE my_database;"
            ],
            "metadata": {
                "azdata_cell_guid": "aa056a4a-760e-4952-b4e8-d7742fc9b8d6",
                "language": "sql"
            },
            "outputs": [],
            "execution_count": null
        },
        {
            "cell_type": "markdown",
            "source": [
                "## INSERT into Database"
            ],
            "metadata": {
                "azdata_cell_guid": "ed69399f-855f-4c91-a70a-765eeb88528f"
            },
            "attachments": {}
        },
        {
            "cell_type": "code",
            "source": [
                "INSERT INTO my_database (\r\n",
                "    first_name, last_name, notes, phone_number,\r\n",
                "    birthdate, first_shift_start, lunch_break, number_of_awards,\r\n",
                "    hourly_rate, height_metres,\r\n",
                "    is_full_time\r\n",
                ") VALUES (\r\n",
                "    'Joe', --VARCHAR\r\n",
                "    'Smith', --VARCHAR\r\n",
                "    'Consultant', --VARCHAR\r\n",
                "    '07123456789', --CHAR\r\n",
                "    '1990-01-23', --DATE\r\n",
                "    '2020-04-01 09:00:00', --DATETIME\r\n",
                "    '13:00:00', --TIME\r\n",
                "    4, --INT\r\n",
                "    12.75, --DECIMAL\r\n",
                "    1.77e1, --FLOAT\r\n",
                "    1 --BIT\r\n",
                ");"
            ],
            "metadata": {
                "azdata_cell_guid": "0730b9b9-b9b1-4cff-bdc1-726e0a85baaf",
                "language": "sql",
                "tags": []
            },
            "outputs": [],
            "execution_count": null
        },
        {
            "cell_type": "code",
            "source": [
                "USE Store;"
            ],
            "metadata": {
                "azdata_cell_guid": "327f49eb-baf0-454b-84ba-3d45919b5f49",
                "language": "sql"
            },
            "outputs": [
                {
                    "output_type": "display_data",
                    "data": {
                        "text/html": "Commands completed successfully."
                    },
                    "metadata": {}
                },
                {
                    "output_type": "display_data",
                    "data": {
                        "text/html": "Total execution time: 00:00:00.007"
                    },
                    "metadata": {}
                }
            ],
            "execution_count": 24
        },
        {
            "cell_type": "markdown",
            "source": [
                "## Subqueries"
            ],
            "metadata": {
                "language": "sql",
                "azdata_cell_guid": "c0c64896-5d44-4c56-b309-56581712bf69"
            },
            "attachments": {}
        },
        {
            "cell_type": "code",
            "source": [
                "USE Store\r\n",
                "\r\n",
                "SELECT *\r\n",
                "FROM payments p\r\n",
                "WHERE amount = (SELECT MAX(amount)\r\n",
                "                        FROM payments);"
            ],
            "metadata": {
                "language": "sql",
                "azdata_cell_guid": "bc60d851-acb3-498f-af0e-6bfc95250954",
                "tags": []
            },
            "outputs": [],
            "execution_count": null
        },
        {
            "cell_type": "markdown",
            "source": [
                "## JOIN"
            ],
            "metadata": {
                "language": "sql",
                "azdata_cell_guid": "b0bb1eaa-ba17-4921-b6ba-8c9bf1d26366"
            },
            "attachments": {}
        },
        {
            "cell_type": "code",
            "source": [
                "USE Store\r\n",
                "\r\n",
                "SELECT TOP 10 CONCAT(e.firstName, ' ', e.lastName) AS EmployeeName, c.customerNumber, c.customerName, \r\n",
                "CONCAT(c.contactFirstName, ' ', c.contactLastName) AS ContactName, p.paymentDate, p.amount\r\n",
                "FROM customers c\r\n",
                "JOIN payments p\r\n",
                "ON c.customerNumber = p.customerNumber\r\n",
                "JOIN employees e\r\n",
                "ON c.salesRepEmployeeNumber = e.employeeNumber;"
            ],
            "metadata": {
                "language": "sql",
                "azdata_cell_guid": "483a8365-cab9-4008-bfb4-5c47b62bde92",
                "tags": []
            },
            "outputs": [
                {
                    "output_type": "display_data",
                    "data": {
                        "text/html": "(10 rows affected)"
                    },
                    "metadata": {}
                },
                {
                    "output_type": "display_data",
                    "data": {
                        "text/html": "Total execution time: 00:00:00.078"
                    },
                    "metadata": {}
                },
                {
                    "output_type": "execute_result",
                    "execution_count": 23,
                    "data": {
                        "application/vnd.dataresource+json": {
                            "schema": {
                                "fields": [
                                    {
                                        "name": "EmployeeName"
                                    },
                                    {
                                        "name": "customerNumber"
                                    },
                                    {
                                        "name": "customerName"
                                    },
                                    {
                                        "name": "ContactName"
                                    },
                                    {
                                        "name": "paymentDate"
                                    },
                                    {
                                        "name": "amount"
                                    }
                                ]
                            },
                            "data": [
                                {
                                    "0": "Gerard Hernandez",
                                    "1": "103",
                                    "2": "Atelier graphique",
                                    "3": "Carine  Schmitt",
                                    "4": "2004-10-19",
                                    "5": "6066.78"
                                },
                                {
                                    "0": "Gerard Hernandez",
                                    "1": "103",
                                    "2": "Atelier graphique",
                                    "3": "Carine  Schmitt",
                                    "4": "2003-06-05",
                                    "5": "14571.44"
                                },
                                {
                                    "0": "Gerard Hernandez",
                                    "1": "103",
                                    "2": "Atelier graphique",
                                    "3": "Carine  Schmitt",
                                    "4": "2004-12-18",
                                    "5": "1676.14"
                                },
                                {
                                    "0": "Leslie Thompson",
                                    "1": "112",
                                    "2": "Signal Gift Stores",
                                    "3": "Jean King",
                                    "4": "2004-12-17",
                                    "5": "14191.12"
                                },
                                {
                                    "0": "Leslie Thompson",
                                    "1": "112",
                                    "2": "Signal Gift Stores",
                                    "3": "Jean King",
                                    "4": "2003-06-06",
                                    "5": "32641.98"
                                },
                                {
                                    "0": "Leslie Thompson",
                                    "1": "112",
                                    "2": "Signal Gift Stores",
                                    "3": "Jean King",
                                    "4": "2004-08-20",
                                    "5": "33347.88"
                                },
                                {
                                    "0": "Andy Fixter",
                                    "1": "114",
                                    "2": "Australian Collectors, Co.",
                                    "3": "Peter Ferguson",
                                    "4": "2003-05-20",
                                    "5": "45864.03"
                                },
                                {
                                    "0": "Andy Fixter",
                                    "1": "114",
                                    "2": "Australian Collectors, Co.",
                                    "3": "Peter Ferguson",
                                    "4": "2004-12-15",
                                    "5": "82261.22"
                                },
                                {
                                    "0": "Andy Fixter",
                                    "1": "114",
                                    "2": "Australian Collectors, Co.",
                                    "3": "Peter Ferguson",
                                    "4": "2003-05-31",
                                    "5": "7565.08"
                                },
                                {
                                    "0": "Andy Fixter",
                                    "1": "114",
                                    "2": "Australian Collectors, Co.",
                                    "3": "Peter Ferguson",
                                    "4": "2004-03-10",
                                    "5": "44894.74"
                                }
                            ]
                        },
                        "text/html": "<table><tr><th>EmployeeName</th><th>customerNumber</th><th>customerName</th><th>ContactName</th><th>paymentDate</th><th>amount</th></tr><tr><td>Gerard Hernandez</td><td>103</td><td>Atelier graphique</td><td>Carine  Schmitt</td><td>2004-10-19</td><td>6066.78</td></tr><tr><td>Gerard Hernandez</td><td>103</td><td>Atelier graphique</td><td>Carine  Schmitt</td><td>2003-06-05</td><td>14571.44</td></tr><tr><td>Gerard Hernandez</td><td>103</td><td>Atelier graphique</td><td>Carine  Schmitt</td><td>2004-12-18</td><td>1676.14</td></tr><tr><td>Leslie Thompson</td><td>112</td><td>Signal Gift Stores</td><td>Jean King</td><td>2004-12-17</td><td>14191.12</td></tr><tr><td>Leslie Thompson</td><td>112</td><td>Signal Gift Stores</td><td>Jean King</td><td>2003-06-06</td><td>32641.98</td></tr><tr><td>Leslie Thompson</td><td>112</td><td>Signal Gift Stores</td><td>Jean King</td><td>2004-08-20</td><td>33347.88</td></tr><tr><td>Andy Fixter</td><td>114</td><td>Australian Collectors, Co.</td><td>Peter Ferguson</td><td>2003-05-20</td><td>45864.03</td></tr><tr><td>Andy Fixter</td><td>114</td><td>Australian Collectors, Co.</td><td>Peter Ferguson</td><td>2004-12-15</td><td>82261.22</td></tr><tr><td>Andy Fixter</td><td>114</td><td>Australian Collectors, Co.</td><td>Peter Ferguson</td><td>2003-05-31</td><td>7565.08</td></tr><tr><td>Andy Fixter</td><td>114</td><td>Australian Collectors, Co.</td><td>Peter Ferguson</td><td>2004-03-10</td><td>44894.74</td></tr></table>"
                    },
                    "metadata": {}
                }
            ],
            "execution_count": 23
        },
        {
            "cell_type": "markdown",
            "source": [
                "## VIEW"
            ],
            "metadata": {
                "azdata_cell_guid": "e47cd490-a60b-4d15-8d54-86a91eb3c4a0"
            },
            "attachments": {}
        },
        {
            "cell_type": "code",
            "source": [
                "CREATE VIEW manager_view AS\r\n",
                "\r\n",
                "SELECT CONCAT(e.firstName, ' ', e.lastName) AS EmployeeName, c.customerNumber, c.customerName, \r\n",
                "CONCAT(c.contactFirstName, ' ', c.contactLastName) AS ContactName, p.paymentDate, p.amount\r\n",
                "FROM customers c\r\n",
                "JOIN payments p\r\n",
                "ON c.customerNumber = p.customerNumber\r\n",
                "JOIN employees e\r\n",
                "ON c.salesRepEmployeeNumber = e.employeeNumber;"
            ],
            "metadata": {
                "azdata_cell_guid": "7cdd6a1e-7571-4073-b412-acf0cd3389f5",
                "language": "sql",
                "tags": []
            },
            "outputs": [],
            "execution_count": null
        },
        {
            "cell_type": "code",
            "source": [
                "SELECT *\r\n",
                "FROM manager_view;"
            ],
            "metadata": {
                "language": "sql",
                "azdata_cell_guid": "c223d6af-491f-4baa-9747-60386805730a"
            },
            "outputs": [
                {
                    "output_type": "display_data",
                    "data": {
                        "text/html": "(270 rows affected)"
                    },
                    "metadata": {}
                },
                {
                    "output_type": "display_data",
                    "data": {
                        "text/html": "Total execution time: 00:00:00.058"
                    },
                    "metadata": {}
                },
                {
                    "output_type": "execute_result",
                    "execution_count": 27,
                    "data": {
                        "application/vnd.dataresource+json": {
                            "schema": {
                                "fields": [
                                    {
                                        "name": "EmployeeName"
                                    },
                                    {
                                        "name": "customerNumber"
                                    },
                                    {
                                        "name": "customerName"
                                    },
                                    {
                                        "name": "ContactName"
                                    },
                                    {
                                        "name": "paymentDate"
                                    },
                                    {
                                        "name": "amount"
                                    }
                                ]
                            },
                            "data": [
                                {
                                    "0": "Gerard Hernandez",
                                    "1": "103",
                                    "2": "Atelier graphique",
                                    "3": "Carine  Schmitt",
                                    "4": "2004-10-19",
                                    "5": "6066.78"
                                },
                                {
                                    "0": "Gerard Hernandez",
                                    "1": "103",
                                    "2": "Atelier graphique",
                                    "3": "Carine  Schmitt",
                                    "4": "2003-06-05",
                                    "5": "14571.44"
                                },
                                {
                                    "0": "Gerard Hernandez",
                                    "1": "103",
                                    "2": "Atelier graphique",
                                    "3": "Carine  Schmitt",
                                    "4": "2004-12-18",
                                    "5": "1676.14"
                                },
                                {
                                    "0": "Leslie Thompson",
                                    "1": "112",
                                    "2": "Signal Gift Stores",
                                    "3": "Jean King",
                                    "4": "2004-12-17",
                                    "5": "14191.12"
                                },
                                {
                                    "0": "Leslie Thompson",
                                    "1": "112",
                                    "2": "Signal Gift Stores",
                                    "3": "Jean King",
                                    "4": "2003-06-06",
                                    "5": "32641.98"
                                },
                                {
                                    "0": "Leslie Thompson",
                                    "1": "112",
                                    "2": "Signal Gift Stores",
                                    "3": "Jean King",
                                    "4": "2004-08-20",
                                    "5": "33347.88"
                                },
                                {
                                    "0": "Andy Fixter",
                                    "1": "114",
                                    "2": "Australian Collectors, Co.",
                                    "3": "Peter Ferguson",
                                    "4": "2003-05-20",
                                    "5": "45864.03"
                                },
                                {
                                    "0": "Andy Fixter",
                                    "1": "114",
                                    "2": "Australian Collectors, Co.",
                                    "3": "Peter Ferguson",
                                    "4": "2004-12-15",
                                    "5": "82261.22"
                                },
                                {
                                    "0": "Andy Fixter",
                                    "1": "114",
                                    "2": "Australian Collectors, Co.",
                                    "3": "Peter Ferguson",
                                    "4": "2003-05-31",
                                    "5": "7565.08"
                                },
                                {
                                    "0": "Andy Fixter",
                                    "1": "114",
                                    "2": "Australian Collectors, Co.",
                                    "3": "Peter Ferguson",
                                    "4": "2004-03-10",
                                    "5": "44894.74"
                                },
                                {
                                    "0": "Gerard Hernandez",
                                    "1": "119",
                                    "2": "La Rochelle Gifts",
                                    "3": "Janine  Labrune",
                                    "4": "2004-11-14",
                                    "5": "19501.82"
                                },
                                {
                                    "0": "Gerard Hernandez",
                                    "1": "119",
                                    "2": "La Rochelle Gifts",
                                    "3": "Janine  Labrune",
                                    "4": "2004-08-08",
                                    "5": "47924.19"
                                },
                                {
                                    "0": "Gerard Hernandez",
                                    "1": "119",
                                    "2": "La Rochelle Gifts",
                                    "3": "Janine  Labrune",
                                    "4": "2005-02-22",
                                    "5": "49523.67"
                                },
                                {
                                    "0": "Barry Jones",
                                    "1": "121",
                                    "2": "Baane Mini Imports",
                                    "3": "Jonas  Bergulfsen",
                                    "4": "2003-02-16",
                                    "5": "50218.95"
                                },
                                {
                                    "0": "Barry Jones",
                                    "1": "121",
                                    "2": "Baane Mini Imports",
                                    "3": "Jonas  Bergulfsen",
                                    "4": "2003-10-28",
                                    "5": "1491.38"
                                },
                                {
                                    "0": "Barry Jones",
                                    "1": "121",
                                    "2": "Baane Mini Imports",
                                    "3": "Jonas  Bergulfsen",
                                    "4": "2004-11-04",
                                    "5": "17876.32"
                                },
                                {
                                    "0": "Barry Jones",
                                    "1": "121",
                                    "2": "Baane Mini Imports",
                                    "3": "Jonas  Bergulfsen",
                                    "4": "2004-11-28",
                                    "5": "34638.14"
                                },
                                {
                                    "0": "Leslie Jennings",
                                    "1": "124",
                                    "2": "Mini Gifts Distributors Ltd.",
                                    "3": "Susan Nelson",
                                    "4": "2005-03-05",
                                    "5": "101244.59"
                                },
                                {
                                    "0": "Leslie Jennings",
                                    "1": "124",
                                    "2": "Mini Gifts Distributors Ltd.",
                                    "3": "Susan Nelson",
                                    "4": "2004-08-28",
                                    "5": "85410.87"
                                },
                                {
                                    "0": "Leslie Jennings",
                                    "1": "124",
                                    "2": "Mini Gifts Distributors Ltd.",
                                    "3": "Susan Nelson",
                                    "4": "2003-04-11",
                                    "5": "11044.30"
                                },
                                {
                                    "0": "Leslie Jennings",
                                    "1": "124",
                                    "2": "Mini Gifts Distributors Ltd.",
                                    "3": "Susan Nelson",
                                    "4": "2005-04-16",
                                    "5": "83598.04"
                                },
                                {
                                    "0": "Leslie Jennings",
                                    "1": "124",
                                    "2": "Mini Gifts Distributors Ltd.",
                                    "3": "Susan Nelson",
                                    "4": "2004-12-27",
                                    "5": "47142.70"
                                },
                                {
                                    "0": "Leslie Jennings",
                                    "1": "124",
                                    "2": "Mini Gifts Distributors Ltd.",
                                    "3": "Susan Nelson",
                                    "4": "2004-11-02",
                                    "5": "55639.66"
                                },
                                {
                                    "0": "Leslie Jennings",
                                    "1": "124",
                                    "2": "Mini Gifts Distributors Ltd.",
                                    "3": "Susan Nelson",
                                    "4": "2003-08-15",
                                    "5": "111654.40"
                                },
                                {
                                    "0": "Leslie Jennings",
                                    "1": "124",
                                    "2": "Mini Gifts Distributors Ltd.",
                                    "3": "Susan Nelson",
                                    "4": "2004-03-26",
                                    "5": "43369.30"
                                },
                                {
                                    "0": "Leslie Jennings",
                                    "1": "124",
                                    "2": "Mini Gifts Distributors Ltd.",
                                    "3": "Susan Nelson",
                                    "4": "2003-11-25",
                                    "5": "45084.38"
                                },
                                {
                                    "0": "Barry Jones",
                                    "1": "128",
                                    "2": "Blauer See Auto, Co.",
                                    "3": "Roland Keitel",
                                    "4": "2003-01-28",
                                    "5": "10549.01"
                                },
                                {
                                    "0": "Barry Jones",
                                    "1": "128",
                                    "2": "Blauer See Auto, Co.",
                                    "3": "Roland Keitel",
                                    "4": "2003-10-18",
                                    "5": "24101.81"
                                },
                                {
                                    "0": "Barry Jones",
                                    "1": "128",
                                    "2": "Blauer See Auto, Co.",
                                    "3": "Roland Keitel",
                                    "4": "2004-03-24",
                                    "5": "33820.62"
                                },
                                {
                                    "0": "Barry Jones",
                                    "1": "128",
                                    "2": "Blauer See Auto, Co.",
                                    "3": "Roland Keitel",
                                    "4": "2004-11-18",
                                    "5": "7466.32"
                                },
                                {
                                    "0": "Leslie Jennings",
                                    "1": "129",
                                    "2": "Mini Wheels Co.",
                                    "3": "Julie Murphy",
                                    "4": "2004-12-08",
                                    "5": "26248.78"
                                },
                                {
                                    "0": "Leslie Jennings",
                                    "1": "129",
                                    "2": "Mini Wheels Co.",
                                    "3": "Julie Murphy",
                                    "4": "2003-12-11",
                                    "5": "23923.93"
                                },
                                {
                                    "0": "Leslie Jennings",
                                    "1": "129",
                                    "2": "Mini Wheels Co.",
                                    "3": "Julie Murphy",
                                    "4": "2003-04-09",
                                    "5": "16537.85"
                                },
                                {
                                    "0": "George Vanauf",
                                    "1": "131",
                                    "2": "Land of Toys Inc.",
                                    "3": "Kwai Lee",
                                    "4": "2003-03-12",
                                    "5": "22292.62"
                                },
                                {
                                    "0": "George Vanauf",
                                    "1": "131",
                                    "2": "Land of Toys Inc.",
                                    "3": "Kwai Lee",
                                    "4": "2004-12-02",
                                    "5": "50025.35"
                                },
                                {
                                    "0": "George Vanauf",
                                    "1": "131",
                                    "2": "Land of Toys Inc.",
                                    "3": "Kwai Lee",
                                    "4": "2004-09-11",
                                    "5": "35321.97"
                                },
                                {
                                    "0": "Gerard Hernandez",
                                    "1": "141",
                                    "2": "Euro+ Shopping Channel",
                                    "3": "Diego  Freyre",
                                    "4": "2003-07-19",
                                    "5": "36251.03"
                                },
                                {
                                    "0": "Gerard Hernandez",
                                    "1": "141",
                                    "2": "Euro+ Shopping Channel",
                                    "3": "Diego  Freyre",
                                    "4": "2004-11-01",
                                    "5": "36140.38"
                                },
                                {
                                    "0": "Gerard Hernandez",
                                    "1": "141",
                                    "2": "Euro+ Shopping Channel",
                                    "3": "Diego  Freyre",
                                    "4": "2005-05-19",
                                    "5": "46895.48"
                                },
                                {
                                    "0": "Gerard Hernandez",
                                    "1": "141",
                                    "2": "Euro+ Shopping Channel",
                                    "3": "Diego  Freyre",
                                    "4": "2004-01-30",
                                    "5": "59830.55"
                                },
                                {
                                    "0": "Gerard Hernandez",
                                    "1": "141",
                                    "2": "Euro+ Shopping Channel",
                                    "3": "Diego  Freyre",
                                    "4": "2004-12-31",
                                    "5": "116208.40"
                                },
                                {
                                    "0": "Gerard Hernandez",
                                    "1": "141",
                                    "2": "Euro+ Shopping Channel",
                                    "3": "Diego  Freyre",
                                    "4": "2005-03-25",
                                    "5": "65071.26"
                                },
                                {
                                    "0": "Gerard Hernandez",
                                    "1": "141",
                                    "2": "Euro+ Shopping Channel",
                                    "3": "Diego  Freyre",
                                    "4": "2005-03-18",
                                    "5": "120166.58"
                                },
                                {
                                    "0": "Gerard Hernandez",
                                    "1": "141",
                                    "2": "Euro+ Shopping Channel",
                                    "3": "Diego  Freyre",
                                    "4": "2003-10-26",
                                    "5": "49539.37"
                                },
                                {
                                    "0": "Gerard Hernandez",
                                    "1": "141",
                                    "2": "Euro+ Shopping Channel",
                                    "3": "Diego  Freyre",
                                    "4": "2003-02-25",
                                    "5": "40206.20"
                                },
                                {
                                    "0": "Gerard Hernandez",
                                    "1": "141",
                                    "2": "Euro+ Shopping Channel",
                                    "3": "Diego  Freyre",
                                    "4": "2003-12-09",
                                    "5": "63843.55"
                                },
                                {
                                    "0": "Gerard Hernandez",
                                    "1": "141",
                                    "2": "Euro+ Shopping Channel",
                                    "3": "Diego  Freyre",
                                    "4": "2004-07-09",
                                    "5": "35420.74"
                                },
                                {
                                    "0": "Gerard Hernandez",
                                    "1": "141",
                                    "2": "Euro+ Shopping Channel",
                                    "3": "Diego  Freyre",
                                    "4": "2004-08-16",
                                    "5": "20009.53"
                                },
                                {
                                    "0": "Gerard Hernandez",
                                    "1": "141",
                                    "2": "Euro+ Shopping Channel",
                                    "3": "Diego  Freyre",
                                    "4": "2004-05-17",
                                    "5": "26155.91"
                                },
                                {
                                    "0": "Barry Jones",
                                    "1": "144",
                                    "2": "Volvo Model Replicas, Co",
                                    "3": "Christina  Berglund",
                                    "4": "2004-12-12",
                                    "5": "36005.71"
                                },
                                {
                                    "0": "Barry Jones",
                                    "1": "144",
                                    "2": "Volvo Model Replicas, Co",
                                    "3": "Christina  Berglund",
                                    "4": "2003-04-09",
                                    "5": "7674.94"
                                },
                                {
                                    "0": "Pamela Castillo",
                                    "1": "145",
                                    "2": "Danish Wholesale Imports",
                                    "3": "Jytte  Petersen",
                                    "4": "2004-07-03",
                                    "5": "4710.73"
                                },
                                {
                                    "0": "Pamela Castillo",
                                    "1": "145",
                                    "2": "Danish Wholesale Imports",
                                    "3": "Jytte  Petersen",
                                    "4": "2004-04-26",
                                    "5": "28211.70"
                                },
                                {
                                    "0": "Pamela Castillo",
                                    "1": "145",
                                    "2": "Danish Wholesale Imports",
                                    "3": "Jytte  Petersen",
                                    "4": "2004-12-01",
                                    "5": "20564.86"
                                },
                                {
                                    "0": "Pamela Castillo",
                                    "1": "145",
                                    "2": "Danish Wholesale Imports",
                                    "3": "Jytte  Petersen",
                                    "4": "2003-02-20",
                                    "5": "53959.21"
                                },
                                {
                                    "0": "Loui Bondur",
                                    "1": "146",
                                    "2": "Saveley & Henriot, Co.",
                                    "3": "Mary  Saveley",
                                    "4": "2004-03-18",
                                    "5": "40978.53"
                                },
                                {
                                    "0": "Loui Bondur",
                                    "1": "146",
                                    "2": "Saveley & Henriot, Co.",
                                    "3": "Mary  Saveley",
                                    "4": "2004-01-16",
                                    "5": "49614.72"
                                },
                                {
                                    "0": "Loui Bondur",
                                    "1": "146",
                                    "2": "Saveley & Henriot, Co.",
                                    "3": "Mary  Saveley",
                                    "4": "2003-12-10",
                                    "5": "39712.10"
                                },
                                {
                                    "0": "Mami Nishi",
                                    "1": "148",
                                    "2": "Dragon Souveniers, Ltd.",
                                    "3": "Eric Natividad",
                                    "4": "2003-04-22",
                                    "5": "44380.15"
                                },
                                {
                                    "0": "Mami Nishi",
                                    "1": "148",
                                    "2": "Dragon Souveniers, Ltd.",
                                    "3": "Eric Natividad",
                                    "4": "2004-08-11",
                                    "5": "2611.84"
                                },
                                {
                                    "0": "Mami Nishi",
                                    "1": "148",
                                    "2": "Dragon Souveniers, Ltd.",
                                    "3": "Eric Natividad",
                                    "4": "2003-12-26",
                                    "5": "105743.00"
                                },
                                {
                                    "0": "Mami Nishi",
                                    "1": "148",
                                    "2": "Dragon Souveniers, Ltd.",
                                    "3": "Eric Natividad",
                                    "4": "2005-03-27",
                                    "5": "3516.04"
                                },
                                {
                                    "0": "Foon Yue Tseng",
                                    "1": "151",
                                    "2": "Muscle Machine Inc",
                                    "3": "Jeff Young",
                                    "4": "2003-12-22",
                                    "5": "58793.53"
                                },
                                {
                                    "0": "Foon Yue Tseng",
                                    "1": "151",
                                    "2": "Muscle Machine Inc",
                                    "3": "Jeff Young",
                                    "4": "2004-07-26",
                                    "5": "20314.44"
                                },
                                {
                                    "0": "Foon Yue Tseng",
                                    "1": "151",
                                    "2": "Muscle Machine Inc",
                                    "3": "Jeff Young",
                                    "4": "2003-06-18",
                                    "5": "58841.35"
                                },
                                {
                                    "0": "Foon Yue Tseng",
                                    "1": "151",
                                    "2": "Muscle Machine Inc",
                                    "3": "Jeff Young",
                                    "4": "2004-12-14",
                                    "5": "39964.63"
                                },
                                {
                                    "0": "Steve Patterson",
                                    "1": "157",
                                    "2": "Diecast Classics Inc.",
                                    "3": "Kelvin Leong",
                                    "4": "2004-11-19",
                                    "5": "35152.12"
                                },
                                {
                                    "0": "Steve Patterson",
                                    "1": "157",
                                    "2": "Diecast Classics Inc.",
                                    "3": "Kelvin Leong",
                                    "4": "2004-09-07",
                                    "5": "63357.13"
                                },
                                {
                                    "0": "Leslie Jennings",
                                    "1": "161",
                                    "2": "Technics Stores Inc.",
                                    "3": "Juri Hashimoto",
                                    "4": "2004-11-14",
                                    "5": "2434.25"
                                },
                                {
                                    "0": "Leslie Jennings",
                                    "1": "161",
                                    "2": "Technics Stores Inc.",
                                    "3": "Juri Hashimoto",
                                    "4": "2003-11-18",
                                    "5": "50743.65"
                                },
                                {
                                    "0": "Leslie Jennings",
                                    "1": "161",
                                    "2": "Technics Stores Inc.",
                                    "3": "Juri Hashimoto",
                                    "4": "2005-02-02",
                                    "5": "12692.19"
                                },
                                {
                                    "0": "Leslie Jennings",
                                    "1": "161",
                                    "2": "Technics Stores Inc.",
                                    "3": "Juri Hashimoto",
                                    "4": "2003-08-05",
                                    "5": "38675.13"
                                },
                                {
                                    "0": "Peter Marsh",
                                    "1": "166",
                                    "2": "Handji Gifts& Co",
                                    "3": "Wendy Victorino",
                                    "4": "2004-09-16",
                                    "5": "38785.48"
                                },
                                {
                                    "0": "Peter Marsh",
                                    "1": "166",
                                    "2": "Handji Gifts& Co",
                                    "3": "Wendy Victorino",
                                    "4": "2004-07-07",
                                    "5": "44160.92"
                                },
                                {
                                    "0": "Peter Marsh",
                                    "1": "166",
                                    "2": "Handji Gifts& Co",
                                    "3": "Wendy Victorino",
                                    "4": "2004-02-28",
                                    "5": "22474.17"
                                },
                                {
                                    "0": "Barry Jones",
                                    "1": "167",
                                    "2": "Herkku Gifts",
                                    "3": "Veysel Oeztan",
                                    "4": "2004-09-19",
                                    "5": "12538.01"
                                },
                                {
                                    "0": "Barry Jones",
                                    "1": "167",
                                    "2": "Herkku Gifts",
                                    "3": "Veysel Oeztan",
                                    "4": "2003-12-03",
                                    "5": "85024.46"
                                },
                                {
                                    "0": "Gerard Hernandez",
                                    "1": "171",
                                    "2": "Daedalus Designs Imports",
                                    "3": "Martine  Rancé",
                                    "4": "2004-03-15",
                                    "5": "18997.89"
                                },
                                {
                                    "0": "Gerard Hernandez",
                                    "1": "171",
                                    "2": "Daedalus Designs Imports",
                                    "3": "Martine  Rancé",
                                    "4": "2003-11-22",
                                    "5": "42783.81"
                                },
                                {
                                    "0": "Loui Bondur",
                                    "1": "172",
                                    "2": "La Corne D\\abondance, Co.",
                                    "3": "Marie Bertrand",
                                    "4": "2004-09-09",
                                    "5": "1960.80"
                                },
                                {
                                    "0": "Loui Bondur",
                                    "1": "172",
                                    "2": "La Corne D\\abondance, Co.",
                                    "3": "Marie Bertrand",
                                    "4": "2004-12-04",
                                    "5": "51209.58"
                                },
                                {
                                    "0": "Loui Bondur",
                                    "1": "172",
                                    "2": "La Corne D\\abondance, Co.",
                                    "3": "Marie Bertrand",
                                    "4": "2003-04-20",
                                    "5": "33383.14"
                                },
                                {
                                    "0": "Julie Firrelli",
                                    "1": "173",
                                    "2": "Cambridge Collectables Co.",
                                    "3": "Jerry Tseng",
                                    "4": "2004-05-13",
                                    "5": "11843.45"
                                },
                                {
                                    "0": "Julie Firrelli",
                                    "1": "173",
                                    "2": "Cambridge Collectables Co.",
                                    "3": "Jerry Tseng",
                                    "4": "2004-03-29",
                                    "5": "20355.24"
                                },
                                {
                                    "0": "George Vanauf",
                                    "1": "175",
                                    "2": "Gift Depot Inc.",
                                    "3": "Julie King",
                                    "4": "2005-05-19",
                                    "5": "28500.78"
                                },
                                {
                                    "0": "George Vanauf",
                                    "1": "175",
                                    "2": "Gift Depot Inc.",
                                    "3": "Julie King",
                                    "4": "2003-11-19",
                                    "5": "24879.08"
                                },
                                {
                                    "0": "George Vanauf",
                                    "1": "175",
                                    "2": "Gift Depot Inc.",
                                    "3": "Julie King",
                                    "4": "2004-07-10",
                                    "5": "42044.77"
                                },
                                {
                                    "0": "Mami Nishi",
                                    "1": "177",
                                    "2": "Osaka Souveniers Co.",
                                    "3": "Mory Kentary",
                                    "4": "2004-04-17",
                                    "5": "15183.63"
                                },
                                {
                                    "0": "Mami Nishi",
                                    "1": "177",
                                    "2": "Osaka Souveniers Co.",
                                    "3": "Mory Kentary",
                                    "4": "2004-01-19",
                                    "5": "47177.59"
                                },
                                {
                                    "0": "Foon Yue Tseng",
                                    "1": "181",
                                    "2": "Vitachrome Inc.",
                                    "3": "Michael Frick",
                                    "4": "2004-04-25",
                                    "5": "22602.36"
                                },
                                {
                                    "0": "Foon Yue Tseng",
                                    "1": "181",
                                    "2": "Vitachrome Inc.",
                                    "3": "Michael Frick",
                                    "4": "2003-01-30",
                                    "5": "5494.78"
                                },
                                {
                                    "0": "Foon Yue Tseng",
                                    "1": "181",
                                    "2": "Vitachrome Inc.",
                                    "3": "Michael Frick",
                                    "4": "2004-11-16",
                                    "5": "44400.50"
                                },
                                {
                                    "0": "Larry Bott",
                                    "1": "186",
                                    "2": "Toys of Finland, Co.",
                                    "3": "Matti Karttunen",
                                    "4": "2005-03-10",
                                    "5": "23602.90"
                                },
                                {
                                    "0": "Larry Bott",
                                    "1": "186",
                                    "2": "Toys of Finland, Co.",
                                    "3": "Matti Karttunen",
                                    "4": "2003-10-27",
                                    "5": "37602.48"
                                },
                                {
                                    "0": "Larry Bott",
                                    "1": "186",
                                    "2": "Toys of Finland, Co.",
                                    "3": "Matti Karttunen",
                                    "4": "2004-10-21",
                                    "5": "34341.08"
                                },
                                {
                                    "0": "Larry Bott",
                                    "1": "187",
                                    "2": "AV Stores, Co.",
                                    "3": "Rachel Ashworth",
                                    "4": "2004-11-03",
                                    "5": "52825.29"
                                },
                                {
                                    "0": "Larry Bott",
                                    "1": "187",
                                    "2": "AV Stores, Co.",
                                    "3": "Rachel Ashworth",
                                    "4": "2004-12-08",
                                    "5": "47159.11"
                                },
                                {
                                    "0": "Larry Bott",
                                    "1": "187",
                                    "2": "AV Stores, Co.",
                                    "3": "Rachel Ashworth",
                                    "4": "2003-03-27",
                                    "5": "48425.69"
                                },
                                {
                                    "0": "Barry Jones",
                                    "1": "189",
                                    "2": "Clover Collections, Co.",
                                    "3": "Dean Cassidy",
                                    "4": "2004-10-03",
                                    "5": "17359.53"
                                },
                                {
                                    "0": "Barry Jones",
                                    "1": "189",
                                    "2": "Clover Collections, Co.",
                                    "3": "Dean Cassidy",
                                    "4": "2004-03-01",
                                    "5": "32538.74"
                                },
                                {
                                    "0": "Steve Patterson",
                                    "1": "198",
                                    "2": "Auto-Moto Classics Inc.",
                                    "3": "Leslie Taylor",
                                    "4": "2004-12-06",
                                    "5": "9658.74"
                                },
                                {
                                    "0": "Steve Patterson",
                                    "1": "198",
                                    "2": "Auto-Moto Classics Inc.",
                                    "3": "Leslie Taylor",
                                    "4": "2003-07-06",
                                    "5": "6036.96"
                                },
                                {
                                    "0": "Steve Patterson",
                                    "1": "198",
                                    "2": "Auto-Moto Classics Inc.",
                                    "3": "Leslie Taylor",
                                    "4": "2004-09-21",
                                    "5": "5858.56"
                                },
                                {
                                    "0": "Larry Bott",
                                    "1": "201",
                                    "2": "UK Collectables, Ltd.",
                                    "3": "Elizabeth Devon",
                                    "4": "2003-10-20",
                                    "5": "23908.24"
                                },
                                {
                                    "0": "Larry Bott",
                                    "1": "201",
                                    "2": "UK Collectables, Ltd.",
                                    "3": "Elizabeth Devon",
                                    "4": "2004-06-15",
                                    "5": "37258.94"
                                },
                                {
                                    "0": "George Vanauf",
                                    "1": "202",
                                    "2": "Canadian Gift Exchange Network",
                                    "3": "Yoshi  Tamuri",
                                    "4": "2003-12-18",
                                    "5": "36527.61"
                                },
                                {
                                    "0": "George Vanauf",
                                    "1": "202",
                                    "2": "Canadian Gift Exchange Network",
                                    "3": "Yoshi  Tamuri",
                                    "4": "2004-11-08",
                                    "5": "33594.58"
                                },
                                {
                                    "0": "Julie Firrelli",
                                    "1": "204",
                                    "2": "Online Mini Collectables",
                                    "3": "Miguel Barajas",
                                    "4": "2004-08-13",
                                    "5": "51152.86"
                                },
                                {
                                    "0": "Julie Firrelli",
                                    "1": "204",
                                    "2": "Online Mini Collectables",
                                    "3": "Miguel Barajas",
                                    "4": "2004-09-24",
                                    "5": "4424.40"
                                },
                                {
                                    "0": "Leslie Thompson",
                                    "1": "205",
                                    "2": "Toys4GrownUps.com",
                                    "3": "Julie Young",
                                    "4": "2003-12-04",
                                    "5": "3879.96"
                                },
                                {
                                    "0": "Leslie Thompson",
                                    "1": "205",
                                    "2": "Toys4GrownUps.com",
                                    "3": "Julie Young",
                                    "4": "2003-09-05",
                                    "5": "50342.74"
                                },
                                {
                                    "0": "Leslie Thompson",
                                    "1": "205",
                                    "2": "Toys4GrownUps.com",
                                    "3": "Julie Young",
                                    "4": "2005-02-06",
                                    "5": "39580.60"
                                },
                                {
                                    "0": "Gerard Hernandez",
                                    "1": "209",
                                    "2": "Mini Caravy",
                                    "3": "Frédérique  Citeaux",
                                    "4": "2005-05-03",
                                    "5": "35157.75"
                                },
                                {
                                    "0": "Gerard Hernandez",
                                    "1": "209",
                                    "2": "Mini Caravy",
                                    "3": "Frédérique  Citeaux",
                                    "4": "2004-06-21",
                                    "5": "4632.31"
                                },
                                {
                                    "0": "Gerard Hernandez",
                                    "1": "209",
                                    "2": "Mini Caravy",
                                    "3": "Frédérique  Citeaux",
                                    "4": "2004-05-04",
                                    "5": "36069.26"
                                },
                                {
                                    "0": "Mami Nishi",
                                    "1": "211",
                                    "2": "King Kong Collectables, Co.",
                                    "3": "Mike Gao",
                                    "4": "2003-12-09",
                                    "5": "45480.79"
                                },
                                {
                                    "0": "Martin Gerard",
                                    "1": "216",
                                    "2": "Enaco Distributors",
                                    "3": "Eduardo  Saavedra",
                                    "4": "2003-05-09",
                                    "5": "3101.40"
                                },
                                {
                                    "0": "Martin Gerard",
                                    "1": "216",
                                    "2": "Enaco Distributors",
                                    "3": "Eduardo  Saavedra",
                                    "4": "2004-12-06",
                                    "5": "24945.21"
                                },
                                {
                                    "0": "Martin Gerard",
                                    "1": "216",
                                    "2": "Enaco Distributors",
                                    "3": "Eduardo  Saavedra",
                                    "4": "2003-12-14",
                                    "5": "40473.86"
                                },
                                {
                                    "0": "Leslie Thompson",
                                    "1": "219",
                                    "2": "Boards & Toys Co.",
                                    "3": "Mary Young",
                                    "4": "2005-03-02",
                                    "5": "3452.75"
                                },
                                {
                                    "0": "Leslie Thompson",
                                    "1": "219",
                                    "2": "Boards & Toys Co.",
                                    "3": "Mary Young",
                                    "4": "2003-10-18",
                                    "5": "4465.85"
                                },
                                {
                                    "0": "Pamela Castillo",
                                    "1": "227",
                                    "2": "Heintze Collectables",
                                    "3": "Palle Ibsen",
                                    "4": "2003-10-31",
                                    "5": "36164.46"
                                },
                                {
                                    "0": "Pamela Castillo",
                                    "1": "227",
                                    "2": "Heintze Collectables",
                                    "3": "Palle Ibsen",
                                    "4": "2004-11-02",
                                    "5": "53745.34"
                                },
                                {
                                    "0": "Foon Yue Tseng",
                                    "1": "233",
                                    "2": "Québec Home Shopping Network",
                                    "3": "Jean  Fresnière",
                                    "4": "2005-05-20",
                                    "5": "29070.38"
                                },
                                {
                                    "0": "Foon Yue Tseng",
                                    "1": "233",
                                    "2": "Québec Home Shopping Network",
                                    "3": "Jean  Fresnière",
                                    "4": "2004-07-01",
                                    "5": "22997.45"
                                },
                                {
                                    "0": "Foon Yue Tseng",
                                    "1": "233",
                                    "2": "Québec Home Shopping Network",
                                    "3": "Jean  Fresnière",
                                    "4": "2003-11-18",
                                    "5": "16909.84"
                                },
                                {
                                    "0": "Leslie Thompson",
                                    "1": "239",
                                    "2": "Collectable Mini Designs Co.",
                                    "3": "Valarie Thompson",
                                    "4": "2004-03-15",
                                    "5": "80375.24"
                                },
                                {
                                    "0": "Larry Bott",
                                    "1": "240",
                                    "2": "giftsbymail.co.uk",
                                    "3": "Helen  Bennett",
                                    "4": "2004-11-16",
                                    "5": "46788.14"
                                },
                                {
                                    "0": "Larry Bott",
                                    "1": "240",
                                    "2": "giftsbymail.co.uk",
                                    "3": "Helen  Bennett",
                                    "4": "2004-03-28",
                                    "5": "24995.61"
                                },
                                {
                                    "0": "Gerard Hernandez",
                                    "1": "242",
                                    "2": "Alpha Cognac",
                                    "3": "Annette  Roulet",
                                    "4": "2003-11-22",
                                    "5": "33818.34"
                                },
                                {
                                    "0": "Gerard Hernandez",
                                    "1": "242",
                                    "2": "Alpha Cognac",
                                    "3": "Annette  Roulet",
                                    "4": "2005-06-03",
                                    "5": "12432.32"
                                },
                                {
                                    "0": "Gerard Hernandez",
                                    "1": "242",
                                    "2": "Alpha Cognac",
                                    "3": "Annette  Roulet",
                                    "4": "2003-07-21",
                                    "5": "14232.70"
                                },
                                {
                                    "0": "Pamela Castillo",
                                    "1": "249",
                                    "2": "Amica Models & Co.",
                                    "3": "Paolo  Accorti",
                                    "4": "2004-09-19",
                                    "5": "33924.24"
                                },
                                {
                                    "0": "Pamela Castillo",
                                    "1": "249",
                                    "2": "Amica Models & Co.",
                                    "3": "Paolo  Accorti",
                                    "4": "2004-09-04",
                                    "5": "48298.99"
                                },
                                {
                                    "0": "Loui Bondur",
                                    "1": "250",
                                    "2": "Lyon Souveniers",
                                    "3": "Daniel Da Silva",
                                    "4": "2005-05-17",
                                    "5": "17928.09"
                                },
                                {
                                    "0": "Loui Bondur",
                                    "1": "250",
                                    "2": "Lyon Souveniers",
                                    "3": "Daniel Da Silva",
                                    "4": "2004-12-30",
                                    "5": "26311.63"
                                },
                                {
                                    "0": "Loui Bondur",
                                    "1": "250",
                                    "2": "Lyon Souveniers",
                                    "3": "Daniel Da Silva",
                                    "4": "2003-07-18",
                                    "5": "23419.47"
                                },
                                {
                                    "0": "Gerard Hernandez",
                                    "1": "256",
                                    "2": "Auto Associés & Cie.",
                                    "3": "Daniel  Tonini",
                                    "4": "2004-02-10",
                                    "5": "5759.42"
                                },
                                {
                                    "0": "Gerard Hernandez",
                                    "1": "256",
                                    "2": "Auto Associés & Cie.",
                                    "3": "Daniel  Tonini",
                                    "4": "2004-10-22",
                                    "5": "53116.99"
                                },
                                {
                                    "0": "Barry Jones",
                                    "1": "259",
                                    "2": "Toms Spezialitäten, Ltd",
                                    "3": "Henriette  Pfalzheim",
                                    "4": "2004-11-06",
                                    "5": "61234.67"
                                },
                                {
                                    "0": "Barry Jones",
                                    "1": "259",
                                    "2": "Toms Spezialitäten, Ltd",
                                    "3": "Henriette  Pfalzheim",
                                    "4": "2003-12-07",
                                    "5": "27988.47"
                                },
                                {
                                    "0": "George Vanauf",
                                    "1": "260",
                                    "2": "Royal Canadian Collectables, Ltd.",
                                    "3": "Elizabeth  Lincoln",
                                    "4": "2004-08-30",
                                    "5": "37527.58"
                                },
                                {
                                    "0": "George Vanauf",
                                    "1": "260",
                                    "2": "Royal Canadian Collectables, Ltd.",
                                    "3": "Elizabeth  Lincoln",
                                    "4": "2004-04-24",
                                    "5": "29284.42"
                                },
                                {
                                    "0": "Andy Fixter",
                                    "1": "276",
                                    "2": "Annas Decorations, Ltd",
                                    "3": "Anna O Hara",
                                    "4": "2005-02-09",
                                    "5": "27083.78"
                                },
                                {
                                    "0": "Andy Fixter",
                                    "1": "276",
                                    "2": "Annas Decorations, Ltd",
                                    "3": "Anna O Hara",
                                    "4": "2003-11-13",
                                    "5": "38547.19"
                                },
                                {
                                    "0": "Andy Fixter",
                                    "1": "276",
                                    "2": "Annas Decorations, Ltd",
                                    "3": "Anna O Hara",
                                    "4": "2003-09-28",
                                    "5": "41554.73"
                                },
                                {
                                    "0": "Andy Fixter",
                                    "1": "276",
                                    "2": "Annas Decorations, Ltd",
                                    "3": "Anna O Hara",
                                    "4": "2005-04-30",
                                    "5": "29848.52"
                                },
                                {
                                    "0": "Pamela Castillo",
                                    "1": "278",
                                    "2": "Rovelli Gifts",
                                    "3": "Giovanni  Rovelli",
                                    "4": "2004-12-05",
                                    "5": "37654.09"
                                },
                                {
                                    "0": "Pamela Castillo",
                                    "1": "278",
                                    "2": "Rovelli Gifts",
                                    "3": "Giovanni  Rovelli",
                                    "4": "2003-03-02",
                                    "5": "52151.81"
                                },
                                {
                                    "0": "Pamela Castillo",
                                    "1": "278",
                                    "2": "Rovelli Gifts",
                                    "3": "Giovanni  Rovelli",
                                    "4": "2003-11-24",
                                    "5": "37723.79"
                                },
                                {
                                    "0": "Andy Fixter",
                                    "1": "282",
                                    "2": "Souveniers And Things Co.",
                                    "3": "Adrian Huxley",
                                    "4": "2003-08-03",
                                    "5": "24013.52"
                                },
                                {
                                    "0": "Andy Fixter",
                                    "1": "282",
                                    "2": "Souveniers And Things Co.",
                                    "3": "Adrian Huxley",
                                    "4": "2004-08-02",
                                    "5": "35806.73"
                                },
                                {
                                    "0": "Andy Fixter",
                                    "1": "282",
                                    "2": "Souveniers And Things Co.",
                                    "3": "Adrian Huxley",
                                    "4": "2005-01-03",
                                    "5": "31835.36"
                                },
                                {
                                    "0": "Steve Patterson",
                                    "1": "286",
                                    "2": "Marta s Replicas Co.",
                                    "3": "Marta Hernandez",
                                    "4": "2004-10-28",
                                    "5": "47411.33"
                                },
                                {
                                    "0": "Steve Patterson",
                                    "1": "286",
                                    "2": "Marta s Replicas Co.",
                                    "3": "Marta Hernandez",
                                    "4": "2004-09-05",
                                    "5": "43134.04"
                                },
                                {
                                    "0": "Martin Gerard",
                                    "1": "298",
                                    "2": "Vida Sport, Ltd",
                                    "3": "Mihael Holz",
                                    "4": "2004-03-13",
                                    "5": "47375.92"
                                },
                                {
                                    "0": "Martin Gerard",
                                    "1": "298",
                                    "2": "Vida Sport, Ltd",
                                    "3": "Mihael Holz",
                                    "4": "2004-09-18",
                                    "5": "61402.00"
                                },
                                {
                                    "0": "Barry Jones",
                                    "1": "299",
                                    "2": "Norway Gifts By Mail, Co.",
                                    "3": "Jan Klaeboe",
                                    "4": "2003-10-24",
                                    "5": "36798.88"
                                },
                                {
                                    "0": "Barry Jones",
                                    "1": "299",
                                    "2": "Norway Gifts By Mail, Co.",
                                    "3": "Jan Klaeboe",
                                    "4": "2004-09-05",
                                    "5": "32260.16"
                                },
                                {
                                    "0": "Larry Bott",
                                    "1": "311",
                                    "2": "Oulu Toy Supplies, Inc.",
                                    "3": "Pirkko Koskitalo",
                                    "4": "2005-02-15",
                                    "5": "46770.52"
                                },
                                {
                                    "0": "Larry Bott",
                                    "1": "311",
                                    "2": "Oulu Toy Supplies, Inc.",
                                    "3": "Pirkko Koskitalo",
                                    "4": "2003-10-06",
                                    "5": "32723.04"
                                },
                                {
                                    "0": "Larry Bott",
                                    "1": "311",
                                    "2": "Oulu Toy Supplies, Inc.",
                                    "3": "Pirkko Koskitalo",
                                    "4": "2004-04-25",
                                    "5": "16212.59"
                                },
                                {
                                    "0": "Pamela Castillo",
                                    "1": "314",
                                    "2": "Petit Auto",
                                    "3": "Catherine  Dewey",
                                    "4": "2004-08-09",
                                    "5": "45352.47"
                                },
                                {
                                    "0": "Pamela Castillo",
                                    "1": "314",
                                    "2": "Petit Auto",
                                    "3": "Catherine  Dewey",
                                    "4": "2004-03-03",
                                    "5": "16901.38"
                                },
                                {
                                    "0": "George Vanauf",
                                    "1": "319",
                                    "2": "Mini Classics",
                                    "3": "Steve Frick",
                                    "4": "2004-11-06",
                                    "5": "42339.76"
                                },
                                {
                                    "0": "George Vanauf",
                                    "1": "319",
                                    "2": "Mini Classics",
                                    "3": "Steve Frick",
                                    "4": "2003-12-07",
                                    "5": "36092.40"
                                },
                                {
                                    "0": "Julie Firrelli",
                                    "1": "320",
                                    "2": "Mini Creations Ltd.",
                                    "3": "Wing Huang",
                                    "4": "2005-01-18",
                                    "5": "8307.28"
                                },
                                {
                                    "0": "Julie Firrelli",
                                    "1": "320",
                                    "2": "Mini Creations Ltd.",
                                    "3": "Wing Huang",
                                    "4": "2003-08-20",
                                    "5": "41016.75"
                                },
                                {
                                    "0": "Julie Firrelli",
                                    "1": "320",
                                    "2": "Mini Creations Ltd.",
                                    "3": "Wing Huang",
                                    "4": "2003-11-24",
                                    "5": "52548.49"
                                },
                                {
                                    "0": "Leslie Jennings",
                                    "1": "321",
                                    "2": "Corporate Gift Ideas Co.",
                                    "3": "Julie Brown",
                                    "4": "2003-11-03",
                                    "5": "85559.12"
                                },
                                {
                                    "0": "Leslie Jennings",
                                    "1": "321",
                                    "2": "Corporate Gift Ideas Co.",
                                    "3": "Julie Brown",
                                    "4": "2005-03-15",
                                    "5": "46781.66"
                                },
                                {
                                    "0": "Peter Marsh",
                                    "1": "323",
                                    "2": "Down Under Souveniers, Inc",
                                    "3": "Mike Graham",
                                    "4": "2005-05-23",
                                    "5": "75020.13"
                                },
                                {
                                    "0": "Peter Marsh",
                                    "1": "323",
                                    "2": "Down Under Souveniers, Inc",
                                    "3": "Mike Graham",
                                    "4": "2004-06-24",
                                    "5": "37281.36"
                                },
                                {
                                    "0": "Peter Marsh",
                                    "1": "323",
                                    "2": "Down Under Souveniers, Inc",
                                    "3": "Mike Graham",
                                    "4": "2003-07-05",
                                    "5": "2880.00"
                                },
                                {
                                    "0": "Peter Marsh",
                                    "1": "323",
                                    "2": "Down Under Souveniers, Inc",
                                    "3": "Mike Graham",
                                    "4": "2004-12-24",
                                    "5": "39440.59"
                                },
                                {
                                    "0": "Larry Bott",
                                    "1": "324",
                                    "2": "Stylish Desk Decors, Co.",
                                    "3": "Ann  Brown",
                                    "4": "2004-12-13",
                                    "5": "13671.82"
                                },
                                {
                                    "0": "Larry Bott",
                                    "1": "324",
                                    "2": "Stylish Desk Decors, Co.",
                                    "3": "Ann  Brown",
                                    "4": "2003-07-07",
                                    "5": "29429.14"
                                },
                                {
                                    "0": "Larry Bott",
                                    "1": "324",
                                    "2": "Stylish Desk Decors, Co.",
                                    "3": "Ann  Brown",
                                    "4": "2003-11-23",
                                    "5": "37455.77"
                                },
                                {
                                    "0": "George Vanauf",
                                    "1": "328",
                                    "2": "Tekni Collectables Inc.",
                                    "3": "William Brown",
                                    "4": "2004-04-16",
                                    "5": "7178.66"
                                },
                                {
                                    "0": "George Vanauf",
                                    "1": "328",
                                    "2": "Tekni Collectables Inc.",
                                    "3": "William Brown",
                                    "4": "2004-05-30",
                                    "5": "31102.85"
                                },
                                {
                                    "0": "Andy Fixter",
                                    "1": "333",
                                    "2": "Australian Gift Network, Co",
                                    "3": "Ben Calaghan",
                                    "4": "2003-11-15",
                                    "5": "23936.53"
                                },
                                {
                                    "0": "Andy Fixter",
                                    "1": "333",
                                    "2": "Australian Gift Network, Co",
                                    "3": "Ben Calaghan",
                                    "4": "2003-10-17",
                                    "5": "9821.32"
                                },
                                {
                                    "0": "Andy Fixter",
                                    "1": "333",
                                    "2": "Australian Gift Network, Co",
                                    "3": "Ben Calaghan",
                                    "4": "2005-03-01",
                                    "5": "21432.31"
                                },
                                {
                                    "0": "Larry Bott",
                                    "1": "334",
                                    "2": "Suominen Souveniers",
                                    "3": "Kalle Suominen",
                                    "4": "2005-01-27",
                                    "5": "45785.34"
                                },
                                {
                                    "0": "Larry Bott",
                                    "1": "334",
                                    "2": "Suominen Souveniers",
                                    "3": "Kalle Suominen",
                                    "4": "2003-08-16",
                                    "5": "29716.86"
                                },
                                {
                                    "0": "Larry Bott",
                                    "1": "334",
                                    "2": "Suominen Souveniers",
                                    "3": "Kalle Suominen",
                                    "4": "2004-05-22",
                                    "5": "28394.54"
                                },
                                {
                                    "0": "Julie Firrelli",
                                    "1": "339",
                                    "2": "Classic Gift Ideas, Inc",
                                    "3": "Francisca Cervantes",
                                    "4": "2004-10-24",
                                    "5": "23333.06"
                                },
                                {
                                    "0": "Julie Firrelli",
                                    "1": "339",
                                    "2": "Classic Gift Ideas, Inc",
                                    "3": "Francisca Cervantes",
                                    "4": "2003-11-28",
                                    "5": "34606.28"
                                },
                                {
                                    "0": "Martin Gerard",
                                    "1": "344",
                                    "2": "CAF Imports",
                                    "3": "Jesus Fernandez",
                                    "4": "2003-11-24",
                                    "5": "31428.21"
                                },
                                {
                                    "0": "Martin Gerard",
                                    "1": "344",
                                    "2": "CAF Imports",
                                    "3": "Jesus Fernandez",
                                    "4": "2004-04-02",
                                    "5": "15322.93"
                                },
                                {
                                    "0": "Leslie Thompson",
                                    "1": "347",
                                    "2": "Men US Retailers, Ltd.",
                                    "3": "Brian Chandler",
                                    "4": "2004-01-18",
                                    "5": "21053.69"
                                },
                                {
                                    "0": "Leslie Thompson",
                                    "1": "347",
                                    "2": "Men US Retailers, Ltd.",
                                    "3": "Brian Chandler",
                                    "4": "2003-10-24",
                                    "5": "20452.50"
                                },
                                {
                                    "0": "Loui Bondur",
                                    "1": "350",
                                    "2": "Marseille Mini Autos",
                                    "3": "Laurence  Lebihan",
                                    "4": "2004-12-11",
                                    "5": "18888.31"
                                },
                                {
                                    "0": "Loui Bondur",
                                    "1": "350",
                                    "2": "Marseille Mini Autos",
                                    "3": "Laurence  Lebihan",
                                    "4": "2003-05-25",
                                    "5": "50824.66"
                                },
                                {
                                    "0": "Loui Bondur",
                                    "1": "350",
                                    "2": "Marseille Mini Autos",
                                    "3": "Laurence  Lebihan",
                                    "4": "2005-01-29",
                                    "5": "1834.56"
                                },
                                {
                                    "0": "Loui Bondur",
                                    "1": "353",
                                    "2": "Reims Collectables",
                                    "3": "Paul  Henriot",
                                    "4": "2005-01-10",
                                    "5": "49705.52"
                                },
                                {
                                    "0": "Loui Bondur",
                                    "1": "353",
                                    "2": "Reims Collectables",
                                    "3": "Paul  Henriot",
                                    "4": "2003-07-21",
                                    "5": "13920.26"
                                },
                                {
                                    "0": "Loui Bondur",
                                    "1": "353",
                                    "2": "Reims Collectables",
                                    "3": "Paul  Henriot",
                                    "4": "2003-05-21",
                                    "5": "16700.47"
                                },
                                {
                                    "0": "Loui Bondur",
                                    "1": "353",
                                    "2": "Reims Collectables",
                                    "3": "Paul  Henriot",
                                    "4": "2005-06-09",
                                    "5": "46656.94"
                                },
                                {
                                    "0": "Peter Marsh",
                                    "1": "357",
                                    "2": "GiftsForHim.com",
                                    "3": "Wales MacKinlay",
                                    "4": "2003-12-16",
                                    "5": "20220.04"
                                },
                                {
                                    "0": "Peter Marsh",
                                    "1": "357",
                                    "2": "GiftsForHim.com",
                                    "3": "Wales MacKinlay",
                                    "4": "2004-05-15",
                                    "5": "36442.34"
                                },
                                {
                                    "0": "Steve Patterson",
                                    "1": "362",
                                    "2": "Gifts4AllAges.com",
                                    "3": "Juri Yoshido",
                                    "4": "2004-07-11",
                                    "5": "18473.71"
                                },
                                {
                                    "0": "Steve Patterson",
                                    "1": "362",
                                    "2": "Gifts4AllAges.com",
                                    "3": "Juri Yoshido",
                                    "4": "2004-09-21",
                                    "5": "15059.76"
                                },
                                {
                                    "0": "Steve Patterson",
                                    "1": "363",
                                    "2": "Online Diecast Creations Co.",
                                    "3": "Dorothy Young",
                                    "4": "2004-11-17",
                                    "5": "50799.69"
                                },
                                {
                                    "0": "Steve Patterson",
                                    "1": "363",
                                    "2": "Online Diecast Creations Co.",
                                    "3": "Dorothy Young",
                                    "4": "2003-01-16",
                                    "5": "10223.83"
                                },
                                {
                                    "0": "Steve Patterson",
                                    "1": "363",
                                    "2": "Online Diecast Creations Co.",
                                    "3": "Dorothy Young",
                                    "4": "2003-12-05",
                                    "5": "55425.77"
                                },
                                {
                                    "0": "Julie Firrelli",
                                    "1": "379",
                                    "2": "Collectables For Less Inc.",
                                    "3": "Allen Nelson",
                                    "4": "2005-02-12",
                                    "5": "28322.83"
                                },
                                {
                                    "0": "Julie Firrelli",
                                    "1": "379",
                                    "2": "Collectables For Less Inc.",
                                    "3": "Allen Nelson",
                                    "4": "2003-09-16",
                                    "5": "32680.31"
                                },
                                {
                                    "0": "Julie Firrelli",
                                    "1": "379",
                                    "2": "Collectables For Less Inc.",
                                    "3": "Allen Nelson",
                                    "4": "2004-08-02",
                                    "5": "12530.51"
                                },
                                {
                                    "0": "Pamela Castillo",
                                    "1": "381",
                                    "2": "Royale Belge",
                                    "3": "Pascale  Cartrain",
                                    "4": "2004-12-03",
                                    "5": "12081.52"
                                },
                                {
                                    "0": "Pamela Castillo",
                                    "1": "381",
                                    "2": "Royale Belge",
                                    "3": "Pascale  Cartrain",
                                    "4": "2003-04-19",
                                    "5": "1627.56"
                                },
                                {
                                    "0": "Pamela Castillo",
                                    "1": "381",
                                    "2": "Royale Belge",
                                    "3": "Pascale  Cartrain",
                                    "4": "2005-02-03",
                                    "5": "14379.90"
                                },
                                {
                                    "0": "Pamela Castillo",
                                    "1": "381",
                                    "2": "Royale Belge",
                                    "3": "Pascale  Cartrain",
                                    "4": "2003-08-22",
                                    "5": "1128.20"
                                },
                                {
                                    "0": "Pamela Castillo",
                                    "1": "382",
                                    "2": "Salzburg Collectables",
                                    "3": "Georg  Pipps",
                                    "4": "2003-05-12",
                                    "5": "35826.33"
                                },
                                {
                                    "0": "Pamela Castillo",
                                    "1": "382",
                                    "2": "Salzburg Collectables",
                                    "3": "Georg  Pipps",
                                    "4": "2004-08-01",
                                    "5": "6419.84"
                                },
                                {
                                    "0": "Pamela Castillo",
                                    "1": "382",
                                    "2": "Salzburg Collectables",
                                    "3": "Georg  Pipps",
                                    "4": "2004-11-27",
                                    "5": "42813.83"
                                },
                                {
                                    "0": "Mami Nishi",
                                    "1": "385",
                                    "2": "Cruz & Sons Co.",
                                    "3": "Arnold Cruz",
                                    "4": "2003-12-02",
                                    "5": "20644.24"
                                },
                                {
                                    "0": "Mami Nishi",
                                    "1": "385",
                                    "2": "Cruz & Sons Co.",
                                    "3": "Arnold Cruz",
                                    "4": "2004-11-19",
                                    "5": "15822.84"
                                },
                                {
                                    "0": "Mami Nishi",
                                    "1": "385",
                                    "2": "Cruz & Sons Co.",
                                    "3": "Arnold Cruz",
                                    "4": "2003-03-09",
                                    "5": "51001.22"
                                },
                                {
                                    "0": "Pamela Castillo",
                                    "1": "386",
                                    "2": "Lordine Souveniers",
                                    "3": "Maurizio  Moroni",
                                    "4": "2003-11-18",
                                    "5": "38524.29"
                                },
                                {
                                    "0": "Pamela Castillo",
                                    "1": "386",
                                    "2": "Lordine Souveniers",
                                    "3": "Maurizio  Moroni",
                                    "4": "2004-07-18",
                                    "5": "51619.02"
                                },
                                {
                                    "0": "Mami Nishi",
                                    "1": "398",
                                    "2": "Tokyo Collectables, Ltd",
                                    "3": "Akiko Shimamura",
                                    "4": "2005-02-14",
                                    "5": "33967.73"
                                },
                                {
                                    "0": "Mami Nishi",
                                    "1": "398",
                                    "2": "Tokyo Collectables, Ltd",
                                    "3": "Akiko Shimamura",
                                    "4": "2004-06-21",
                                    "5": "22037.91"
                                },
                                {
                                    "0": "Mami Nishi",
                                    "1": "398",
                                    "2": "Tokyo Collectables, Ltd",
                                    "3": "Akiko Shimamura",
                                    "4": "2005-05-18",
                                    "5": "615.45"
                                },
                                {
                                    "0": "Mami Nishi",
                                    "1": "398",
                                    "2": "Tokyo Collectables, Ltd",
                                    "3": "Akiko Shimamura",
                                    "4": "2004-11-29",
                                    "5": "48927.64"
                                },
                                {
                                    "0": "Loui Bondur",
                                    "1": "406",
                                    "2": "Auto Canal+ Petit",
                                    "3": "Dominique Perrier",
                                    "4": "2005-04-23",
                                    "5": "12190.85"
                                },
                                {
                                    "0": "Loui Bondur",
                                    "1": "406",
                                    "2": "Auto Canal+ Petit",
                                    "3": "Dominique Perrier",
                                    "4": "2004-01-28",
                                    "5": "49165.16"
                                },
                                {
                                    "0": "Loui Bondur",
                                    "1": "406",
                                    "2": "Auto Canal+ Petit",
                                    "3": "Dominique Perrier",
                                    "4": "2004-06-17",
                                    "5": "25080.96"
                                },
                                {
                                    "0": "Peter Marsh",
                                    "1": "412",
                                    "2": "Extreme Desk Decorations, Ltd",
                                    "3": "Sarah McRoy",
                                    "4": "2004-07-25",
                                    "5": "35034.57"
                                },
                                {
                                    "0": "Peter Marsh",
                                    "1": "412",
                                    "2": "Extreme Desk Decorations, Ltd",
                                    "3": "Sarah McRoy",
                                    "4": "2004-04-14",
                                    "5": "31670.37"
                                },
                                {
                                    "0": "Barry Jones",
                                    "1": "415",
                                    "2": "Bavarian Collectables Imports, Co.",
                                    "3": "Michael Donnermeyer",
                                    "4": "2004-09-28",
                                    "5": "31310.09"
                                },
                                {
                                    "0": "Foon Yue Tseng",
                                    "1": "424",
                                    "2": "Classic Legends Inc.",
                                    "3": "Maria Hernandez",
                                    "4": "2004-12-07",
                                    "5": "25505.98"
                                },
                                {
                                    "0": "Foon Yue Tseng",
                                    "1": "424",
                                    "2": "Classic Legends Inc.",
                                    "3": "Maria Hernandez",
                                    "4": "2003-04-16",
                                    "5": "21665.98"
                                },
                                {
                                    "0": "Foon Yue Tseng",
                                    "1": "424",
                                    "2": "Classic Legends Inc.",
                                    "3": "Maria Hernandez",
                                    "4": "2003-10-31",
                                    "5": "22042.37"
                                },
                                {
                                    "0": "George Vanauf",
                                    "1": "447",
                                    "2": "Gift Ideas Corp.",
                                    "3": "Dan Lewis",
                                    "4": "2003-09-15",
                                    "5": "6631.36"
                                },
                                {
                                    "0": "George Vanauf",
                                    "1": "447",
                                    "2": "Gift Ideas Corp.",
                                    "3": "Dan Lewis",
                                    "4": "2003-06-25",
                                    "5": "17032.29"
                                },
                                {
                                    "0": "George Vanauf",
                                    "1": "447",
                                    "2": "Gift Ideas Corp.",
                                    "3": "Dan Lewis",
                                    "4": "2004-12-17",
                                    "5": "26304.13"
                                },
                                {
                                    "0": "Barry Jones",
                                    "1": "448",
                                    "2": "Scandinavian Gift Ideas",
                                    "3": "Martha Larsson",
                                    "4": "2005-04-18",
                                    "5": "27966.54"
                                },
                                {
                                    "0": "Barry Jones",
                                    "1": "448",
                                    "2": "Scandinavian Gift Ideas",
                                    "3": "Martha Larsson",
                                    "4": "2004-09-30",
                                    "5": "48809.90"
                                },
                                {
                                    "0": "Leslie Jennings",
                                    "1": "450",
                                    "2": "The Sharp Gifts Warehouse",
                                    "3": "Sue Frick",
                                    "4": "2004-06-21",
                                    "5": "59551.38"
                                },
                                {
                                    "0": "Pamela Castillo",
                                    "1": "452",
                                    "2": "Mini Auto Werke",
                                    "3": "Roland  Mendel",
                                    "4": "2003-11-15",
                                    "5": "27121.90"
                                },
                                {
                                    "0": "Pamela Castillo",
                                    "1": "452",
                                    "2": "Mini Auto Werke",
                                    "3": "Roland  Mendel",
                                    "4": "2003-11-20",
                                    "5": "15130.97"
                                },
                                {
                                    "0": "Pamela Castillo",
                                    "1": "452",
                                    "2": "Mini Auto Werke",
                                    "3": "Roland  Mendel",
                                    "4": "2005-05-03",
                                    "5": "8807.12"
                                },
                                {
                                    "0": "Foon Yue Tseng",
                                    "1": "455",
                                    "2": "Super Scale Inc.",
                                    "3": "Leslie Murphy",
                                    "4": "2003-12-05",
                                    "5": "38139.18"
                                },
                                {
                                    "0": "Foon Yue Tseng",
                                    "1": "455",
                                    "2": "Super Scale Inc.",
                                    "3": "Leslie Murphy",
                                    "4": "2004-05-12",
                                    "5": "32239.47"
                                },
                                {
                                    "0": "Foon Yue Tseng",
                                    "1": "456",
                                    "2": "Microscale Inc.",
                                    "3": "Yu Choi",
                                    "4": "2004-11-13",
                                    "5": "27550.51"
                                },
                                {
                                    "0": "Foon Yue Tseng",
                                    "1": "456",
                                    "2": "Microscale Inc.",
                                    "3": "Yu Choi",
                                    "4": "2004-04-30",
                                    "5": "1679.92"
                                },
                                {
                                    "0": "Martin Gerard",
                                    "1": "458",
                                    "2": "Corrida Auto Replicas, Ltd",
                                    "3": "Martín  Sommer",
                                    "4": "2004-11-15",
                                    "5": "33145.56"
                                },
                                {
                                    "0": "Martin Gerard",
                                    "1": "458",
                                    "2": "Corrida Auto Replicas, Ltd",
                                    "3": "Martín  Sommer",
                                    "4": "2004-02-06",
                                    "5": "22162.61"
                                },
                                {
                                    "0": "Martin Gerard",
                                    "1": "458",
                                    "2": "Corrida Auto Replicas, Ltd",
                                    "3": "Martín  Sommer",
                                    "4": "2003-06-13",
                                    "5": "57131.92"
                                },
                                {
                                    "0": "Steve Patterson",
                                    "1": "462",
                                    "2": "FunGiftIdeas.com",
                                    "3": "Violeta Benitez",
                                    "4": "2005-04-15",
                                    "5": "30293.77"
                                },
                                {
                                    "0": "Steve Patterson",
                                    "1": "462",
                                    "2": "FunGiftIdeas.com",
                                    "3": "Violeta Benitez",
                                    "4": "2003-11-08",
                                    "5": "9977.85"
                                },
                                {
                                    "0": "Steve Patterson",
                                    "1": "462",
                                    "2": "FunGiftIdeas.com",
                                    "3": "Violeta Benitez",
                                    "4": "2004-11-27",
                                    "5": "48355.87"
                                },
                                {
                                    "0": "Andy Fixter",
                                    "1": "471",
                                    "2": "Australian Collectables, Ltd",
                                    "3": "Sean Clenahan",
                                    "4": "2004-07-28",
                                    "5": "9415.13"
                                },
                                {
                                    "0": "Andy Fixter",
                                    "1": "471",
                                    "2": "Australian Collectables, Ltd",
                                    "3": "Sean Clenahan",
                                    "4": "2003-12-10",
                                    "5": "35505.63"
                                },
                                {
                                    "0": "Pamela Castillo",
                                    "1": "473",
                                    "2": "Frau da Collezione",
                                    "3": "Franco Ricotti",
                                    "4": "2004-02-17",
                                    "5": "7612.06"
                                },
                                {
                                    "0": "Pamela Castillo",
                                    "1": "473",
                                    "2": "Frau da Collezione",
                                    "3": "Franco Ricotti",
                                    "4": "2003-10-27",
                                    "5": "17746.26"
                                },
                                {
                                    "0": "Leslie Thompson",
                                    "1": "475",
                                    "2": "West Coast Collectables Co.",
                                    "3": "Steve Thompson",
                                    "4": "2003-12-09",
                                    "5": "7678.25"
                                },
                                {
                                    "0": "Leslie Thompson",
                                    "1": "475",
                                    "2": "West Coast Collectables Co.",
                                    "3": "Steve Thompson",
                                    "4": "2004-02-13",
                                    "5": "36070.47"
                                },
                                {
                                    "0": "Martin Gerard",
                                    "1": "484",
                                    "2": "Iberia Gift Imports, Corp.",
                                    "3": "José Pedro  Roel",
                                    "4": "2004-10-26",
                                    "5": "3474.66"
                                },
                                {
                                    "0": "Martin Gerard",
                                    "1": "484",
                                    "2": "Iberia Gift Imports, Corp.",
                                    "3": "José Pedro  Roel",
                                    "4": "2003-11-29",
                                    "5": "47513.19"
                                },
                                {
                                    "0": "George Vanauf",
                                    "1": "486",
                                    "2": "Motor Mint Distributors Inc.",
                                    "3": "Rosa Salazar",
                                    "4": "2004-04-14",
                                    "5": "5899.38"
                                },
                                {
                                    "0": "George Vanauf",
                                    "1": "486",
                                    "2": "Motor Mint Distributors Inc.",
                                    "3": "Rosa Salazar",
                                    "4": "2004-11-23",
                                    "5": "45994.07"
                                },
                                {
                                    "0": "George Vanauf",
                                    "1": "486",
                                    "2": "Motor Mint Distributors Inc.",
                                    "3": "Rosa Salazar",
                                    "4": "2003-03-20",
                                    "5": "25833.14"
                                },
                                {
                                    "0": "Leslie Jennings",
                                    "1": "487",
                                    "2": "Signal Collectibles Ltd.",
                                    "3": "Sue Taylor",
                                    "4": "2003-09-28",
                                    "5": "29997.09"
                                },
                                {
                                    "0": "Leslie Jennings",
                                    "1": "487",
                                    "2": "Signal Collectibles Ltd.",
                                    "3": "Sue Taylor",
                                    "4": "2004-02-29",
                                    "5": "12573.28"
                                },
                                {
                                    "0": "Larry Bott",
                                    "1": "489",
                                    "2": "Double Decker Gift Stores, Ltd",
                                    "3": "Thomas  Smith",
                                    "4": "2003-12-04",
                                    "5": "22275.73"
                                },
                                {
                                    "0": "Larry Bott",
                                    "1": "489",
                                    "2": "Double Decker Gift Stores, Ltd",
                                    "3": "Thomas  Smith",
                                    "4": "2004-01-31",
                                    "5": "7310.42"
                                },
                                {
                                    "0": "Julie Firrelli",
                                    "1": "495",
                                    "2": "Diecast Collectables",
                                    "3": "Valarie Franco",
                                    "4": "2003-12-26",
                                    "5": "59265.14"
                                },
                                {
                                    "0": "Julie Firrelli",
                                    "1": "495",
                                    "2": "Diecast Collectables",
                                    "3": "Valarie Franco",
                                    "4": "2004-05-14",
                                    "5": "6276.60"
                                }
                            ]
                        },
                        "text/html": "<table><tr><th>EmployeeName</th><th>customerNumber</th><th>customerName</th><th>ContactName</th><th>paymentDate</th><th>amount</th></tr><tr><td>Gerard Hernandez</td><td>103</td><td>Atelier graphique</td><td>Carine  Schmitt</td><td>2004-10-19</td><td>6066.78</td></tr><tr><td>Gerard Hernandez</td><td>103</td><td>Atelier graphique</td><td>Carine  Schmitt</td><td>2003-06-05</td><td>14571.44</td></tr><tr><td>Gerard Hernandez</td><td>103</td><td>Atelier graphique</td><td>Carine  Schmitt</td><td>2004-12-18</td><td>1676.14</td></tr><tr><td>Leslie Thompson</td><td>112</td><td>Signal Gift Stores</td><td>Jean King</td><td>2004-12-17</td><td>14191.12</td></tr><tr><td>Leslie Thompson</td><td>112</td><td>Signal Gift Stores</td><td>Jean King</td><td>2003-06-06</td><td>32641.98</td></tr><tr><td>Leslie Thompson</td><td>112</td><td>Signal Gift Stores</td><td>Jean King</td><td>2004-08-20</td><td>33347.88</td></tr><tr><td>Andy Fixter</td><td>114</td><td>Australian Collectors, Co.</td><td>Peter Ferguson</td><td>2003-05-20</td><td>45864.03</td></tr><tr><td>Andy Fixter</td><td>114</td><td>Australian Collectors, Co.</td><td>Peter Ferguson</td><td>2004-12-15</td><td>82261.22</td></tr><tr><td>Andy Fixter</td><td>114</td><td>Australian Collectors, Co.</td><td>Peter Ferguson</td><td>2003-05-31</td><td>7565.08</td></tr><tr><td>Andy Fixter</td><td>114</td><td>Australian Collectors, Co.</td><td>Peter Ferguson</td><td>2004-03-10</td><td>44894.74</td></tr><tr><td>Gerard Hernandez</td><td>119</td><td>La Rochelle Gifts</td><td>Janine  Labrune</td><td>2004-11-14</td><td>19501.82</td></tr><tr><td>Gerard Hernandez</td><td>119</td><td>La Rochelle Gifts</td><td>Janine  Labrune</td><td>2004-08-08</td><td>47924.19</td></tr><tr><td>Gerard Hernandez</td><td>119</td><td>La Rochelle Gifts</td><td>Janine  Labrune</td><td>2005-02-22</td><td>49523.67</td></tr><tr><td>Barry Jones</td><td>121</td><td>Baane Mini Imports</td><td>Jonas  Bergulfsen</td><td>2003-02-16</td><td>50218.95</td></tr><tr><td>Barry Jones</td><td>121</td><td>Baane Mini Imports</td><td>Jonas  Bergulfsen</td><td>2003-10-28</td><td>1491.38</td></tr><tr><td>Barry Jones</td><td>121</td><td>Baane Mini Imports</td><td>Jonas  Bergulfsen</td><td>2004-11-04</td><td>17876.32</td></tr><tr><td>Barry Jones</td><td>121</td><td>Baane Mini Imports</td><td>Jonas  Bergulfsen</td><td>2004-11-28</td><td>34638.14</td></tr><tr><td>Leslie Jennings</td><td>124</td><td>Mini Gifts Distributors Ltd.</td><td>Susan Nelson</td><td>2005-03-05</td><td>101244.59</td></tr><tr><td>Leslie Jennings</td><td>124</td><td>Mini Gifts Distributors Ltd.</td><td>Susan Nelson</td><td>2004-08-28</td><td>85410.87</td></tr><tr><td>Leslie Jennings</td><td>124</td><td>Mini Gifts Distributors Ltd.</td><td>Susan Nelson</td><td>2003-04-11</td><td>11044.30</td></tr><tr><td>Leslie Jennings</td><td>124</td><td>Mini Gifts Distributors Ltd.</td><td>Susan Nelson</td><td>2005-04-16</td><td>83598.04</td></tr><tr><td>Leslie Jennings</td><td>124</td><td>Mini Gifts Distributors Ltd.</td><td>Susan Nelson</td><td>2004-12-27</td><td>47142.70</td></tr><tr><td>Leslie Jennings</td><td>124</td><td>Mini Gifts Distributors Ltd.</td><td>Susan Nelson</td><td>2004-11-02</td><td>55639.66</td></tr><tr><td>Leslie Jennings</td><td>124</td><td>Mini Gifts Distributors Ltd.</td><td>Susan Nelson</td><td>2003-08-15</td><td>111654.40</td></tr><tr><td>Leslie Jennings</td><td>124</td><td>Mini Gifts Distributors Ltd.</td><td>Susan Nelson</td><td>2004-03-26</td><td>43369.30</td></tr><tr><td>Leslie Jennings</td><td>124</td><td>Mini Gifts Distributors Ltd.</td><td>Susan Nelson</td><td>2003-11-25</td><td>45084.38</td></tr><tr><td>Barry Jones</td><td>128</td><td>Blauer See Auto, Co.</td><td>Roland Keitel</td><td>2003-01-28</td><td>10549.01</td></tr><tr><td>Barry Jones</td><td>128</td><td>Blauer See Auto, Co.</td><td>Roland Keitel</td><td>2003-10-18</td><td>24101.81</td></tr><tr><td>Barry Jones</td><td>128</td><td>Blauer See Auto, Co.</td><td>Roland Keitel</td><td>2004-03-24</td><td>33820.62</td></tr><tr><td>Barry Jones</td><td>128</td><td>Blauer See Auto, Co.</td><td>Roland Keitel</td><td>2004-11-18</td><td>7466.32</td></tr><tr><td>Leslie Jennings</td><td>129</td><td>Mini Wheels Co.</td><td>Julie Murphy</td><td>2004-12-08</td><td>26248.78</td></tr><tr><td>Leslie Jennings</td><td>129</td><td>Mini Wheels Co.</td><td>Julie Murphy</td><td>2003-12-11</td><td>23923.93</td></tr><tr><td>Leslie Jennings</td><td>129</td><td>Mini Wheels Co.</td><td>Julie Murphy</td><td>2003-04-09</td><td>16537.85</td></tr><tr><td>George Vanauf</td><td>131</td><td>Land of Toys Inc.</td><td>Kwai Lee</td><td>2003-03-12</td><td>22292.62</td></tr><tr><td>George Vanauf</td><td>131</td><td>Land of Toys Inc.</td><td>Kwai Lee</td><td>2004-12-02</td><td>50025.35</td></tr><tr><td>George Vanauf</td><td>131</td><td>Land of Toys Inc.</td><td>Kwai Lee</td><td>2004-09-11</td><td>35321.97</td></tr><tr><td>Gerard Hernandez</td><td>141</td><td>Euro+ Shopping Channel</td><td>Diego  Freyre</td><td>2003-07-19</td><td>36251.03</td></tr><tr><td>Gerard Hernandez</td><td>141</td><td>Euro+ Shopping Channel</td><td>Diego  Freyre</td><td>2004-11-01</td><td>36140.38</td></tr><tr><td>Gerard Hernandez</td><td>141</td><td>Euro+ Shopping Channel</td><td>Diego  Freyre</td><td>2005-05-19</td><td>46895.48</td></tr><tr><td>Gerard Hernandez</td><td>141</td><td>Euro+ Shopping Channel</td><td>Diego  Freyre</td><td>2004-01-30</td><td>59830.55</td></tr><tr><td>Gerard Hernandez</td><td>141</td><td>Euro+ Shopping Channel</td><td>Diego  Freyre</td><td>2004-12-31</td><td>116208.40</td></tr><tr><td>Gerard Hernandez</td><td>141</td><td>Euro+ Shopping Channel</td><td>Diego  Freyre</td><td>2005-03-25</td><td>65071.26</td></tr><tr><td>Gerard Hernandez</td><td>141</td><td>Euro+ Shopping Channel</td><td>Diego  Freyre</td><td>2005-03-18</td><td>120166.58</td></tr><tr><td>Gerard Hernandez</td><td>141</td><td>Euro+ Shopping Channel</td><td>Diego  Freyre</td><td>2003-10-26</td><td>49539.37</td></tr><tr><td>Gerard Hernandez</td><td>141</td><td>Euro+ Shopping Channel</td><td>Diego  Freyre</td><td>2003-02-25</td><td>40206.20</td></tr><tr><td>Gerard Hernandez</td><td>141</td><td>Euro+ Shopping Channel</td><td>Diego  Freyre</td><td>2003-12-09</td><td>63843.55</td></tr><tr><td>Gerard Hernandez</td><td>141</td><td>Euro+ Shopping Channel</td><td>Diego  Freyre</td><td>2004-07-09</td><td>35420.74</td></tr><tr><td>Gerard Hernandez</td><td>141</td><td>Euro+ Shopping Channel</td><td>Diego  Freyre</td><td>2004-08-16</td><td>20009.53</td></tr><tr><td>Gerard Hernandez</td><td>141</td><td>Euro+ Shopping Channel</td><td>Diego  Freyre</td><td>2004-05-17</td><td>26155.91</td></tr><tr><td>Barry Jones</td><td>144</td><td>Volvo Model Replicas, Co</td><td>Christina  Berglund</td><td>2004-12-12</td><td>36005.71</td></tr><tr><td>Barry Jones</td><td>144</td><td>Volvo Model Replicas, Co</td><td>Christina  Berglund</td><td>2003-04-09</td><td>7674.94</td></tr><tr><td>Pamela Castillo</td><td>145</td><td>Danish Wholesale Imports</td><td>Jytte  Petersen</td><td>2004-07-03</td><td>4710.73</td></tr><tr><td>Pamela Castillo</td><td>145</td><td>Danish Wholesale Imports</td><td>Jytte  Petersen</td><td>2004-04-26</td><td>28211.70</td></tr><tr><td>Pamela Castillo</td><td>145</td><td>Danish Wholesale Imports</td><td>Jytte  Petersen</td><td>2004-12-01</td><td>20564.86</td></tr><tr><td>Pamela Castillo</td><td>145</td><td>Danish Wholesale Imports</td><td>Jytte  Petersen</td><td>2003-02-20</td><td>53959.21</td></tr><tr><td>Loui Bondur</td><td>146</td><td>Saveley &amp; Henriot, Co.</td><td>Mary  Saveley</td><td>2004-03-18</td><td>40978.53</td></tr><tr><td>Loui Bondur</td><td>146</td><td>Saveley &amp; Henriot, Co.</td><td>Mary  Saveley</td><td>2004-01-16</td><td>49614.72</td></tr><tr><td>Loui Bondur</td><td>146</td><td>Saveley &amp; Henriot, Co.</td><td>Mary  Saveley</td><td>2003-12-10</td><td>39712.10</td></tr><tr><td>Mami Nishi</td><td>148</td><td>Dragon Souveniers, Ltd.</td><td>Eric Natividad</td><td>2003-04-22</td><td>44380.15</td></tr><tr><td>Mami Nishi</td><td>148</td><td>Dragon Souveniers, Ltd.</td><td>Eric Natividad</td><td>2004-08-11</td><td>2611.84</td></tr><tr><td>Mami Nishi</td><td>148</td><td>Dragon Souveniers, Ltd.</td><td>Eric Natividad</td><td>2003-12-26</td><td>105743.00</td></tr><tr><td>Mami Nishi</td><td>148</td><td>Dragon Souveniers, Ltd.</td><td>Eric Natividad</td><td>2005-03-27</td><td>3516.04</td></tr><tr><td>Foon Yue Tseng</td><td>151</td><td>Muscle Machine Inc</td><td>Jeff Young</td><td>2003-12-22</td><td>58793.53</td></tr><tr><td>Foon Yue Tseng</td><td>151</td><td>Muscle Machine Inc</td><td>Jeff Young</td><td>2004-07-26</td><td>20314.44</td></tr><tr><td>Foon Yue Tseng</td><td>151</td><td>Muscle Machine Inc</td><td>Jeff Young</td><td>2003-06-18</td><td>58841.35</td></tr><tr><td>Foon Yue Tseng</td><td>151</td><td>Muscle Machine Inc</td><td>Jeff Young</td><td>2004-12-14</td><td>39964.63</td></tr><tr><td>Steve Patterson</td><td>157</td><td>Diecast Classics Inc.</td><td>Kelvin Leong</td><td>2004-11-19</td><td>35152.12</td></tr><tr><td>Steve Patterson</td><td>157</td><td>Diecast Classics Inc.</td><td>Kelvin Leong</td><td>2004-09-07</td><td>63357.13</td></tr><tr><td>Leslie Jennings</td><td>161</td><td>Technics Stores Inc.</td><td>Juri Hashimoto</td><td>2004-11-14</td><td>2434.25</td></tr><tr><td>Leslie Jennings</td><td>161</td><td>Technics Stores Inc.</td><td>Juri Hashimoto</td><td>2003-11-18</td><td>50743.65</td></tr><tr><td>Leslie Jennings</td><td>161</td><td>Technics Stores Inc.</td><td>Juri Hashimoto</td><td>2005-02-02</td><td>12692.19</td></tr><tr><td>Leslie Jennings</td><td>161</td><td>Technics Stores Inc.</td><td>Juri Hashimoto</td><td>2003-08-05</td><td>38675.13</td></tr><tr><td>Peter Marsh</td><td>166</td><td>Handji Gifts&amp; Co</td><td>Wendy Victorino</td><td>2004-09-16</td><td>38785.48</td></tr><tr><td>Peter Marsh</td><td>166</td><td>Handji Gifts&amp; Co</td><td>Wendy Victorino</td><td>2004-07-07</td><td>44160.92</td></tr><tr><td>Peter Marsh</td><td>166</td><td>Handji Gifts&amp; Co</td><td>Wendy Victorino</td><td>2004-02-28</td><td>22474.17</td></tr><tr><td>Barry Jones</td><td>167</td><td>Herkku Gifts</td><td>Veysel Oeztan</td><td>2004-09-19</td><td>12538.01</td></tr><tr><td>Barry Jones</td><td>167</td><td>Herkku Gifts</td><td>Veysel Oeztan</td><td>2003-12-03</td><td>85024.46</td></tr><tr><td>Gerard Hernandez</td><td>171</td><td>Daedalus Designs Imports</td><td>Martine  Rancé</td><td>2004-03-15</td><td>18997.89</td></tr><tr><td>Gerard Hernandez</td><td>171</td><td>Daedalus Designs Imports</td><td>Martine  Rancé</td><td>2003-11-22</td><td>42783.81</td></tr><tr><td>Loui Bondur</td><td>172</td><td>La Corne D\\abondance, Co.</td><td>Marie Bertrand</td><td>2004-09-09</td><td>1960.80</td></tr><tr><td>Loui Bondur</td><td>172</td><td>La Corne D\\abondance, Co.</td><td>Marie Bertrand</td><td>2004-12-04</td><td>51209.58</td></tr><tr><td>Loui Bondur</td><td>172</td><td>La Corne D\\abondance, Co.</td><td>Marie Bertrand</td><td>2003-04-20</td><td>33383.14</td></tr><tr><td>Julie Firrelli</td><td>173</td><td>Cambridge Collectables Co.</td><td>Jerry Tseng</td><td>2004-05-13</td><td>11843.45</td></tr><tr><td>Julie Firrelli</td><td>173</td><td>Cambridge Collectables Co.</td><td>Jerry Tseng</td><td>2004-03-29</td><td>20355.24</td></tr><tr><td>George Vanauf</td><td>175</td><td>Gift Depot Inc.</td><td>Julie King</td><td>2005-05-19</td><td>28500.78</td></tr><tr><td>George Vanauf</td><td>175</td><td>Gift Depot Inc.</td><td>Julie King</td><td>2003-11-19</td><td>24879.08</td></tr><tr><td>George Vanauf</td><td>175</td><td>Gift Depot Inc.</td><td>Julie King</td><td>2004-07-10</td><td>42044.77</td></tr><tr><td>Mami Nishi</td><td>177</td><td>Osaka Souveniers Co.</td><td>Mory Kentary</td><td>2004-04-17</td><td>15183.63</td></tr><tr><td>Mami Nishi</td><td>177</td><td>Osaka Souveniers Co.</td><td>Mory Kentary</td><td>2004-01-19</td><td>47177.59</td></tr><tr><td>Foon Yue Tseng</td><td>181</td><td>Vitachrome Inc.</td><td>Michael Frick</td><td>2004-04-25</td><td>22602.36</td></tr><tr><td>Foon Yue Tseng</td><td>181</td><td>Vitachrome Inc.</td><td>Michael Frick</td><td>2003-01-30</td><td>5494.78</td></tr><tr><td>Foon Yue Tseng</td><td>181</td><td>Vitachrome Inc.</td><td>Michael Frick</td><td>2004-11-16</td><td>44400.50</td></tr><tr><td>Larry Bott</td><td>186</td><td>Toys of Finland, Co.</td><td>Matti Karttunen</td><td>2005-03-10</td><td>23602.90</td></tr><tr><td>Larry Bott</td><td>186</td><td>Toys of Finland, Co.</td><td>Matti Karttunen</td><td>2003-10-27</td><td>37602.48</td></tr><tr><td>Larry Bott</td><td>186</td><td>Toys of Finland, Co.</td><td>Matti Karttunen</td><td>2004-10-21</td><td>34341.08</td></tr><tr><td>Larry Bott</td><td>187</td><td>AV Stores, Co.</td><td>Rachel Ashworth</td><td>2004-11-03</td><td>52825.29</td></tr><tr><td>Larry Bott</td><td>187</td><td>AV Stores, Co.</td><td>Rachel Ashworth</td><td>2004-12-08</td><td>47159.11</td></tr><tr><td>Larry Bott</td><td>187</td><td>AV Stores, Co.</td><td>Rachel Ashworth</td><td>2003-03-27</td><td>48425.69</td></tr><tr><td>Barry Jones</td><td>189</td><td>Clover Collections, Co.</td><td>Dean Cassidy</td><td>2004-10-03</td><td>17359.53</td></tr><tr><td>Barry Jones</td><td>189</td><td>Clover Collections, Co.</td><td>Dean Cassidy</td><td>2004-03-01</td><td>32538.74</td></tr><tr><td>Steve Patterson</td><td>198</td><td>Auto-Moto Classics Inc.</td><td>Leslie Taylor</td><td>2004-12-06</td><td>9658.74</td></tr><tr><td>Steve Patterson</td><td>198</td><td>Auto-Moto Classics Inc.</td><td>Leslie Taylor</td><td>2003-07-06</td><td>6036.96</td></tr><tr><td>Steve Patterson</td><td>198</td><td>Auto-Moto Classics Inc.</td><td>Leslie Taylor</td><td>2004-09-21</td><td>5858.56</td></tr><tr><td>Larry Bott</td><td>201</td><td>UK Collectables, Ltd.</td><td>Elizabeth Devon</td><td>2003-10-20</td><td>23908.24</td></tr><tr><td>Larry Bott</td><td>201</td><td>UK Collectables, Ltd.</td><td>Elizabeth Devon</td><td>2004-06-15</td><td>37258.94</td></tr><tr><td>George Vanauf</td><td>202</td><td>Canadian Gift Exchange Network</td><td>Yoshi  Tamuri</td><td>2003-12-18</td><td>36527.61</td></tr><tr><td>George Vanauf</td><td>202</td><td>Canadian Gift Exchange Network</td><td>Yoshi  Tamuri</td><td>2004-11-08</td><td>33594.58</td></tr><tr><td>Julie Firrelli</td><td>204</td><td>Online Mini Collectables</td><td>Miguel Barajas</td><td>2004-08-13</td><td>51152.86</td></tr><tr><td>Julie Firrelli</td><td>204</td><td>Online Mini Collectables</td><td>Miguel Barajas</td><td>2004-09-24</td><td>4424.40</td></tr><tr><td>Leslie Thompson</td><td>205</td><td>Toys4GrownUps.com</td><td>Julie Young</td><td>2003-12-04</td><td>3879.96</td></tr><tr><td>Leslie Thompson</td><td>205</td><td>Toys4GrownUps.com</td><td>Julie Young</td><td>2003-09-05</td><td>50342.74</td></tr><tr><td>Leslie Thompson</td><td>205</td><td>Toys4GrownUps.com</td><td>Julie Young</td><td>2005-02-06</td><td>39580.60</td></tr><tr><td>Gerard Hernandez</td><td>209</td><td>Mini Caravy</td><td>Frédérique  Citeaux</td><td>2005-05-03</td><td>35157.75</td></tr><tr><td>Gerard Hernandez</td><td>209</td><td>Mini Caravy</td><td>Frédérique  Citeaux</td><td>2004-06-21</td><td>4632.31</td></tr><tr><td>Gerard Hernandez</td><td>209</td><td>Mini Caravy</td><td>Frédérique  Citeaux</td><td>2004-05-04</td><td>36069.26</td></tr><tr><td>Mami Nishi</td><td>211</td><td>King Kong Collectables, Co.</td><td>Mike Gao</td><td>2003-12-09</td><td>45480.79</td></tr><tr><td>Martin Gerard</td><td>216</td><td>Enaco Distributors</td><td>Eduardo  Saavedra</td><td>2003-05-09</td><td>3101.40</td></tr><tr><td>Martin Gerard</td><td>216</td><td>Enaco Distributors</td><td>Eduardo  Saavedra</td><td>2004-12-06</td><td>24945.21</td></tr><tr><td>Martin Gerard</td><td>216</td><td>Enaco Distributors</td><td>Eduardo  Saavedra</td><td>2003-12-14</td><td>40473.86</td></tr><tr><td>Leslie Thompson</td><td>219</td><td>Boards &amp; Toys Co.</td><td>Mary Young</td><td>2005-03-02</td><td>3452.75</td></tr><tr><td>Leslie Thompson</td><td>219</td><td>Boards &amp; Toys Co.</td><td>Mary Young</td><td>2003-10-18</td><td>4465.85</td></tr><tr><td>Pamela Castillo</td><td>227</td><td>Heintze Collectables</td><td>Palle Ibsen</td><td>2003-10-31</td><td>36164.46</td></tr><tr><td>Pamela Castillo</td><td>227</td><td>Heintze Collectables</td><td>Palle Ibsen</td><td>2004-11-02</td><td>53745.34</td></tr><tr><td>Foon Yue Tseng</td><td>233</td><td>Québec Home Shopping Network</td><td>Jean  Fresnière</td><td>2005-05-20</td><td>29070.38</td></tr><tr><td>Foon Yue Tseng</td><td>233</td><td>Québec Home Shopping Network</td><td>Jean  Fresnière</td><td>2004-07-01</td><td>22997.45</td></tr><tr><td>Foon Yue Tseng</td><td>233</td><td>Québec Home Shopping Network</td><td>Jean  Fresnière</td><td>2003-11-18</td><td>16909.84</td></tr><tr><td>Leslie Thompson</td><td>239</td><td>Collectable Mini Designs Co.</td><td>Valarie Thompson</td><td>2004-03-15</td><td>80375.24</td></tr><tr><td>Larry Bott</td><td>240</td><td>giftsbymail.co.uk</td><td>Helen  Bennett</td><td>2004-11-16</td><td>46788.14</td></tr><tr><td>Larry Bott</td><td>240</td><td>giftsbymail.co.uk</td><td>Helen  Bennett</td><td>2004-03-28</td><td>24995.61</td></tr><tr><td>Gerard Hernandez</td><td>242</td><td>Alpha Cognac</td><td>Annette  Roulet</td><td>2003-11-22</td><td>33818.34</td></tr><tr><td>Gerard Hernandez</td><td>242</td><td>Alpha Cognac</td><td>Annette  Roulet</td><td>2005-06-03</td><td>12432.32</td></tr><tr><td>Gerard Hernandez</td><td>242</td><td>Alpha Cognac</td><td>Annette  Roulet</td><td>2003-07-21</td><td>14232.70</td></tr><tr><td>Pamela Castillo</td><td>249</td><td>Amica Models &amp; Co.</td><td>Paolo  Accorti</td><td>2004-09-19</td><td>33924.24</td></tr><tr><td>Pamela Castillo</td><td>249</td><td>Amica Models &amp; Co.</td><td>Paolo  Accorti</td><td>2004-09-04</td><td>48298.99</td></tr><tr><td>Loui Bondur</td><td>250</td><td>Lyon Souveniers</td><td>Daniel Da Silva</td><td>2005-05-17</td><td>17928.09</td></tr><tr><td>Loui Bondur</td><td>250</td><td>Lyon Souveniers</td><td>Daniel Da Silva</td><td>2004-12-30</td><td>26311.63</td></tr><tr><td>Loui Bondur</td><td>250</td><td>Lyon Souveniers</td><td>Daniel Da Silva</td><td>2003-07-18</td><td>23419.47</td></tr><tr><td>Gerard Hernandez</td><td>256</td><td>Auto Associés &amp; Cie.</td><td>Daniel  Tonini</td><td>2004-02-10</td><td>5759.42</td></tr><tr><td>Gerard Hernandez</td><td>256</td><td>Auto Associés &amp; Cie.</td><td>Daniel  Tonini</td><td>2004-10-22</td><td>53116.99</td></tr><tr><td>Barry Jones</td><td>259</td><td>Toms Spezialitäten, Ltd</td><td>Henriette  Pfalzheim</td><td>2004-11-06</td><td>61234.67</td></tr><tr><td>Barry Jones</td><td>259</td><td>Toms Spezialitäten, Ltd</td><td>Henriette  Pfalzheim</td><td>2003-12-07</td><td>27988.47</td></tr><tr><td>George Vanauf</td><td>260</td><td>Royal Canadian Collectables, Ltd.</td><td>Elizabeth  Lincoln</td><td>2004-08-30</td><td>37527.58</td></tr><tr><td>George Vanauf</td><td>260</td><td>Royal Canadian Collectables, Ltd.</td><td>Elizabeth  Lincoln</td><td>2004-04-24</td><td>29284.42</td></tr><tr><td>Andy Fixter</td><td>276</td><td>Annas Decorations, Ltd</td><td>Anna O Hara</td><td>2005-02-09</td><td>27083.78</td></tr><tr><td>Andy Fixter</td><td>276</td><td>Annas Decorations, Ltd</td><td>Anna O Hara</td><td>2003-11-13</td><td>38547.19</td></tr><tr><td>Andy Fixter</td><td>276</td><td>Annas Decorations, Ltd</td><td>Anna O Hara</td><td>2003-09-28</td><td>41554.73</td></tr><tr><td>Andy Fixter</td><td>276</td><td>Annas Decorations, Ltd</td><td>Anna O Hara</td><td>2005-04-30</td><td>29848.52</td></tr><tr><td>Pamela Castillo</td><td>278</td><td>Rovelli Gifts</td><td>Giovanni  Rovelli</td><td>2004-12-05</td><td>37654.09</td></tr><tr><td>Pamela Castillo</td><td>278</td><td>Rovelli Gifts</td><td>Giovanni  Rovelli</td><td>2003-03-02</td><td>52151.81</td></tr><tr><td>Pamela Castillo</td><td>278</td><td>Rovelli Gifts</td><td>Giovanni  Rovelli</td><td>2003-11-24</td><td>37723.79</td></tr><tr><td>Andy Fixter</td><td>282</td><td>Souveniers And Things Co.</td><td>Adrian Huxley</td><td>2003-08-03</td><td>24013.52</td></tr><tr><td>Andy Fixter</td><td>282</td><td>Souveniers And Things Co.</td><td>Adrian Huxley</td><td>2004-08-02</td><td>35806.73</td></tr><tr><td>Andy Fixter</td><td>282</td><td>Souveniers And Things Co.</td><td>Adrian Huxley</td><td>2005-01-03</td><td>31835.36</td></tr><tr><td>Steve Patterson</td><td>286</td><td>Marta s Replicas Co.</td><td>Marta Hernandez</td><td>2004-10-28</td><td>47411.33</td></tr><tr><td>Steve Patterson</td><td>286</td><td>Marta s Replicas Co.</td><td>Marta Hernandez</td><td>2004-09-05</td><td>43134.04</td></tr><tr><td>Martin Gerard</td><td>298</td><td>Vida Sport, Ltd</td><td>Mihael Holz</td><td>2004-03-13</td><td>47375.92</td></tr><tr><td>Martin Gerard</td><td>298</td><td>Vida Sport, Ltd</td><td>Mihael Holz</td><td>2004-09-18</td><td>61402.00</td></tr><tr><td>Barry Jones</td><td>299</td><td>Norway Gifts By Mail, Co.</td><td>Jan Klaeboe</td><td>2003-10-24</td><td>36798.88</td></tr><tr><td>Barry Jones</td><td>299</td><td>Norway Gifts By Mail, Co.</td><td>Jan Klaeboe</td><td>2004-09-05</td><td>32260.16</td></tr><tr><td>Larry Bott</td><td>311</td><td>Oulu Toy Supplies, Inc.</td><td>Pirkko Koskitalo</td><td>2005-02-15</td><td>46770.52</td></tr><tr><td>Larry Bott</td><td>311</td><td>Oulu Toy Supplies, Inc.</td><td>Pirkko Koskitalo</td><td>2003-10-06</td><td>32723.04</td></tr><tr><td>Larry Bott</td><td>311</td><td>Oulu Toy Supplies, Inc.</td><td>Pirkko Koskitalo</td><td>2004-04-25</td><td>16212.59</td></tr><tr><td>Pamela Castillo</td><td>314</td><td>Petit Auto</td><td>Catherine  Dewey</td><td>2004-08-09</td><td>45352.47</td></tr><tr><td>Pamela Castillo</td><td>314</td><td>Petit Auto</td><td>Catherine  Dewey</td><td>2004-03-03</td><td>16901.38</td></tr><tr><td>George Vanauf</td><td>319</td><td>Mini Classics</td><td>Steve Frick</td><td>2004-11-06</td><td>42339.76</td></tr><tr><td>George Vanauf</td><td>319</td><td>Mini Classics</td><td>Steve Frick</td><td>2003-12-07</td><td>36092.40</td></tr><tr><td>Julie Firrelli</td><td>320</td><td>Mini Creations Ltd.</td><td>Wing Huang</td><td>2005-01-18</td><td>8307.28</td></tr><tr><td>Julie Firrelli</td><td>320</td><td>Mini Creations Ltd.</td><td>Wing Huang</td><td>2003-08-20</td><td>41016.75</td></tr><tr><td>Julie Firrelli</td><td>320</td><td>Mini Creations Ltd.</td><td>Wing Huang</td><td>2003-11-24</td><td>52548.49</td></tr><tr><td>Leslie Jennings</td><td>321</td><td>Corporate Gift Ideas Co.</td><td>Julie Brown</td><td>2003-11-03</td><td>85559.12</td></tr><tr><td>Leslie Jennings</td><td>321</td><td>Corporate Gift Ideas Co.</td><td>Julie Brown</td><td>2005-03-15</td><td>46781.66</td></tr><tr><td>Peter Marsh</td><td>323</td><td>Down Under Souveniers, Inc</td><td>Mike Graham</td><td>2005-05-23</td><td>75020.13</td></tr><tr><td>Peter Marsh</td><td>323</td><td>Down Under Souveniers, Inc</td><td>Mike Graham</td><td>2004-06-24</td><td>37281.36</td></tr><tr><td>Peter Marsh</td><td>323</td><td>Down Under Souveniers, Inc</td><td>Mike Graham</td><td>2003-07-05</td><td>2880.00</td></tr><tr><td>Peter Marsh</td><td>323</td><td>Down Under Souveniers, Inc</td><td>Mike Graham</td><td>2004-12-24</td><td>39440.59</td></tr><tr><td>Larry Bott</td><td>324</td><td>Stylish Desk Decors, Co.</td><td>Ann  Brown</td><td>2004-12-13</td><td>13671.82</td></tr><tr><td>Larry Bott</td><td>324</td><td>Stylish Desk Decors, Co.</td><td>Ann  Brown</td><td>2003-07-07</td><td>29429.14</td></tr><tr><td>Larry Bott</td><td>324</td><td>Stylish Desk Decors, Co.</td><td>Ann  Brown</td><td>2003-11-23</td><td>37455.77</td></tr><tr><td>George Vanauf</td><td>328</td><td>Tekni Collectables Inc.</td><td>William Brown</td><td>2004-04-16</td><td>7178.66</td></tr><tr><td>George Vanauf</td><td>328</td><td>Tekni Collectables Inc.</td><td>William Brown</td><td>2004-05-30</td><td>31102.85</td></tr><tr><td>Andy Fixter</td><td>333</td><td>Australian Gift Network, Co</td><td>Ben Calaghan</td><td>2003-11-15</td><td>23936.53</td></tr><tr><td>Andy Fixter</td><td>333</td><td>Australian Gift Network, Co</td><td>Ben Calaghan</td><td>2003-10-17</td><td>9821.32</td></tr><tr><td>Andy Fixter</td><td>333</td><td>Australian Gift Network, Co</td><td>Ben Calaghan</td><td>2005-03-01</td><td>21432.31</td></tr><tr><td>Larry Bott</td><td>334</td><td>Suominen Souveniers</td><td>Kalle Suominen</td><td>2005-01-27</td><td>45785.34</td></tr><tr><td>Larry Bott</td><td>334</td><td>Suominen Souveniers</td><td>Kalle Suominen</td><td>2003-08-16</td><td>29716.86</td></tr><tr><td>Larry Bott</td><td>334</td><td>Suominen Souveniers</td><td>Kalle Suominen</td><td>2004-05-22</td><td>28394.54</td></tr><tr><td>Julie Firrelli</td><td>339</td><td>Classic Gift Ideas, Inc</td><td>Francisca Cervantes</td><td>2004-10-24</td><td>23333.06</td></tr><tr><td>Julie Firrelli</td><td>339</td><td>Classic Gift Ideas, Inc</td><td>Francisca Cervantes</td><td>2003-11-28</td><td>34606.28</td></tr><tr><td>Martin Gerard</td><td>344</td><td>CAF Imports</td><td>Jesus Fernandez</td><td>2003-11-24</td><td>31428.21</td></tr><tr><td>Martin Gerard</td><td>344</td><td>CAF Imports</td><td>Jesus Fernandez</td><td>2004-04-02</td><td>15322.93</td></tr><tr><td>Leslie Thompson</td><td>347</td><td>Men US Retailers, Ltd.</td><td>Brian Chandler</td><td>2004-01-18</td><td>21053.69</td></tr><tr><td>Leslie Thompson</td><td>347</td><td>Men US Retailers, Ltd.</td><td>Brian Chandler</td><td>2003-10-24</td><td>20452.50</td></tr><tr><td>Loui Bondur</td><td>350</td><td>Marseille Mini Autos</td><td>Laurence  Lebihan</td><td>2004-12-11</td><td>18888.31</td></tr><tr><td>Loui Bondur</td><td>350</td><td>Marseille Mini Autos</td><td>Laurence  Lebihan</td><td>2003-05-25</td><td>50824.66</td></tr><tr><td>Loui Bondur</td><td>350</td><td>Marseille Mini Autos</td><td>Laurence  Lebihan</td><td>2005-01-29</td><td>1834.56</td></tr><tr><td>Loui Bondur</td><td>353</td><td>Reims Collectables</td><td>Paul  Henriot</td><td>2005-01-10</td><td>49705.52</td></tr><tr><td>Loui Bondur</td><td>353</td><td>Reims Collectables</td><td>Paul  Henriot</td><td>2003-07-21</td><td>13920.26</td></tr><tr><td>Loui Bondur</td><td>353</td><td>Reims Collectables</td><td>Paul  Henriot</td><td>2003-05-21</td><td>16700.47</td></tr><tr><td>Loui Bondur</td><td>353</td><td>Reims Collectables</td><td>Paul  Henriot</td><td>2005-06-09</td><td>46656.94</td></tr><tr><td>Peter Marsh</td><td>357</td><td>GiftsForHim.com</td><td>Wales MacKinlay</td><td>2003-12-16</td><td>20220.04</td></tr><tr><td>Peter Marsh</td><td>357</td><td>GiftsForHim.com</td><td>Wales MacKinlay</td><td>2004-05-15</td><td>36442.34</td></tr><tr><td>Steve Patterson</td><td>362</td><td>Gifts4AllAges.com</td><td>Juri Yoshido</td><td>2004-07-11</td><td>18473.71</td></tr><tr><td>Steve Patterson</td><td>362</td><td>Gifts4AllAges.com</td><td>Juri Yoshido</td><td>2004-09-21</td><td>15059.76</td></tr><tr><td>Steve Patterson</td><td>363</td><td>Online Diecast Creations Co.</td><td>Dorothy Young</td><td>2004-11-17</td><td>50799.69</td></tr><tr><td>Steve Patterson</td><td>363</td><td>Online Diecast Creations Co.</td><td>Dorothy Young</td><td>2003-01-16</td><td>10223.83</td></tr><tr><td>Steve Patterson</td><td>363</td><td>Online Diecast Creations Co.</td><td>Dorothy Young</td><td>2003-12-05</td><td>55425.77</td></tr><tr><td>Julie Firrelli</td><td>379</td><td>Collectables For Less Inc.</td><td>Allen Nelson</td><td>2005-02-12</td><td>28322.83</td></tr><tr><td>Julie Firrelli</td><td>379</td><td>Collectables For Less Inc.</td><td>Allen Nelson</td><td>2003-09-16</td><td>32680.31</td></tr><tr><td>Julie Firrelli</td><td>379</td><td>Collectables For Less Inc.</td><td>Allen Nelson</td><td>2004-08-02</td><td>12530.51</td></tr><tr><td>Pamela Castillo</td><td>381</td><td>Royale Belge</td><td>Pascale  Cartrain</td><td>2004-12-03</td><td>12081.52</td></tr><tr><td>Pamela Castillo</td><td>381</td><td>Royale Belge</td><td>Pascale  Cartrain</td><td>2003-04-19</td><td>1627.56</td></tr><tr><td>Pamela Castillo</td><td>381</td><td>Royale Belge</td><td>Pascale  Cartrain</td><td>2005-02-03</td><td>14379.90</td></tr><tr><td>Pamela Castillo</td><td>381</td><td>Royale Belge</td><td>Pascale  Cartrain</td><td>2003-08-22</td><td>1128.20</td></tr><tr><td>Pamela Castillo</td><td>382</td><td>Salzburg Collectables</td><td>Georg  Pipps</td><td>2003-05-12</td><td>35826.33</td></tr><tr><td>Pamela Castillo</td><td>382</td><td>Salzburg Collectables</td><td>Georg  Pipps</td><td>2004-08-01</td><td>6419.84</td></tr><tr><td>Pamela Castillo</td><td>382</td><td>Salzburg Collectables</td><td>Georg  Pipps</td><td>2004-11-27</td><td>42813.83</td></tr><tr><td>Mami Nishi</td><td>385</td><td>Cruz &amp; Sons Co.</td><td>Arnold Cruz</td><td>2003-12-02</td><td>20644.24</td></tr><tr><td>Mami Nishi</td><td>385</td><td>Cruz &amp; Sons Co.</td><td>Arnold Cruz</td><td>2004-11-19</td><td>15822.84</td></tr><tr><td>Mami Nishi</td><td>385</td><td>Cruz &amp; Sons Co.</td><td>Arnold Cruz</td><td>2003-03-09</td><td>51001.22</td></tr><tr><td>Pamela Castillo</td><td>386</td><td>Lordine Souveniers</td><td>Maurizio  Moroni</td><td>2003-11-18</td><td>38524.29</td></tr><tr><td>Pamela Castillo</td><td>386</td><td>Lordine Souveniers</td><td>Maurizio  Moroni</td><td>2004-07-18</td><td>51619.02</td></tr><tr><td>Mami Nishi</td><td>398</td><td>Tokyo Collectables, Ltd</td><td>Akiko Shimamura</td><td>2005-02-14</td><td>33967.73</td></tr><tr><td>Mami Nishi</td><td>398</td><td>Tokyo Collectables, Ltd</td><td>Akiko Shimamura</td><td>2004-06-21</td><td>22037.91</td></tr><tr><td>Mami Nishi</td><td>398</td><td>Tokyo Collectables, Ltd</td><td>Akiko Shimamura</td><td>2005-05-18</td><td>615.45</td></tr><tr><td>Mami Nishi</td><td>398</td><td>Tokyo Collectables, Ltd</td><td>Akiko Shimamura</td><td>2004-11-29</td><td>48927.64</td></tr><tr><td>Loui Bondur</td><td>406</td><td>Auto Canal+ Petit</td><td>Dominique Perrier</td><td>2005-04-23</td><td>12190.85</td></tr><tr><td>Loui Bondur</td><td>406</td><td>Auto Canal+ Petit</td><td>Dominique Perrier</td><td>2004-01-28</td><td>49165.16</td></tr><tr><td>Loui Bondur</td><td>406</td><td>Auto Canal+ Petit</td><td>Dominique Perrier</td><td>2004-06-17</td><td>25080.96</td></tr><tr><td>Peter Marsh</td><td>412</td><td>Extreme Desk Decorations, Ltd</td><td>Sarah McRoy</td><td>2004-07-25</td><td>35034.57</td></tr><tr><td>Peter Marsh</td><td>412</td><td>Extreme Desk Decorations, Ltd</td><td>Sarah McRoy</td><td>2004-04-14</td><td>31670.37</td></tr><tr><td>Barry Jones</td><td>415</td><td>Bavarian Collectables Imports, Co.</td><td>Michael Donnermeyer</td><td>2004-09-28</td><td>31310.09</td></tr><tr><td>Foon Yue Tseng</td><td>424</td><td>Classic Legends Inc.</td><td>Maria Hernandez</td><td>2004-12-07</td><td>25505.98</td></tr><tr><td>Foon Yue Tseng</td><td>424</td><td>Classic Legends Inc.</td><td>Maria Hernandez</td><td>2003-04-16</td><td>21665.98</td></tr><tr><td>Foon Yue Tseng</td><td>424</td><td>Classic Legends Inc.</td><td>Maria Hernandez</td><td>2003-10-31</td><td>22042.37</td></tr><tr><td>George Vanauf</td><td>447</td><td>Gift Ideas Corp.</td><td>Dan Lewis</td><td>2003-09-15</td><td>6631.36</td></tr><tr><td>George Vanauf</td><td>447</td><td>Gift Ideas Corp.</td><td>Dan Lewis</td><td>2003-06-25</td><td>17032.29</td></tr><tr><td>George Vanauf</td><td>447</td><td>Gift Ideas Corp.</td><td>Dan Lewis</td><td>2004-12-17</td><td>26304.13</td></tr><tr><td>Barry Jones</td><td>448</td><td>Scandinavian Gift Ideas</td><td>Martha Larsson</td><td>2005-04-18</td><td>27966.54</td></tr><tr><td>Barry Jones</td><td>448</td><td>Scandinavian Gift Ideas</td><td>Martha Larsson</td><td>2004-09-30</td><td>48809.90</td></tr><tr><td>Leslie Jennings</td><td>450</td><td>The Sharp Gifts Warehouse</td><td>Sue Frick</td><td>2004-06-21</td><td>59551.38</td></tr><tr><td>Pamela Castillo</td><td>452</td><td>Mini Auto Werke</td><td>Roland  Mendel</td><td>2003-11-15</td><td>27121.90</td></tr><tr><td>Pamela Castillo</td><td>452</td><td>Mini Auto Werke</td><td>Roland  Mendel</td><td>2003-11-20</td><td>15130.97</td></tr><tr><td>Pamela Castillo</td><td>452</td><td>Mini Auto Werke</td><td>Roland  Mendel</td><td>2005-05-03</td><td>8807.12</td></tr><tr><td>Foon Yue Tseng</td><td>455</td><td>Super Scale Inc.</td><td>Leslie Murphy</td><td>2003-12-05</td><td>38139.18</td></tr><tr><td>Foon Yue Tseng</td><td>455</td><td>Super Scale Inc.</td><td>Leslie Murphy</td><td>2004-05-12</td><td>32239.47</td></tr><tr><td>Foon Yue Tseng</td><td>456</td><td>Microscale Inc.</td><td>Yu Choi</td><td>2004-11-13</td><td>27550.51</td></tr><tr><td>Foon Yue Tseng</td><td>456</td><td>Microscale Inc.</td><td>Yu Choi</td><td>2004-04-30</td><td>1679.92</td></tr><tr><td>Martin Gerard</td><td>458</td><td>Corrida Auto Replicas, Ltd</td><td>Martín  Sommer</td><td>2004-11-15</td><td>33145.56</td></tr><tr><td>Martin Gerard</td><td>458</td><td>Corrida Auto Replicas, Ltd</td><td>Martín  Sommer</td><td>2004-02-06</td><td>22162.61</td></tr><tr><td>Martin Gerard</td><td>458</td><td>Corrida Auto Replicas, Ltd</td><td>Martín  Sommer</td><td>2003-06-13</td><td>57131.92</td></tr><tr><td>Steve Patterson</td><td>462</td><td>FunGiftIdeas.com</td><td>Violeta Benitez</td><td>2005-04-15</td><td>30293.77</td></tr><tr><td>Steve Patterson</td><td>462</td><td>FunGiftIdeas.com</td><td>Violeta Benitez</td><td>2003-11-08</td><td>9977.85</td></tr><tr><td>Steve Patterson</td><td>462</td><td>FunGiftIdeas.com</td><td>Violeta Benitez</td><td>2004-11-27</td><td>48355.87</td></tr><tr><td>Andy Fixter</td><td>471</td><td>Australian Collectables, Ltd</td><td>Sean Clenahan</td><td>2004-07-28</td><td>9415.13</td></tr><tr><td>Andy Fixter</td><td>471</td><td>Australian Collectables, Ltd</td><td>Sean Clenahan</td><td>2003-12-10</td><td>35505.63</td></tr><tr><td>Pamela Castillo</td><td>473</td><td>Frau da Collezione</td><td>Franco Ricotti</td><td>2004-02-17</td><td>7612.06</td></tr><tr><td>Pamela Castillo</td><td>473</td><td>Frau da Collezione</td><td>Franco Ricotti</td><td>2003-10-27</td><td>17746.26</td></tr><tr><td>Leslie Thompson</td><td>475</td><td>West Coast Collectables Co.</td><td>Steve Thompson</td><td>2003-12-09</td><td>7678.25</td></tr><tr><td>Leslie Thompson</td><td>475</td><td>West Coast Collectables Co.</td><td>Steve Thompson</td><td>2004-02-13</td><td>36070.47</td></tr><tr><td>Martin Gerard</td><td>484</td><td>Iberia Gift Imports, Corp.</td><td>José Pedro  Roel</td><td>2004-10-26</td><td>3474.66</td></tr><tr><td>Martin Gerard</td><td>484</td><td>Iberia Gift Imports, Corp.</td><td>José Pedro  Roel</td><td>2003-11-29</td><td>47513.19</td></tr><tr><td>George Vanauf</td><td>486</td><td>Motor Mint Distributors Inc.</td><td>Rosa Salazar</td><td>2004-04-14</td><td>5899.38</td></tr><tr><td>George Vanauf</td><td>486</td><td>Motor Mint Distributors Inc.</td><td>Rosa Salazar</td><td>2004-11-23</td><td>45994.07</td></tr><tr><td>George Vanauf</td><td>486</td><td>Motor Mint Distributors Inc.</td><td>Rosa Salazar</td><td>2003-03-20</td><td>25833.14</td></tr><tr><td>Leslie Jennings</td><td>487</td><td>Signal Collectibles Ltd.</td><td>Sue Taylor</td><td>2003-09-28</td><td>29997.09</td></tr><tr><td>Leslie Jennings</td><td>487</td><td>Signal Collectibles Ltd.</td><td>Sue Taylor</td><td>2004-02-29</td><td>12573.28</td></tr><tr><td>Larry Bott</td><td>489</td><td>Double Decker Gift Stores, Ltd</td><td>Thomas  Smith</td><td>2003-12-04</td><td>22275.73</td></tr><tr><td>Larry Bott</td><td>489</td><td>Double Decker Gift Stores, Ltd</td><td>Thomas  Smith</td><td>2004-01-31</td><td>7310.42</td></tr><tr><td>Julie Firrelli</td><td>495</td><td>Diecast Collectables</td><td>Valarie Franco</td><td>2003-12-26</td><td>59265.14</td></tr><tr><td>Julie Firrelli</td><td>495</td><td>Diecast Collectables</td><td>Valarie Franco</td><td>2004-05-14</td><td>6276.60</td></tr></table>"
                    },
                    "metadata": {}
                }
            ],
            "execution_count": 27
        }
    ]
}